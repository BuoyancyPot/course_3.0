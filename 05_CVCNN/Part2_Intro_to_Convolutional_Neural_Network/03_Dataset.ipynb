{
 "cells": [
  {
   "cell_type": "code",
   "execution_count": null,
   "id": "c51467d1-7c76-4d6c-a88f-32e9c0d7d9a5",
   "metadata": {},
   "outputs": [],
   "source": [
    "# 下載課程所需檔案\n",
    "!wget \"https://github.com/TA-aiacademy/course_3.0/releases/download/CVCNN_Data/cnn_part2_data.zip\"\n",
    "!unzip cnn_part2_data.zip"
   ]
  },
  {
   "cell_type": "markdown",
   "id": "9ea51346",
   "metadata": {},
   "source": [
    "# Data Augmentation"
   ]
  },
  {
   "cell_type": "markdown",
   "id": "dc105f0a",
   "metadata": {},
   "source": [
    "## 本章節大綱\n",
    "* [讀取資料](#讀取資料)\n",
    "* [建立模型並訓練](#建立模型並訓練)\n",
    "* [亮度 Brightness](#亮度-Brightness)\n",
    "* [色調 Hue](#色調-Hue)\n",
    "* [飽和度 Saturation](#飽和度-Saturation)\n",
    "* [品質 Quality](品質-Quality)\n",
    "* [翻轉 Flip](翻轉-Flip)\n",
    "* [旋轉 Rotation](#旋轉-Rotation)\n",
    "* [裁剪 Crop](#裁剪-Crop)\n",
    "* [隨機 Zoom](#縮放-Zoom)\n",
    "* [隨機高度 RandomHeight](#隨機高度-RandomHeight)\n",
    "* [隨機寬度 RandomWidth](#隨機寬度-RandomWidth)\n",
    "* [隨機平移 RandomTranslation](#隨機平移-RandomTranslation)\n",
    "* [綜合](#整合)"
   ]
  },
  {
   "cell_type": "markdown",
   "id": "3bce9323",
   "metadata": {},
   "source": [
    "* ## 讀取資料\n"
   ]
  },
  {
   "cell_type": "code",
   "execution_count": null,
   "id": "80244a0d",
   "metadata": {},
   "outputs": [],
   "source": [
    "import tensorflow as tf\n"
   ]
  },
  {
   "cell_type": "code",
   "execution_count": null,
   "id": "2b226395",
   "metadata": {},
   "outputs": [],
   "source": [
    "import pandas as pd\n",
    "import numpy as np\n",
    "import matplotlib.pyplot as plt\n",
    "import os\n",
    "import cv2"
   ]
  },
  {
   "cell_type": "code",
   "execution_count": null,
   "id": "a89e6274",
   "metadata": {},
   "outputs": [],
   "source": []
  },
  {
   "cell_type": "code",
   "execution_count": null,
   "id": "217f9597",
   "metadata": {},
   "outputs": [],
   "source": [
    "# 讀取訓練資料的 csv\n",
    "datalist = pd.read_csv(\"./data/cat_dog_df.csv\", index_col=False) "
   ]
  },
  {
   "cell_type": "code",
   "execution_count": null,
   "id": "fabea7dd",
   "metadata": {},
   "outputs": [],
   "source": [
    "datalist"
   ]
  },
  {
   "cell_type": "code",
   "execution_count": null,
   "id": "f56da36e",
   "metadata": {},
   "outputs": [],
   "source": [
    "import random\n",
    "def my_preprocess(image):\n",
    "    image = cv2.resize(image, (256, 256))\n",
    "    return image\n",
    "def data_generater() :\n",
    "    datalist = pd.read_csv(\"./data/cat_dog_df.csv\", index_col=False) \n",
    "    # 打亂資料順序\n",
    "    data = list(zip(datalist['file_name']\n",
    "                    ,datalist['type']))\n",
    "    random.shuffle(data)\n",
    "    # 讀取 data 中的資料，將路徑中的圖片一張一張讀取\n",
    "    for path, label in data:\n",
    "        image = cv2.imread(path)\n",
    "        image = cv2.cvtColor(image, cv2.COLOR_BGR2RGB)# BGR2RGB \n",
    "        image = my_preprocess(image)\n",
    "        yield image, [1,0] if label == 0 else [0,1]"
   ]
  },
  {
   "cell_type": "code",
   "execution_count": null,
   "id": "ffb92e4f",
   "metadata": {},
   "outputs": [],
   "source": []
  },
  {
   "cell_type": "code",
   "execution_count": null,
   "id": "4f730310",
   "metadata": {},
   "outputs": [],
   "source": [
    "# 使用 tf.data.Dataset 製造一個 Dataset\n",
    "# output_signature : 輸出的格式\n",
    "dataset = tf.data.Dataset.from_generator(data_generater,\n",
    "                                         output_signature=( \n",
    "                                             tf.TensorSpec(shape=(256,256,3), dtype=tf.float32),\n",
    "                                             tf.TensorSpec(shape=(2), dtype=tf.float32)))"
   ]
  },
  {
   "cell_type": "code",
   "execution_count": null,
   "id": "f782df65",
   "metadata": {},
   "outputs": [],
   "source": [
    "# 畫圖\n",
    "def my_plot(datas):\n",
    "    plt.figure(figsize=(13, 7))\n",
    "    for i,data in enumerate(datas):\n",
    "        plt.subplot(2, 4, i+1)\n",
    "        plt.imshow(data[0].numpy().astype('uint8'))\n",
    "        plt.title(\"Label: {}\".format(data[1]), fontsize=16)\n",
    "    plt.show()\n",
    "my_plot(dataset.take(8))"
   ]
  },
  {
   "cell_type": "markdown",
   "id": "ad3ef583",
   "metadata": {},
   "source": [
    "* ## 建立模型並訓練\n"
   ]
  },
  {
   "cell_type": "code",
   "execution_count": null,
   "id": "badb39f3",
   "metadata": {},
   "outputs": [],
   "source": [
    "from tensorflow.keras.models import Sequential, Model\n",
    "from tensorflow.keras.layers import (Input, Dense, Dropout, Activation,\n",
    "                                     BatchNormalization, Flatten,\n",
    "                                     Conv2D, MaxPooling2D)"
   ]
  },
  {
   "cell_type": "code",
   "execution_count": null,
   "id": "692c76d6",
   "metadata": {},
   "outputs": [],
   "source": [
    "# 選擇 Keras 的 API 寫法\n",
    "inputs = Input(shape=(256,256,3))\n",
    "\n",
    "# 第一層\n",
    "# 建立卷積層，設定32個3*3的filters\n",
    "# 設定ReLU為激活函數。\n",
    "x = Conv2D(32, (3, 3), activation='relu')(inputs)\n",
    "\n",
    "# 第二層 - 卷積層 + 池化層\n",
    "x = Conv2D(32, (3, 3), activation='relu')(x)\n",
    "x = MaxPooling2D(pool_size=(2, 2))(x)\n",
    "\n",
    "# 第三層 - 卷積層\n",
    "x = Conv2D(64, (3, 3), activation='relu')(x)\n",
    "\n",
    "# 第四層 - 卷積層 + 池化層\n",
    "x = Conv2D(64, (3, 3), activation='relu')(x)\n",
    "x = MaxPooling2D(pool_size=(2, 2))(x)\n",
    "\n",
    "# 建立分類模型 (MLP) : 平坦層 + 輸出層 (10)\n",
    "x = Flatten()(x)\n",
    "outputs = Dense(2, activation='softmax')(x)\n",
    "\n",
    "\n",
    "cnn_model = Model(inputs=inputs, outputs=outputs)\n",
    "learning_rate = 0.0001\n",
    "optimizer = tf.keras.optimizers.Adam(learning_rate=learning_rate)\n",
    "\n",
    "cnn_model.compile(loss='categorical_crossentropy',\n",
    "                  optimizer=optimizer,\n",
    "                  metrics=['accuracy'])"
   ]
  },
  {
   "cell_type": "code",
   "execution_count": null,
   "id": "59eef49c",
   "metadata": {},
   "outputs": [],
   "source": [
    "# 將資料集批次存取\n",
    "dataset_batch = dataset.batch(128).cache()"
   ]
  },
  {
   "cell_type": "code",
   "execution_count": null,
   "id": "4c2dad5b",
   "metadata": {},
   "outputs": [],
   "source": [
    "# 訓練時直接給 dataset 即可\n",
    "cnn_model.fit(dataset_batch, epochs=2)"
   ]
  },
  {
   "cell_type": "markdown",
   "id": "05d43f71",
   "metadata": {},
   "source": [
    "# 資料擴增\n",
    "\n",
    "## 圖像調整使用 tf.image\n",
    "- 圖像調整：亮度、對比度、色調、飽和度、品質、翻轉\n",
    "\n",
    "## 圖像旋轉使用 tf.keras.layers\n",
    "- 圖像旋轉：剪裁、翻轉、旋轉、縮放、高度、寬度"
   ]
  },
  {
   "cell_type": "markdown",
   "id": "8d5cc017",
   "metadata": {},
   "source": [
    "* ## 亮度 Brightness\n",
    "\n",
    " * max_delta：調整的幅度，0 ~ 1"
   ]
  },
  {
   "cell_type": "code",
   "execution_count": null,
   "id": "5c0cf8f4",
   "metadata": {},
   "outputs": [],
   "source": [
    "def my_preprocess(image):\n",
    "    image = cv2.resize(image, (256, 256))\n",
    "    image = tf.image.random_brightness(image, \n",
    "                                       max_delta = 0.4)\n",
    "    image = tf.cast(image, tf.uint8)\n",
    "    return image"
   ]
  },
  {
   "cell_type": "code",
   "execution_count": null,
   "id": "4f6a2538",
   "metadata": {},
   "outputs": [],
   "source": [
    "my_plot(dataset.take(8))"
   ]
  },
  {
   "cell_type": "markdown",
   "id": "bde839ca",
   "metadata": {},
   "source": [
    "[(back...)](#本章節大綱)"
   ]
  },
  {
   "cell_type": "markdown",
   "id": "8009b50d",
   "metadata": {},
   "source": [
    "* ## 對比度 Contrast\n",
    "\n",
    " * lower：對比下限，0 ~ 1\n",
    " * upper：對比上限，0 ~ 1"
   ]
  },
  {
   "cell_type": "code",
   "execution_count": null,
   "id": "7366c7e5",
   "metadata": {},
   "outputs": [],
   "source": [
    "def my_preprocess(image):\n",
    "    image = cv2.resize(image, (256, 256))\n",
    "    image = tf.image.random_contrast(image,\n",
    "                                     lower = 0.2,\n",
    "                                     upper = 0.7)\n",
    "    image = tf.cast(image, tf.uint8)\n",
    "    return image"
   ]
  },
  {
   "cell_type": "code",
   "execution_count": null,
   "id": "7cda9d2b",
   "metadata": {},
   "outputs": [],
   "source": [
    "my_plot(dataset.take(8))"
   ]
  },
  {
   "cell_type": "markdown",
   "id": "b4db1e80",
   "metadata": {},
   "source": [
    "* ## 色調 Hue\n",
    "\n",
    " * max_delta：調整範圍，0 ~ 1"
   ]
  },
  {
   "cell_type": "code",
   "execution_count": null,
   "id": "18da2108",
   "metadata": {},
   "outputs": [],
   "source": [
    "def my_preprocess(image):\n",
    "    image = cv2.resize(image, (256, 256))\n",
    "    image = tf.image.random_hue(image,\n",
    "                                max_delta = 0.4)\n",
    "    image = tf.cast(image, tf.uint8)\n",
    "    return image"
   ]
  },
  {
   "cell_type": "code",
   "execution_count": null,
   "id": "eadc809f",
   "metadata": {},
   "outputs": [],
   "source": [
    "my_plot(dataset.take(8))"
   ]
  },
  {
   "cell_type": "markdown",
   "id": "89cbd9a8",
   "metadata": {},
   "source": [
    "[(back...)](#本章節大綱)"
   ]
  },
  {
   "cell_type": "markdown",
   "id": "cfc9fd14",
   "metadata": {},
   "source": [
    "* ## 飽和度 Saturation\n",
    "\n",
    " * lower：飽和度下限\n",
    " * upper：飽和度上限"
   ]
  },
  {
   "cell_type": "code",
   "execution_count": null,
   "id": "d67e4e78",
   "metadata": {},
   "outputs": [],
   "source": [
    "def my_preprocess(image):\n",
    "    image = cv2.resize(image, (256, 256))\n",
    "    image = tf.image.random_saturation(image,\n",
    "                                       lower = 2,\n",
    "                                       upper = 5)\n",
    "    image = tf.cast(image, tf.uint8)\n",
    "    return image"
   ]
  },
  {
   "cell_type": "code",
   "execution_count": null,
   "id": "466a2d61",
   "metadata": {},
   "outputs": [],
   "source": [
    "my_plot(dataset.take(8))"
   ]
  },
  {
   "cell_type": "markdown",
   "id": "eeb14201",
   "metadata": {},
   "source": [
    "[(back...)](#本章節大綱)"
   ]
  },
  {
   "cell_type": "markdown",
   "id": "ac492e15",
   "metadata": {},
   "source": [
    "* ## 品質 Quality\n",
    " * min_jpeg_quality：品質下限，0 ~ 100\n",
    " * max_jpeg_quality：品質上限，0 ~ 100"
   ]
  },
  {
   "cell_type": "code",
   "execution_count": null,
   "id": "f4de7517",
   "metadata": {},
   "outputs": [],
   "source": [
    "def my_preprocess(image):\n",
    "    image = cv2.resize(image, (256, 256))\n",
    "    image = tf.image.random_jpeg_quality(image,\n",
    "                                         min_jpeg_quality = 0,\n",
    "                                         max_jpeg_quality = 100)\n",
    "    image = tf.cast(image, tf.uint8)\n",
    "    return image"
   ]
  },
  {
   "cell_type": "code",
   "execution_count": null,
   "id": "b176ed41",
   "metadata": {},
   "outputs": [],
   "source": [
    "my_plot(dataset.take(8))"
   ]
  },
  {
   "cell_type": "markdown",
   "id": "d18ec3f0",
   "metadata": {},
   "source": [
    "[(back...)](#本章節大綱)"
   ]
  },
  {
   "cell_type": "markdown",
   "id": "b7c90c5c",
   "metadata": {},
   "source": [
    "* ## 翻轉 Flip\n",
    "\n",
    " * random_flip_left_right：隨機水平翻轉\n",
    " * random_flip_up_down：隨機垂直翻轉\n"
   ]
  },
  {
   "cell_type": "code",
   "execution_count": null,
   "id": "7b5e53b1",
   "metadata": {},
   "outputs": [],
   "source": [
    "def my_preprocess(image):\n",
    "    image = cv2.resize(image, (256, 256))\n",
    "    image = tf.image.random_flip_left_right(image)\n",
    "    image = tf.image.random_flip_up_down(image)\n",
    "    image = tf.cast(image, tf.uint8)\n",
    "    return image"
   ]
  },
  {
   "cell_type": "code",
   "execution_count": null,
   "id": "caab452a",
   "metadata": {},
   "outputs": [],
   "source": [
    "my_plot(dataset.take(8))"
   ]
  },
  {
   "cell_type": "markdown",
   "id": "e7630488",
   "metadata": {},
   "source": [
    "* ## 翻轉2 Flip\n",
    "\n",
    " * horizontal_and_vertical：隨機水平垂直翻轉\n",
    " * vertical：隨機垂直翻轉\n",
    " * horizontal：隨機水平翻轉\n"
   ]
  },
  {
   "cell_type": "code",
   "execution_count": null,
   "id": "43fa69de",
   "metadata": {},
   "outputs": [],
   "source": [
    "my_data_augmentation = tf.keras.Sequential(\n",
    "    [\n",
    "        layers.RandomFlip(\"horizontal_and_vertical\"),\n",
    "    ]\n",
    ")\n"
   ]
  },
  {
   "cell_type": "code",
   "execution_count": null,
   "id": "f1583e9a",
   "metadata": {},
   "outputs": [],
   "source": [
    "augment_dataset = dataset.map(lambda x, y: (my_data_augmentation(x), y))\n",
    "my_plot(augment_dataset.take(8))"
   ]
  },
  {
   "cell_type": "markdown",
   "id": "9675f419",
   "metadata": {},
   "source": [
    "[(back...)](#本章節大綱)"
   ]
  },
  {
   "cell_type": "markdown",
   "id": "c6d64e88",
   "metadata": {},
   "source": [
    "* ## 旋轉 Rotation\n",
    "\n",
    " * factor 旋轉角度，(-0.2, 0.3) 代表從-20% * 2pi ~ 30% * 2pi 的區間縮放 \n",
    " * fill_mode：超過邊界填補方法，有 'nearest', 'constant', 'reflect', 'wrap'，四種方法可選擇 (default：'reflect')\n",
    " \n",
    "- reflect: (d c b a | a b c d | d c b a) The input is extended by reflecting about the edge of the last pixel.\n",
    "- constant: (k k k k | a b c d | k k k k) The input is extended by filling all values beyond the edge with the same constant value k = 0.\n",
    "- wrap: (a b c d | a b c d | a b c d) The input is extended by wrapping around to the opposite edge.\n",
    "- nearest: (a a a a | a b c d | d d d d) The input is extended by the nearest pixel.\n"
   ]
  },
  {
   "cell_type": "code",
   "execution_count": null,
   "id": "1d2e6ccd",
   "metadata": {},
   "outputs": [],
   "source": [
    "my_data_augmentation = tf.keras.Sequential(\n",
    "    [\n",
    "        layers.RandomRotation(factor = (-0.3, 0.3),\n",
    "                             fill_mode = \"reflect\")\n",
    "    ]\n",
    ")\n"
   ]
  },
  {
   "cell_type": "code",
   "execution_count": null,
   "id": "31e14a54",
   "metadata": {},
   "outputs": [],
   "source": [
    "augment_dataset = dataset.map(lambda x, y: (my_data_augmentation(x), y))\n",
    "my_plot(augment_dataset.take(8))"
   ]
  },
  {
   "cell_type": "markdown",
   "id": "f067519b",
   "metadata": {},
   "source": [
    "[(back...)](#本章節大綱)"
   ]
  },
  {
   "cell_type": "markdown",
   "id": "137090c9",
   "metadata": {},
   "source": [
    "* ## 裁剪 Crop\n",
    "\n",
    " * height：裁減高度 \n",
    " * width：裁減寬度\n"
   ]
  },
  {
   "cell_type": "code",
   "execution_count": null,
   "id": "a4fe24d3",
   "metadata": {},
   "outputs": [],
   "source": [
    "my_data_augmentation = tf.keras.Sequential(\n",
    "    [\n",
    "        layers.RandomCrop(height = 100,\n",
    "                          width = 100)\n",
    "    ]\n",
    ")\n"
   ]
  },
  {
   "cell_type": "code",
   "execution_count": null,
   "id": "531215b7",
   "metadata": {},
   "outputs": [],
   "source": [
    "augment_dataset = dataset.map(lambda x, y: (my_data_augmentation(x), y))\n",
    "my_plot(augment_dataset.take(8))"
   ]
  },
  {
   "cell_type": "markdown",
   "id": "dc0d887a",
   "metadata": {},
   "source": [
    "[(back...)](#本章節大綱)"
   ]
  },
  {
   "cell_type": "markdown",
   "id": "dfb7a28a",
   "metadata": {},
   "source": [
    "* ## 縮放 Zoom\n",
    " * height_factor：高度調整比例，(-0.1, 0.1) 代表從-10% ~ 10%的區間縮放\n",
    " * width_factor：寬度調整比例，(-0.1, 0.1) 代表從-10% ~ 10%的區間縮放\n",
    " * fill_mode：超過邊界填補方法，有 'nearest', 'constant', 'reflect', 'wrap'，四種方法可選擇 (default：'reflect')\n",
    "     - reflect: (d c b a | a b c d | d c b a) The input is extended by reflecting about the edge of the last pixel.\n",
    "     - constant: (k k k k | a b c d | k k k k) The input is extended by filling all values beyond the edge with the same constant value k = 0.\n",
    "     - wrap: (a b c d | a b c d | a b c d) The input is extended by wrapping around to the opposite edge.\n",
    "     - nearest: (a a a a | a b c d | d d d d) The input is extended by the nearest pixel."
   ]
  },
  {
   "cell_type": "code",
   "execution_count": null,
   "id": "224b15a9",
   "metadata": {},
   "outputs": [],
   "source": [
    "my_data_augmentation = tf.keras.Sequential(\n",
    "    [\n",
    "        layers.RandomZoom(height_factor = (-0.5, 0.5),\n",
    "                          width_factor = (-0.5, 0.5),\n",
    "                          fill_mode = \"nearest\")                          \n",
    "    ]\n",
    ")\n"
   ]
  },
  {
   "cell_type": "code",
   "execution_count": null,
   "id": "238a7745",
   "metadata": {},
   "outputs": [],
   "source": [
    "augment_dataset = dataset.map(lambda x, y: (my_data_augmentation(x), y))\n",
    "my_plot(augment_dataset.take(8))"
   ]
  },
  {
   "cell_type": "markdown",
   "id": "01895f9d",
   "metadata": {},
   "source": [
    "[(back...)](#本章節大綱)"
   ]
  },
  {
   "cell_type": "markdown",
   "id": "dc3f8f82",
   "metadata": {},
   "source": [
    "* ## 隨機高度 RandomHeight\n",
    "\n",
    " * factor：調整比例，(-0.1, 0.1) 代表從-10% ~ 10%的區間縮放\n",
    " * interpolation：填補方法\n"
   ]
  },
  {
   "cell_type": "code",
   "execution_count": null,
   "id": "09a7fbf1",
   "metadata": {},
   "outputs": [],
   "source": [
    "my_data_augmentation = tf.keras.Sequential(\n",
    "    [\n",
    "        layers.RandomHeight(factor = (-0.8, 0.8),\n",
    "                            interpolation = 'bilinear')\n",
    "    ]\n",
    ")\n"
   ]
  },
  {
   "cell_type": "code",
   "execution_count": null,
   "id": "fb49ab14",
   "metadata": {},
   "outputs": [],
   "source": [
    "augment_dataset = dataset.map(lambda x, y: (my_data_augmentation(x), y))\n",
    "my_plot(augment_dataset.take(8))"
   ]
  },
  {
   "cell_type": "markdown",
   "id": "37c96f62",
   "metadata": {},
   "source": [
    "[(back...)](#本章節大綱)"
   ]
  },
  {
   "cell_type": "markdown",
   "id": "c294dd1b",
   "metadata": {},
   "source": [
    "* ## 隨機寬度 RandomWidth\n",
    "\n",
    " * factor：調整比例，(-0.1, 0.1) 代表從-10% ~ 10%的區間縮放\n"
   ]
  },
  {
   "cell_type": "code",
   "execution_count": null,
   "id": "0e96d3e4",
   "metadata": {},
   "outputs": [],
   "source": [
    "my_data_augmentation = tf.keras.Sequential(\n",
    "    [\n",
    "        layers.RandomWidth(factor = (-0.8, 0.8),\n",
    "                            interpolation = 'bilinear')\n",
    "    ]\n",
    ")\n"
   ]
  },
  {
   "cell_type": "code",
   "execution_count": null,
   "id": "e5cb47c8",
   "metadata": {},
   "outputs": [],
   "source": [
    "augment_dataset = dataset.map(lambda x, y: (my_data_augmentation(x), y))\n",
    "my_plot(augment_dataset.take(8))"
   ]
  },
  {
   "cell_type": "markdown",
   "id": "c155a505",
   "metadata": {},
   "source": [
    "[(back...)](#本章節大綱)"
   ]
  },
  {
   "cell_type": "markdown",
   "id": "bc463a64",
   "metadata": {},
   "source": [
    "* ## 隨機平移 RandomTranslation\n",
    " * height_factor：高度調整比例，(-0.1, 0.1) 代表從-10% ~ 10%的區間平移\n",
    " * width_factor：寬度調整比例，(-0.1, 0.1) 代表從-10% ~ 10%的區間平移\n",
    " * fill_mode：超過邊界填補方法，有 'nearest', 'constant', 'reflect', 'wrap'，四種方法可選擇 (default：'reflect')\n",
    "     - reflect: (d c b a | a b c d | d c b a) The input is extended by reflecting about the edge of the last pixel.\n",
    "     - constant: (k k k k | a b c d | k k k k) The input is extended by filling all values beyond the edge with the same constant value k = 0.\n",
    "     - wrap: (a b c d | a b c d | a b c d) The input is extended by wrapping around to the opposite edge.\n",
    "     - nearest: (a a a a | a b c d | d d d d) The input is extended by the nearest pixel."
   ]
  },
  {
   "cell_type": "code",
   "execution_count": null,
   "id": "c4befbf2",
   "metadata": {},
   "outputs": [],
   "source": [
    "my_data_augmentation = tf.keras.Sequential(\n",
    "    [\n",
    "        layers.RandomTranslation(height_factor = (-0.3, 0.3),\n",
    "                          width_factor = (-0.3, 0.3),\n",
    "                          fill_mode = \"reflect\")\n",
    "    ]\n",
    ")\n"
   ]
  },
  {
   "cell_type": "code",
   "execution_count": null,
   "id": "fdf57962",
   "metadata": {},
   "outputs": [],
   "source": [
    "augment_dataset = dataset.map(lambda x, y: (my_data_augmentation(x), y))\n",
    "my_plot(augment_dataset.take(8))"
   ]
  },
  {
   "cell_type": "markdown",
   "id": "f7b9ab7e",
   "metadata": {},
   "source": [
    "[(back...)](#本章節大綱)"
   ]
  },
  {
   "cell_type": "markdown",
   "id": "a34a6a5d",
   "metadata": {},
   "source": [
    "# 整合"
   ]
  },
  {
   "cell_type": "code",
   "execution_count": null,
   "id": "3d7db98f",
   "metadata": {},
   "outputs": [],
   "source": [
    "def my_preprocess(image):\n",
    "    image = cv2.resize(image, (256, 256))\n",
    "    # 亮度\n",
    "    image = tf.image.random_brightness(image, \n",
    "                                       max_delta = 0.2)\n",
    "    # 對比度\n",
    "    image = tf.image.random_contrast(image,\n",
    "                                     lower = 0.5,\n",
    "                                     upper = 1)\n",
    "    # 色調\n",
    "    image = tf.image.random_hue(image,\n",
    "                                max_delta = 0.4)\n",
    "    # 飽和度\n",
    "    image = tf.image.random_saturation(image,\n",
    "                                       lower = 1,\n",
    "                                       upper = 5)\n",
    "    # 品質\n",
    "    image = tf.image.random_jpeg_quality(image,\n",
    "                                         min_jpeg_quality = 20,\n",
    "                                         max_jpeg_quality = 100)\n",
    "    image = tf.cast(image, tf.uint8)\n",
    "    return image"
   ]
  },
  {
   "cell_type": "code",
   "execution_count": null,
   "id": "60016049",
   "metadata": {},
   "outputs": [],
   "source": [
    "my_data_augmentation = tf.keras.Sequential(\n",
    "    [\n",
    "        # 旋轉\n",
    "        layers.RandomFlip(\"horizontal_and_vertical\"),\n",
    "        # 裁剪\n",
    "        layers.RandomCrop(height = 230,\n",
    "                          width = 230),\n",
    "        # 隨機高度\n",
    "        layers.RandomHeight(factor = (-0.3, 0.3),\n",
    "                            interpolation = 'bilinear'),\n",
    "        # 隨機寬度\n",
    "        layers.RandomWidth(factor = (-0.3, 0.3),\n",
    "                            interpolation = 'bilinear'),\n",
    "        # 隨機縮放\n",
    "        layers.RandomZoom(height_factor = (-0.3, 0.3),\n",
    "                          width_factor = (-0.3, 0.3),\n",
    "                          fill_mode = \"nearest\"),\n",
    "        # 隨機平移\n",
    "        layers.RandomTranslation(height_factor = (-0.3, 0.3),\n",
    "                          width_factor = (-0.3, 0.3),\n",
    "                          fill_mode = \"reflect\"),           \n",
    "    ]\n",
    ")\n"
   ]
  },
  {
   "cell_type": "code",
   "execution_count": null,
   "id": "5a1da03f",
   "metadata": {},
   "outputs": [],
   "source": [
    "augment_dataset = dataset.map(lambda x, y: (my_data_augmentation(x), y))\n",
    "my_plot(augment_dataset.take(8))"
   ]
  },
  {
   "cell_type": "markdown",
   "id": "685a5681",
   "metadata": {},
   "source": [
    "[(back...)](#本章節大綱)"
   ]
  },
  {
   "cell_type": "code",
   "execution_count": null,
   "id": "7e4cfafb",
   "metadata": {},
   "outputs": [],
   "source": []
  }
 ],
 "metadata": {
  "kernelspec": {
   "display_name": "Python 3 (ipykernel)",
   "language": "python",
   "name": "python3"
  },
  "language_info": {
   "codemirror_mode": {
    "name": "ipython",
    "version": 3
   },
   "file_extension": ".py",
   "mimetype": "text/x-python",
   "name": "python",
   "nbconvert_exporter": "python",
   "pygments_lexer": "ipython3",
   "version": "3.10.2"
  }
 },
 "nbformat": 4,
 "nbformat_minor": 5
}
