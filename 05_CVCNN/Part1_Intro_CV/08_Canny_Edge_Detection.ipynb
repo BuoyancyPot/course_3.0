{
 "cells": [
  {
   "cell_type": "markdown",
   "id": "f2bfa39e",
   "metadata": {
    "id": "4f524a6f"
   },
   "source": [
    "# Canny Edge Detection"
   ]
  },
  {
   "cell_type": "markdown",
   "id": "500ff639",
   "metadata": {
    "id": "3b1a000a"
   },
   "source": [
    "### 本章節內容大綱\n",
    "* [Canny Edge 邊緣偵測](#Canny-Edge-邊緣偵測)"
   ]
  },
  {
   "cell_type": "code",
   "execution_count": null,
   "id": "8c15bb74",
   "metadata": {
    "executionInfo": {
     "elapsed": 3,
     "status": "ok",
     "timestamp": 1676967013035,
     "user": {
      "displayName": "吳承澔",
      "userId": "17428420001093174904"
     },
     "user_tz": -480
    },
    "id": "87388e36"
   },
   "outputs": [],
   "source": [
    "import cv2\n",
    "import matplotlib.pyplot as plt"
   ]
  },
  {
   "cell_type": "markdown",
   "id": "79eb5aed",
   "metadata": {
    "id": "9710272c"
   },
   "source": [
    "* ## Canny Edge 邊緣偵測"
   ]
  },
  {
   "cell_type": "code",
   "execution_count": null,
   "id": "f0470ede",
   "metadata": {
    "id": "rZ65aUaxN4Mg"
   },
   "outputs": [],
   "source": [
    "# upload Data\n",
    "!wget -q https://github.com/TA-aiacademy/course_3.0/releases/download/CVCNN_Data/CVCNN_part1.zip\n",
    "!unzip -q CVCNN_part1.zip"
   ]
  },
  {
   "cell_type": "code",
   "execution_count": null,
   "id": "7fb99174",
   "metadata": {
    "executionInfo": {
     "elapsed": 3,
     "status": "ok",
     "timestamp": 1676967014180,
     "user": {
      "displayName": "吳承澔",
      "userId": "17428420001093174904"
     },
     "user_tz": -480
    },
    "id": "9c41f1a2"
   },
   "outputs": [],
   "source": [
    "image = cv2.imread(\"highway.jpg\")[:, :, ::-1]"
   ]
  },
  {
   "cell_type": "code",
   "execution_count": null,
   "id": "23c0410a",
   "metadata": {
    "colab": {
     "base_uri": "https://localhost:8080/",
     "height": 408
    },
    "executionInfo": {
     "elapsed": 1433,
     "status": "ok",
     "timestamp": 1676967015611,
     "user": {
      "displayName": "吳承澔",
      "userId": "17428420001093174904"
     },
     "user_tz": -480
    },
    "id": "0218259d",
    "outputId": "1c91a7cb-4f49-4bda-c8f1-5a1e48992823"
   },
   "outputs": [],
   "source": [
    "plt.figure(figsize=(12, 12))\n",
    "plt.imshow(image)\n",
    "plt.axis(\"off\")\n",
    "plt.show()"
   ]
  },
  {
   "cell_type": "code",
   "execution_count": null,
   "id": "3c79eefe",
   "metadata": {
    "colab": {
     "base_uri": "https://localhost:8080/",
     "height": 408
    },
    "executionInfo": {
     "elapsed": 9,
     "status": "ok",
     "timestamp": 1676967015611,
     "user": {
      "displayName": "吳承澔",
      "userId": "17428420001093174904"
     },
     "user_tz": -480
    },
    "id": "0e8bd2c3",
    "outputId": "36733030-7af0-4015-8ddb-a015eff2aae6"
   },
   "outputs": [],
   "source": [
    "gray = cv2.cvtColor(image, cv2.COLOR_RGB2GRAY)  # grayscale conversion\n",
    "plt.figure(figsize=(12, 12))\n",
    "plt.imshow(gray, cmap='gray')\n",
    "plt.axis(\"off\")\n",
    "plt.show()"
   ]
  },
  {
   "cell_type": "code",
   "execution_count": null,
   "id": "586af684",
   "metadata": {
    "executionInfo": {
     "elapsed": 8,
     "status": "ok",
     "timestamp": 1676967015612,
     "user": {
      "displayName": "吳承澔",
      "userId": "17428420001093174904"
     },
     "user_tz": -480
    },
    "id": "52473acf"
   },
   "outputs": [],
   "source": [
    "kernel_size = 3\n",
    "blur_gray = cv2.GaussianBlur(gray, (kernel_size, kernel_size), 0)"
   ]
  },
  {
   "cell_type": "code",
   "execution_count": null,
   "id": "4587ca7b",
   "metadata": {
    "executionInfo": {
     "elapsed": 8,
     "status": "ok",
     "timestamp": 1676967015612,
     "user": {
      "displayName": "吳承澔",
      "userId": "17428420001093174904"
     },
     "user_tz": -480
    },
    "id": "ebc44788"
   },
   "outputs": [],
   "source": [
    "low_threshold = 50\n",
    "high_threshold = 150\n",
    "edges = cv2.Canny(blur_gray, low_threshold, high_threshold)"
   ]
  },
  {
   "cell_type": "code",
   "execution_count": null,
   "id": "f163d228",
   "metadata": {
    "colab": {
     "base_uri": "https://localhost:8080/",
     "height": 408
    },
    "executionInfo": {
     "elapsed": 7,
     "status": "ok",
     "timestamp": 1676967015612,
     "user": {
      "displayName": "吳承澔",
      "userId": "17428420001093174904"
     },
     "user_tz": -480
    },
    "id": "84be2831",
    "outputId": "610ad6c7-dc74-4963-d98f-d7cf484e3706"
   },
   "outputs": [],
   "source": [
    "plt.figure(figsize=(12, 12))\n",
    "plt.imshow(edges, cmap='Greys_r')\n",
    "plt.axis(\"off\")\n",
    "plt.show()"
   ]
  },
  {
   "cell_type": "markdown",
   "id": "63765164",
   "metadata": {
    "id": "be638e2b"
   },
   "source": [
    "[(back...)](#Canny-Edge-邊緣偵測)"
   ]
  },
  {
   "cell_type": "code",
   "execution_count": null,
   "id": "66e705ef",
   "metadata": {},
   "outputs": [],
   "source": []
  }
 ],
 "metadata": {
  "colab": {
   "provenance": []
  },
  "kernelspec": {
   "display_name": "Python 3 (ipykernel)",
   "language": "python",
   "name": "python3"
  },
  "language_info": {
   "codemirror_mode": {
    "name": "ipython",
    "version": 3
   },
   "file_extension": ".py",
   "mimetype": "text/x-python",
   "name": "python",
   "nbconvert_exporter": "python",
   "pygments_lexer": "ipython3",
   "version": "3.7.12"
  }
 },
 "nbformat": 4,
 "nbformat_minor": 5
}
