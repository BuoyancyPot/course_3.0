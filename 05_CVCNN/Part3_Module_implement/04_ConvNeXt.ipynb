{
 "cells": [
  {
   "cell_type": "markdown",
   "id": "0ea504df",
   "metadata": {
    "id": "d30ff0ba"
   },
   "source": [
    "# **ConvNeXt**\n",
    "此份程式碼會介紹如何使用 tf.keras 的方式建構 ConvNeXt 的模型架構。"
   ]
  },
  {
   "cell_type": "markdown",
   "id": "b20b9b48",
   "metadata": {
    "id": "U_rmu4t6cgoI"
   },
   "source": [
    "<img src=\"https://i.imgur.com/aIZ2IgS.png\" width=600/>\n",
    "\n",
    "- [source paper](https://arxiv.org/abs/2201.03545)"
   ]
  },
  {
   "cell_type": "markdown",
   "id": "44afa2b5",
   "metadata": {},
   "source": [
    "## 匯入套件"
   ]
  },
  {
   "cell_type": "code",
   "execution_count": null,
   "id": "a4e00a1b",
   "metadata": {
    "id": "81d8af48"
   },
   "outputs": [],
   "source": [
    "import numpy as np\n",
    "import matplotlib.pyplot as plt\n",
    "\n",
    "# Tensorflow 相關套件\n",
    "import tensorflow as tf\n",
    "from tensorflow.keras import datasets, layers, Model, Sequential, losses"
   ]
  },
  {
   "cell_type": "markdown",
   "id": "e217d143",
   "metadata": {},
   "source": [
    "## 載入資料集"
   ]
  },
  {
   "cell_type": "code",
   "execution_count": null,
   "id": "af10cccb",
   "metadata": {
    "colab": {
     "base_uri": "https://localhost:8080/"
    },
    "executionInfo": {
     "elapsed": 7729,
     "status": "ok",
     "timestamp": 1677070536353,
     "user": {
      "displayName": "吳承澔",
      "userId": "17428420001093174904"
     },
     "user_tz": -480
    },
    "id": "026cc8b7",
    "outputId": "ce13436f-b6b7-49e5-d00a-26a267cc2c84"
   },
   "outputs": [
    {
     "name": "stdout",
     "output_type": "stream",
     "text": [
      "Downloading data from https://storage.googleapis.com/tensorflow/tf-keras-datasets/mnist.npz\n",
      "11490434/11490434 [==============================] - 2s 0us/step\n",
      "x_train shape:(60000, 28, 28, 1)\n",
      "x_test shape:(10000, 28, 28, 1)\n",
      "----------\n",
      "x_train shape:(60000, 28, 28, 3)\n",
      "x_test shape:(10000, 28, 28, 3)\n",
      "----------\n",
      "x_train shape:(48000, 28, 28, 3), x_val shape:(12000, 28, 28, 3)\n",
      "y_train shape:(48000,), y_val shape:(12000,)\n"
     ]
    }
   ],
   "source": [
    "(x_train, y_train), (x_test, y_test) = datasets.mnist.load_data()\n",
    "\n",
    "# Expand dimensions\n",
    "x_train = tf.expand_dims(x_train, axis=3, name=None)\n",
    "x_test = tf.expand_dims(x_test, axis=3, name=None)\n",
    "print(f'x_train shape: {x_train.shape}')\n",
    "print(f'x_test shape: {x_test.shape}')\n",
    "print('----------')\n",
    "\n",
    "# Grayscale to RGB\n",
    "x_train = tf.repeat(x_train, 3, axis=3)\n",
    "x_test = tf.repeat(x_test, 3, axis=3)\n",
    "print(f'x_train shape: {x_train.shape}')\n",
    "print(f'x_test shape: {x_test.shape}')\n",
    "print('----------')\n",
    "\n",
    "# Split dataset into training and validation data\n",
    "x_val = x_train[int(x_train.shape[0]*0.8):, :, :, :]\n",
    "y_val = y_train[int(y_train.shape[0]*0.8):]\n",
    "x_train = x_train[:int(x_train.shape[0]*0.8), :, :, :]\n",
    "y_train = y_train[:int(y_train.shape[0]*0.8)]\n",
    "print(f'x_train shape: {x_train.shape}, x_val shape: {x_val.shape}')\n",
    "print(f'y_train shape: {y_train.shape}, y_val shape: {y_val.shape}')"
   ]
  },
  {
   "cell_type": "markdown",
   "id": "143b52f7",
   "metadata": {
    "id": "6b7e70d9"
   },
   "source": [
    "* ## API function"
   ]
  },
  {
   "cell_type": "code",
   "execution_count": null,
   "id": "a81a5fa9",
   "metadata": {},
   "outputs": [],
   "source": [
    "labels_num = 10"
   ]
  },
  {
   "cell_type": "code",
   "execution_count": 4,
   "id": "c0ee61e9",
   "metadata": {
    "executionInfo": {
     "elapsed": 312,
     "status": "ok",
     "timestamp": 1677075780542,
     "user": {
      "displayName": "吳承澔",
      "userId": "17428420001093174904"
     },
     "user_tz": -480
    },
    "id": "ff6da160"
   },
   "outputs": [],
   "source": [
    "filters_num = 64\n",
    "\n",
    "inputs = layers.Input(shape=x_train.shape[1:])\n",
    "x = layers.Resizing(224, 224,\n",
    "                    interpolation=\"bilinear\",\n",
    "                    input_shape=x_train.shape[1:])(inputs)\n",
    "conv = layers.Conv2D(filters_num, (4, 4),\n",
    "                     strides=(4, 4),\n",
    "                     padding = 'same')(inputs)\n",
    "conv = layers.LayerNormalization(epsilon = 1e-6)(conv)\n",
    "\n",
    "# depthwise conv\n",
    "depthwise = layers.Conv2D(filters_num, (7, 7),\n",
    "                          strides=(1, 1),\n",
    "                          groups=filters_num,\n",
    "                          padding='same')(conv)\n",
    "depthwise = layers.LayerNormalization(epsilon=1e-6)(depthwise)\n",
    "\n",
    "# pointwise conv\n",
    "pointwise = layers.Conv2D(4 * filters_num, (1,1),\n",
    "                          strides=(1, 1),\n",
    "                          padding='same',\n",
    "                          activation='gelu')(depthwise)\n",
    "pointwise = layers.Conv2D(filters_num, (1, 1),\n",
    "                          strides=(1, 1),\n",
    "                          padding = 'same')(pointwise)\n",
    "\n",
    "outputs = layers.Add()([conv, pointwise])\n",
    "outputs = layers.GlobalAveragePooling2D()(outputs)\n",
    "outputs = layers.Dense(labels_num)(outputs)"
   ]
  },
  {
   "cell_type": "code",
   "execution_count": 5,
   "id": "9b04da75",
   "metadata": {
    "executionInfo": {
     "elapsed": 16,
     "status": "ok",
     "timestamp": 1677075780543,
     "user": {
      "displayName": "吳承澔",
      "userId": "17428420001093174904"
     },
     "user_tz": -480
    },
    "id": "UjrVxHqqZgPv"
   },
   "outputs": [],
   "source": [
    "ConvNeXt_model = Model(inputs=inputs, outputs=outputs)"
   ]
  },
  {
   "cell_type": "code",
   "execution_count": 6,
   "id": "8e89f155",
   "metadata": {
    "colab": {
     "base_uri": "https://localhost:8080/"
    },
    "executionInfo": {
     "elapsed": 451,
     "status": "ok",
     "timestamp": 1677075780978,
     "user": {
      "displayName": "吳承澔",
      "userId": "17428420001093174904"
     },
     "user_tz": -480
    },
    "id": "c2403250",
    "outputId": "bfeafef6-e71f-483c-efbb-950f31611c49"
   },
   "outputs": [
    {
     "name": "stdout",
     "output_type": "stream",
     "text": [
      "Model: \"model\"\n",
      "__________________________________________________________________________________________________\n",
      " Layer (type)                   Output Shape         Param #     Connected to                     \n",
      "==================================================================================================\n",
      " input_1 (InputLayer)           [(None, 28, 28, 3)]  0           []                               \n",
      "                                                                                                  \n",
      " conv2d (Conv2D)                (None, 7, 7, 64)     3136        ['input_1[0][0]']                \n",
      "                                                                                                  \n",
      " layer_normalization (LayerNorm  (None, 7, 7, 64)    128         ['conv2d[0][0]']                 \n",
      " alization)                                                                                       \n",
      "                                                                                                  \n",
      " conv2d_1 (Conv2D)              (None, 7, 7, 64)     3200        ['layer_normalization[0][0]']    \n",
      "                                                                                                  \n",
      " layer_normalization_1 (LayerNo  (None, 7, 7, 64)    128         ['conv2d_1[0][0]']               \n",
      " rmalization)                                                                                     \n",
      "                                                                                                  \n",
      " conv2d_2 (Conv2D)              (None, 7, 7, 256)    16640       ['layer_normalization_1[0][0]']  \n",
      "                                                                                                  \n",
      " conv2d_3 (Conv2D)              (None, 7, 7, 64)     16448       ['conv2d_2[0][0]']               \n",
      "                                                                                                  \n",
      " add (Add)                      (None, 7, 7, 64)     0           ['layer_normalization[0][0]',    \n",
      "                                                                  'conv2d_3[0][0]']               \n",
      "                                                                                                  \n",
      " global_average_pooling2d (Glob  (None, 64)          0           ['add[0][0]']                    \n",
      " alAveragePooling2D)                                                                              \n",
      "                                                                                                  \n",
      " dense (Dense)                  (None, 10)           650         ['global_average_pooling2d[0][0]'\n",
      "                                                                 ]                                \n",
      "                                                                                                  \n",
      "==================================================================================================\n",
      "Total params: 40,330\n",
      "Trainable params: 40,330\n",
      "Non-trainable params: 0\n",
      "__________________________________________________________________________________________________\n"
     ]
    }
   ],
   "source": [
    "ConvNeXt_model.summary()"
   ]
  },
  {
   "cell_type": "code",
   "execution_count": 7,
   "id": "cc0d07ae",
   "metadata": {
    "colab": {
     "base_uri": "https://localhost:8080/"
    },
    "executionInfo": {
     "elapsed": 580,
     "status": "ok",
     "timestamp": 1677075781556,
     "user": {
      "displayName": "吳承澔",
      "userId": "17428420001093174904"
     },
     "user_tz": -480
    },
    "id": "64dd531f",
    "outputId": "e3c2ff70-3971-406d-c88c-91e3d84c01c8"
   },
   "outputs": [
    {
     "data": {
      "text/plain": [
       "TensorShape([4, 10])"
      ]
     },
     "execution_count": 7,
     "metadata": {},
     "output_type": "execute_result"
    }
   ],
   "source": [
    "batch_size = 4\n",
    "inputs = np.ones((batch_size, x_train.shape[1], x_train.shape[2], 3),\n",
    "                 dtype=np.float32)"
   ]
  },
  {
   "cell_type": "code",
   "execution_count": 8,
   "id": "907cf2ba",
   "metadata": {
    "colab": {
     "base_uri": "https://localhost:8080/"
    },
    "executionInfo": {
     "elapsed": 7,
     "status": "ok",
     "timestamp": 1677075781556,
     "user": {
      "displayName": "吳承澔",
      "userId": "17428420001093174904"
     },
     "user_tz": -480
    },
    "id": "_2d-C1PfjQC_",
    "outputId": "386f6e85-8eb0-43b0-a02b-e899e231487e"
   },
   "outputs": [
    {
     "data": {
      "text/plain": [
       "<tf.Tensor: shape=(4, 10), dtype=float32, numpy=\n",
       "array([[-0.10945934, -1.0268849 , -0.52640945,  0.7144207 , -0.7330663 ,\n",
       "         0.00588338,  1.3659196 , -0.13540567, -0.9588703 , -1.2702948 ],\n",
       "       [-0.10945934, -1.0268849 , -0.52640945,  0.7144207 , -0.7330663 ,\n",
       "         0.00588338,  1.3659196 , -0.13540567, -0.9588703 , -1.2702948 ],\n",
       "       [-0.10945934, -1.0268849 , -0.52640945,  0.7144207 , -0.7330663 ,\n",
       "         0.00588338,  1.3659196 , -0.13540567, -0.9588703 , -1.2702948 ],\n",
       "       [-0.10945924, -1.0268849 , -0.5264097 ,  0.71442086, -0.73306626,\n",
       "         0.00588356,  1.3659194 , -0.13540573, -0.9588702 , -1.2702947 ]],\n",
       "      dtype=float32)>"
      ]
     },
     "execution_count": 8,
     "metadata": {},
     "output_type": "execute_result"
    }
   ],
   "source": [
    "ConvNeXt_model(inputs)"
   ]
  }
 ],
 "metadata": {
  "colab": {
   "provenance": []
  },
  "kernelspec": {
   "display_name": "Python 3 (ipykernel)",
   "language": "python",
   "name": "python3"
  },
  "language_info": {
   "codemirror_mode": {
    "name": "ipython",
    "version": 3
   },
   "file_extension": ".py",
   "mimetype": "text/x-python",
   "name": "python",
   "nbconvert_exporter": "python",
   "pygments_lexer": "ipython3",
   "version": "3.7.12"
  }
 },
 "nbformat": 4,
 "nbformat_minor": 5
}
