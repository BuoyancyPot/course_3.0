{
 "cells": [
  {
   "cell_type": "markdown",
   "id": "9ec93f50",
   "metadata": {
    "id": "f77c70fb"
   },
   "source": [
    "# **GoogleNet**\n",
    "此份程式碼會介紹如何使用 tf.keras 的方式建構 GoogleNet 的模型架構，以及訓練的方式。"
   ]
  },
  {
   "cell_type": "markdown",
   "id": "98dbebd4",
   "metadata": {
    "id": "nqjfn78Jd5xE"
   },
   "source": [
    "<img src=\"https://i.imgur.com/g5fRr89.png\" width=1000/>\n",
    "\n",
    "- [source paper](https://arxiv.org/abs/1409.4842)"
   ]
  },
  {
   "cell_type": "markdown",
   "id": "583a58da",
   "metadata": {},
   "source": [
    "## 匯入套件"
   ]
  },
  {
   "cell_type": "code",
   "execution_count": null,
   "id": "13818cab",
   "metadata": {
    "id": "81d8af48"
   },
   "outputs": [],
   "source": [
    "import numpy as np\n",
    "import matplotlib.pyplot as plt\n",
    "\n",
    "# Tensorflow 相關套件\n",
    "import tensorflow as tf\n",
    "from tensorflow.keras import datasets, layers, Model, Sequential, losses"
   ]
  },
  {
   "cell_type": "markdown",
   "id": "b5a49a8d",
   "metadata": {},
   "source": [
    "## 載入資料集"
   ]
  },
  {
   "cell_type": "code",
   "execution_count": null,
   "id": "611bceed",
   "metadata": {
    "colab": {
     "base_uri": "https://localhost:8080/"
    },
    "executionInfo": {
     "elapsed": 7729,
     "status": "ok",
     "timestamp": 1677070536353,
     "user": {
      "displayName": "吳承澔",
      "userId": "17428420001093174904"
     },
     "user_tz": -480
    },
    "id": "026cc8b7",
    "outputId": "ce13436f-b6b7-49e5-d00a-26a267cc2c84"
   },
   "outputs": [
    {
     "name": "stdout",
     "output_type": "stream",
     "text": [
      "Downloading data from https://storage.googleapis.com/tensorflow/tf-keras-datasets/mnist.npz\n",
      "11490434/11490434 [==============================] - 2s 0us/step\n",
      "x_train shape:(60000, 28, 28, 1)\n",
      "x_test shape:(10000, 28, 28, 1)\n",
      "----------\n",
      "x_train shape:(60000, 28, 28, 3)\n",
      "x_test shape:(10000, 28, 28, 3)\n",
      "----------\n",
      "x_train shape:(48000, 28, 28, 3), x_val shape:(12000, 28, 28, 3)\n",
      "y_train shape:(48000,), y_val shape:(12000,)\n"
     ]
    }
   ],
   "source": [
    "(x_train, y_train), (x_test, y_test) = datasets.mnist.load_data()\n",
    "\n",
    "# Expand dimensions\n",
    "x_train = tf.expand_dims(x_train, axis=3, name=None)\n",
    "x_test = tf.expand_dims(x_test, axis=3, name=None)\n",
    "print(f'x_train shape: {x_train.shape}')\n",
    "print(f'x_test shape: {x_test.shape}')\n",
    "print('----------')\n",
    "\n",
    "# Grayscale to RGB\n",
    "x_train = tf.repeat(x_train, 3, axis=3)\n",
    "x_test = tf.repeat(x_test, 3, axis=3)\n",
    "print(f'x_train shape: {x_train.shape}')\n",
    "print(f'x_test shape: {x_test.shape}')\n",
    "print('----------')\n",
    "\n",
    "# Split dataset into training and validation data\n",
    "x_val = x_train[int(x_train.shape[0]*0.8):, :, :, :]\n",
    "y_val = y_train[int(y_train.shape[0]*0.8):]\n",
    "x_train = x_train[:int(x_train.shape[0]*0.8), :, :, :]\n",
    "y_train = y_train[:int(y_train.shape[0]*0.8)]\n",
    "print(f'x_train shape: {x_train.shape}, x_val shape: {x_val.shape}')\n",
    "print(f'y_train shape: {y_train.shape}, y_val shape: {y_val.shape}')"
   ]
  },
  {
   "cell_type": "markdown",
   "id": "d6e53a59",
   "metadata": {},
   "source": [
    "## GoogleNet Architecture"
   ]
  },
  {
   "cell_type": "markdown",
   "id": "a53830e8",
   "metadata": {
    "id": "ktpvL7o0eu8M"
   },
   "source": [
    "<img src=\"https://i.imgur.com/4xLmfqx.png\" width=1000/>\n",
    "\n",
    "- [source paper](https://arxiv.org/abs/1409.4842)"
   ]
  },
  {
   "cell_type": "code",
   "execution_count": 4,
   "id": "62162b98",
   "metadata": {
    "id": "c104b814"
   },
   "outputs": [],
   "source": [
    "def inception_block(x, filters_1x1,\n",
    "                    filters_3x3_reduce, filters_3x3,\n",
    "                    filters_5x5_reduce, filters_5x5,\n",
    "                    filters_pooling):\n",
    "\n",
    "    path_1 = layers.Conv2D(filters_1x1, (1, 1),\n",
    "                           padding='same',\n",
    "                           activation='relu')(x)\n",
    "\n",
    "    path_2 = layers.Conv2D(filters_3x3_reduce, (1, 1),\n",
    "                           padding='same',\n",
    "                           activation='relu')(x)\n",
    "    path_2 = layers.Conv2D(filters_3x3, (3, 3),\n",
    "                           padding='same',\n",
    "                           activation='relu')(path_2)\n",
    "\n",
    "    path_3 = layers.Conv2D(filters_5x5_reduce, (1, 1),\n",
    "                           padding='same',\n",
    "                           activation='relu')(x)\n",
    "    path_3 = layers.Conv2D(filters_5x5, (5, 5),\n",
    "                           padding='same',\n",
    "                           activation='relu')(path_3)\n",
    "\n",
    "    path_4 = layers.MaxPool2D((3, 3),\n",
    "                              strides=(1, 1),\n",
    "                              padding='same')(x)\n",
    "    path_4 = layers.Conv2D(filters_pooling, (1, 1),\n",
    "                           padding='same',\n",
    "                           activation='relu')(path_4)\n",
    "\n",
    "    return tf.concat([path_1, path_2, path_3, path_4], axis=3)"
   ]
  },
  {
   "cell_type": "code",
   "execution_count": 5,
   "id": "5246f728",
   "metadata": {
    "id": "c67012e6"
   },
   "outputs": [],
   "source": [
    "def auxiliary_classifier(inputs):\n",
    "    aux = layers.AveragePooling2D((5, 5), strides=3)(inputs)\n",
    "    aux = layers.Conv2D(128, 1, padding='same', activation='relu')(aux)\n",
    "    aux = layers.Flatten()(aux)\n",
    "    aux = layers.Dense(1024, activation='relu')(aux)\n",
    "    aux = layers.Dropout(0.7)(aux)\n",
    "    outputs = layers.Dense(10, activation='softmax')(aux)\n",
    "  \n",
    "    return outputs"
   ]
  },
  {
   "cell_type": "code",
   "execution_count": 14,
   "id": "d94d5eab",
   "metadata": {
    "id": "fb32d438"
   },
   "outputs": [],
   "source": [
    "labels_num = 10"
   ]
  },
  {
   "cell_type": "code",
   "execution_count": 18,
   "id": "aded713d",
   "metadata": {
    "id": "8556bc8d"
   },
   "outputs": [],
   "source": [
    "tf.keras.backend.clear_session()\n",
    "inputs = layers.Input(shape=x_train.shape[1:])\n",
    "x = layers.Resizing(224, 224,\n",
    "                    interpolation=\"bilinear\",\n",
    "                    input_shape=x_train.shape[1:])(inputs)\n",
    "x = layers.Conv2D(64, (7, 7), strides=2,\n",
    "                  padding='same',\n",
    "                  activation='relu')(x)\n",
    "x = layers.MaxPooling2D((3, 3), strides=2)(x)\n",
    "x = layers.Conv2D(64, (1, 1), strides=1,\n",
    "                  padding='same',\n",
    "                  activation='relu')(x)\n",
    "x = layers.Conv2D(192, (3, 3), strides=1,\n",
    "                  padding='same',\n",
    "                  activation='relu')(x)\n",
    "x = layers.MaxPooling2D((3, 3), strides=2)(x)\n",
    "\n",
    "inception_3a = inception_block(x, filters_1x1=64,\n",
    "                filters_3x3_reduce=96, filters_3x3=128,\n",
    "                filters_5x5_reduce=16, filters_5x5=32,\n",
    "                filters_pooling=32)\n",
    "\n",
    "inception_3b = inception_block(inception_3a, filters_1x1=128,\n",
    "                filters_3x3_reduce=128, filters_3x3=192,\n",
    "                filters_5x5_reduce=32, filters_5x5=96,\n",
    "                filters_pooling=64)\n",
    "inception_3b = layers.MaxPooling2D((3, 3), strides=2)(inception_3b)\n",
    "\n",
    "inception_4a = inception_block(inception_3b, filters_1x1=192,\n",
    "                filters_3x3_reduce=96, filters_3x3=208,\n",
    "                filters_5x5_reduce=16, filters_5x5=48,\n",
    "                filters_pooling=64)\n",
    "\n",
    "aux_1 = auxiliary_classifier(inception_4a)\n",
    "\n",
    "inception_4b = inception_block(inception_4a, filters_1x1=160,\n",
    "                 filters_3x3_reduce=112, filters_3x3=224,\n",
    "                 filters_5x5_reduce=24, filters_5x5=64,\n",
    "                 filters_pooling=64)\n",
    "\n",
    "inception_4c = inception_block(inception_4b, filters_1x1=128,\n",
    "                 filters_3x3_reduce=128, filters_3x3=256,\n",
    "                 filters_5x5_reduce=24, filters_5x5=64,\n",
    "                 filters_pooling=64)\n",
    "\n",
    "inception_4d = inception_block(inception_4c, filters_1x1=112,\n",
    "                 filters_3x3_reduce=144, filters_3x3=288,\n",
    "                 filters_5x5_reduce=32, filters_5x5=64,\n",
    "                 filters_pooling=64)\n",
    "\n",
    "aux_2 = auxiliary_classifier(inception_4d)\n",
    "\n",
    "inception_4e = inception_block(inception_4d, filters_1x1=256,\n",
    "                 filters_3x3_reduce=160, filters_3x3=320,\n",
    "                 filters_5x5_reduce=32, filters_5x5=128,\n",
    "                 filters_pooling=128)\n",
    "\n",
    "inception_4e = layers.MaxPooling2D((3, 3), strides=2)(inception_4e)\n",
    "\n",
    "inception_5a = inception_block(inception_4e, filters_1x1=256,\n",
    "                 filters_3x3_reduce=160, filters_3x3=320,\n",
    "                 filters_5x5_reduce=32, filters_5x5=128,\n",
    "                 filters_pooling=128)\n",
    "\n",
    "inception_5b = inception_block(inception_5a, filters_1x1=384,\n",
    "                 filters_3x3_reduce=192, filters_3x3=384,\n",
    "                 filters_5x5_reduce=48, filters_5x5=128,\n",
    "                 filters_pooling=128)\n",
    "\n",
    "outputs = layers.GlobalAveragePooling2D()(inception_5b)\n",
    "outputs = layers.Dropout(0.4)(outputs)\n",
    "outputs = layers.Dense(labels_num,\n",
    "                       activation='softmax')(outputs)"
   ]
  },
  {
   "cell_type": "code",
   "execution_count": 2,
   "id": "fce0cf46",
   "metadata": {
    "id": "05bf0af2"
   },
   "outputs": [
    {
     "ename": "NameError",
     "evalue": "name 'inputs' is not defined",
     "output_type": "error",
     "traceback": [
      "\u001b[0;31m---------------------------------------------------------------------------\u001b[0m",
      "\u001b[0;31mNameError\u001b[0m                                 Traceback (most recent call last)",
      "\u001b[0;32m/tmp/ipykernel_8680/526845901.py\u001b[0m in \u001b[0;36m<module>\u001b[0;34m\u001b[0m\n\u001b[0;32m----> 1\u001b[0;31m \u001b[0mGoogleNet_model\u001b[0m \u001b[0;34m=\u001b[0m \u001b[0mModel\u001b[0m\u001b[0;34m(\u001b[0m\u001b[0minputs\u001b[0m\u001b[0;34m=\u001b[0m\u001b[0minputs\u001b[0m\u001b[0;34m,\u001b[0m \u001b[0moutputs\u001b[0m\u001b[0;34m=\u001b[0m\u001b[0;34m[\u001b[0m\u001b[0moutputs\u001b[0m\u001b[0;34m,\u001b[0m \u001b[0maux_1\u001b[0m\u001b[0;34m,\u001b[0m \u001b[0maux_2\u001b[0m\u001b[0;34m]\u001b[0m\u001b[0;34m)\u001b[0m\u001b[0;34m\u001b[0m\u001b[0;34m\u001b[0m\u001b[0m\n\u001b[0m",
      "\u001b[0;31mNameError\u001b[0m: name 'inputs' is not defined"
     ]
    }
   ],
   "source": [
    "GoogleNet_model = Model(inputs=inputs, outputs=[outputs, aux_1, aux_2])"
   ]
  },
  {
   "cell_type": "code",
   "execution_count": 20,
   "id": "e22f07a2",
   "metadata": {
    "colab": {
     "base_uri": "https://localhost:8080/"
    },
    "executionInfo": {
     "elapsed": 89,
     "status": "ok",
     "timestamp": 1677073831021,
     "user": {
      "displayName": "吳承澔",
      "userId": "17428420001093174904"
     },
     "user_tz": -480
    },
    "id": "fcd23a94",
    "outputId": "a8bd3e3c-9b69-4340-c91b-ae674902a8cf"
   },
   "outputs": [
    {
     "name": "stdout",
     "output_type": "stream",
     "text": [
      "Model: \"model\"\n",
      "__________________________________________________________________________________________________\n",
      " Layer (type)                   Output Shape         Param #     Connected to                     \n",
      "==================================================================================================\n",
      " input_1 (InputLayer)           [(None, 28, 28, 3)]  0           []                               \n",
      "                                                                                                  \n",
      " resizing (Resizing)            (None, 224, 224, 3)  0           ['input_1[0][0]']                \n",
      "                                                                                                  \n",
      " conv2d (Conv2D)                (None, 112, 112, 64  9472        ['resizing[0][0]']               \n",
      "                                )                                                                 \n",
      "                                                                                                  \n",
      " max_pooling2d (MaxPooling2D)   (None, 55, 55, 64)   0           ['conv2d[0][0]']                 \n",
      "                                                                                                  \n",
      " conv2d_1 (Conv2D)              (None, 55, 55, 64)   4160        ['max_pooling2d[0][0]']          \n",
      "                                                                                                  \n",
      " conv2d_2 (Conv2D)              (None, 55, 55, 192)  110784      ['conv2d_1[0][0]']               \n",
      "                                                                                                  \n",
      " max_pooling2d_1 (MaxPooling2D)  (None, 27, 27, 192)  0          ['conv2d_2[0][0]']               \n",
      "                                                                                                  \n",
      " conv2d_4 (Conv2D)              (None, 27, 27, 96)   18528       ['max_pooling2d_1[0][0]']        \n",
      "                                                                                                  \n",
      " conv2d_6 (Conv2D)              (None, 27, 27, 16)   3088        ['max_pooling2d_1[0][0]']        \n",
      "                                                                                                  \n",
      " max_pooling2d_2 (MaxPooling2D)  (None, 27, 27, 192)  0          ['max_pooling2d_1[0][0]']        \n",
      "                                                                                                  \n",
      " conv2d_3 (Conv2D)              (None, 27, 27, 64)   12352       ['max_pooling2d_1[0][0]']        \n",
      "                                                                                                  \n",
      " conv2d_5 (Conv2D)              (None, 27, 27, 128)  110720      ['conv2d_4[0][0]']               \n",
      "                                                                                                  \n",
      " conv2d_7 (Conv2D)              (None, 27, 27, 32)   12832       ['conv2d_6[0][0]']               \n",
      "                                                                                                  \n",
      " conv2d_8 (Conv2D)              (None, 27, 27, 32)   6176        ['max_pooling2d_2[0][0]']        \n",
      "                                                                                                  \n",
      " tf.concat (TFOpLambda)         (None, 27, 27, 256)  0           ['conv2d_3[0][0]',               \n",
      "                                                                  'conv2d_5[0][0]',               \n",
      "                                                                  'conv2d_7[0][0]',               \n",
      "                                                                  'conv2d_8[0][0]']               \n",
      "                                                                                                  \n",
      " conv2d_10 (Conv2D)             (None, 27, 27, 128)  32896       ['tf.concat[0][0]']              \n",
      "                                                                                                  \n",
      " conv2d_12 (Conv2D)             (None, 27, 27, 32)   8224        ['tf.concat[0][0]']              \n",
      "                                                                                                  \n",
      " max_pooling2d_3 (MaxPooling2D)  (None, 27, 27, 256)  0          ['tf.concat[0][0]']              \n",
      "                                                                                                  \n",
      " conv2d_9 (Conv2D)              (None, 27, 27, 128)  32896       ['tf.concat[0][0]']              \n",
      "                                                                                                  \n",
      " conv2d_11 (Conv2D)             (None, 27, 27, 192)  221376      ['conv2d_10[0][0]']              \n",
      "                                                                                                  \n",
      " conv2d_13 (Conv2D)             (None, 27, 27, 96)   76896       ['conv2d_12[0][0]']              \n",
      "                                                                                                  \n",
      " conv2d_14 (Conv2D)             (None, 27, 27, 64)   16448       ['max_pooling2d_3[0][0]']        \n",
      "                                                                                                  \n",
      " tf.concat_1 (TFOpLambda)       (None, 27, 27, 480)  0           ['conv2d_9[0][0]',               \n",
      "                                                                  'conv2d_11[0][0]',              \n",
      "                                                                  'conv2d_13[0][0]',              \n",
      "                                                                  'conv2d_14[0][0]']              \n",
      "                                                                                                  \n",
      " max_pooling2d_4 (MaxPooling2D)  (None, 13, 13, 480)  0          ['tf.concat_1[0][0]']            \n",
      "                                                                                                  \n",
      " conv2d_16 (Conv2D)             (None, 13, 13, 96)   46176       ['max_pooling2d_4[0][0]']        \n",
      "                                                                                                  \n",
      " conv2d_18 (Conv2D)             (None, 13, 13, 16)   7696        ['max_pooling2d_4[0][0]']        \n",
      "                                                                                                  \n",
      " max_pooling2d_5 (MaxPooling2D)  (None, 13, 13, 480)  0          ['max_pooling2d_4[0][0]']        \n",
      "                                                                                                  \n",
      " conv2d_15 (Conv2D)             (None, 13, 13, 192)  92352       ['max_pooling2d_4[0][0]']        \n",
      "                                                                                                  \n",
      " conv2d_17 (Conv2D)             (None, 13, 13, 208)  179920      ['conv2d_16[0][0]']              \n",
      "                                                                                                  \n",
      " conv2d_19 (Conv2D)             (None, 13, 13, 48)   19248       ['conv2d_18[0][0]']              \n",
      "                                                                                                  \n",
      " conv2d_20 (Conv2D)             (None, 13, 13, 64)   30784       ['max_pooling2d_5[0][0]']        \n",
      "                                                                                                  \n",
      " tf.concat_2 (TFOpLambda)       (None, 13, 13, 512)  0           ['conv2d_15[0][0]',              \n",
      "                                                                  'conv2d_17[0][0]',              \n",
      "                                                                  'conv2d_19[0][0]',              \n",
      "                                                                  'conv2d_20[0][0]']              \n",
      "                                                                                                  \n",
      " conv2d_23 (Conv2D)             (None, 13, 13, 112)  57456       ['tf.concat_2[0][0]']            \n",
      "                                                                                                  \n",
      " conv2d_25 (Conv2D)             (None, 13, 13, 24)   12312       ['tf.concat_2[0][0]']            \n",
      "                                                                                                  \n",
      " max_pooling2d_6 (MaxPooling2D)  (None, 13, 13, 512)  0          ['tf.concat_2[0][0]']            \n",
      "                                                                                                  \n",
      " conv2d_22 (Conv2D)             (None, 13, 13, 160)  82080       ['tf.concat_2[0][0]']            \n",
      "                                                                                                  \n",
      " conv2d_24 (Conv2D)             (None, 13, 13, 224)  226016      ['conv2d_23[0][0]']              \n",
      "                                                                                                  \n",
      " conv2d_26 (Conv2D)             (None, 13, 13, 64)   38464       ['conv2d_25[0][0]']              \n",
      "                                                                                                  \n",
      " conv2d_27 (Conv2D)             (None, 13, 13, 64)   32832       ['max_pooling2d_6[0][0]']        \n",
      "                                                                                                  \n",
      " tf.concat_3 (TFOpLambda)       (None, 13, 13, 512)  0           ['conv2d_22[0][0]',              \n",
      "                                                                  'conv2d_24[0][0]',              \n",
      "                                                                  'conv2d_26[0][0]',              \n",
      "                                                                  'conv2d_27[0][0]']              \n",
      "                                                                                                  \n",
      " conv2d_29 (Conv2D)             (None, 13, 13, 128)  65664       ['tf.concat_3[0][0]']            \n",
      "                                                                                                  \n",
      " conv2d_31 (Conv2D)             (None, 13, 13, 24)   12312       ['tf.concat_3[0][0]']            \n",
      "                                                                                                  \n",
      " max_pooling2d_7 (MaxPooling2D)  (None, 13, 13, 512)  0          ['tf.concat_3[0][0]']            \n",
      "                                                                                                  \n",
      " conv2d_28 (Conv2D)             (None, 13, 13, 128)  65664       ['tf.concat_3[0][0]']            \n",
      "                                                                                                  \n",
      " conv2d_30 (Conv2D)             (None, 13, 13, 256)  295168      ['conv2d_29[0][0]']              \n",
      "                                                                                                  \n",
      " conv2d_32 (Conv2D)             (None, 13, 13, 64)   38464       ['conv2d_31[0][0]']              \n",
      "                                                                                                  \n",
      " conv2d_33 (Conv2D)             (None, 13, 13, 64)   32832       ['max_pooling2d_7[0][0]']        \n",
      "                                                                                                  \n",
      " tf.concat_4 (TFOpLambda)       (None, 13, 13, 512)  0           ['conv2d_28[0][0]',              \n",
      "                                                                  'conv2d_30[0][0]',              \n",
      "                                                                  'conv2d_32[0][0]',              \n",
      "                                                                  'conv2d_33[0][0]']              \n",
      "                                                                                                  \n",
      " conv2d_35 (Conv2D)             (None, 13, 13, 144)  73872       ['tf.concat_4[0][0]']            \n",
      "                                                                                                  \n",
      " conv2d_37 (Conv2D)             (None, 13, 13, 32)   16416       ['tf.concat_4[0][0]']            \n",
      "                                                                                                  \n",
      " max_pooling2d_8 (MaxPooling2D)  (None, 13, 13, 512)  0          ['tf.concat_4[0][0]']            \n",
      "                                                                                                  \n",
      " conv2d_34 (Conv2D)             (None, 13, 13, 112)  57456       ['tf.concat_4[0][0]']            \n",
      "                                                                                                  \n",
      " conv2d_36 (Conv2D)             (None, 13, 13, 288)  373536      ['conv2d_35[0][0]']              \n",
      "                                                                                                  \n",
      " conv2d_38 (Conv2D)             (None, 13, 13, 64)   51264       ['conv2d_37[0][0]']              \n",
      "                                                                                                  \n",
      " conv2d_39 (Conv2D)             (None, 13, 13, 64)   32832       ['max_pooling2d_8[0][0]']        \n",
      "                                                                                                  \n",
      " tf.concat_5 (TFOpLambda)       (None, 13, 13, 528)  0           ['conv2d_34[0][0]',              \n",
      "                                                                  'conv2d_36[0][0]',              \n",
      "                                                                  'conv2d_38[0][0]',              \n",
      "                                                                  'conv2d_39[0][0]']              \n",
      "                                                                                                  \n",
      " conv2d_42 (Conv2D)             (None, 13, 13, 160)  84640       ['tf.concat_5[0][0]']            \n",
      "                                                                                                  \n",
      " conv2d_44 (Conv2D)             (None, 13, 13, 32)   16928       ['tf.concat_5[0][0]']            \n",
      "                                                                                                  \n",
      " max_pooling2d_9 (MaxPooling2D)  (None, 13, 13, 528)  0          ['tf.concat_5[0][0]']            \n",
      "                                                                                                  \n",
      " conv2d_41 (Conv2D)             (None, 13, 13, 256)  135424      ['tf.concat_5[0][0]']            \n",
      "                                                                                                  \n",
      " conv2d_43 (Conv2D)             (None, 13, 13, 320)  461120      ['conv2d_42[0][0]']              \n",
      "                                                                                                  \n",
      " conv2d_45 (Conv2D)             (None, 13, 13, 128)  102528      ['conv2d_44[0][0]']              \n",
      "                                                                                                  \n",
      " conv2d_46 (Conv2D)             (None, 13, 13, 128)  67712       ['max_pooling2d_9[0][0]']        \n",
      "                                                                                                  \n",
      " tf.concat_6 (TFOpLambda)       (None, 13, 13, 832)  0           ['conv2d_41[0][0]',              \n",
      "                                                                  'conv2d_43[0][0]',              \n",
      "                                                                  'conv2d_45[0][0]',              \n",
      "                                                                  'conv2d_46[0][0]']              \n",
      "                                                                                                  \n",
      " max_pooling2d_10 (MaxPooling2D  (None, 6, 6, 832)   0           ['tf.concat_6[0][0]']            \n",
      " )                                                                                                \n",
      "                                                                                                  \n",
      " conv2d_48 (Conv2D)             (None, 6, 6, 160)    133280      ['max_pooling2d_10[0][0]']       \n",
      "                                                                                                  \n",
      " conv2d_50 (Conv2D)             (None, 6, 6, 32)     26656       ['max_pooling2d_10[0][0]']       \n",
      "                                                                                                  \n",
      " max_pooling2d_11 (MaxPooling2D  (None, 6, 6, 832)   0           ['max_pooling2d_10[0][0]']       \n",
      " )                                                                                                \n",
      "                                                                                                  \n",
      " conv2d_47 (Conv2D)             (None, 6, 6, 256)    213248      ['max_pooling2d_10[0][0]']       \n",
      "                                                                                                  \n",
      " conv2d_49 (Conv2D)             (None, 6, 6, 320)    461120      ['conv2d_48[0][0]']              \n",
      "                                                                                                  \n",
      " conv2d_51 (Conv2D)             (None, 6, 6, 128)    102528      ['conv2d_50[0][0]']              \n",
      "                                                                                                  \n",
      " conv2d_52 (Conv2D)             (None, 6, 6, 128)    106624      ['max_pooling2d_11[0][0]']       \n",
      "                                                                                                  \n",
      " tf.concat_7 (TFOpLambda)       (None, 6, 6, 832)    0           ['conv2d_47[0][0]',              \n",
      "                                                                  'conv2d_49[0][0]',              \n",
      "                                                                  'conv2d_51[0][0]',              \n",
      "                                                                  'conv2d_52[0][0]']              \n",
      "                                                                                                  \n",
      " conv2d_54 (Conv2D)             (None, 6, 6, 192)    159936      ['tf.concat_7[0][0]']            \n",
      "                                                                                                  \n",
      " conv2d_56 (Conv2D)             (None, 6, 6, 48)     39984       ['tf.concat_7[0][0]']            \n",
      "                                                                                                  \n",
      " max_pooling2d_12 (MaxPooling2D  (None, 6, 6, 832)   0           ['tf.concat_7[0][0]']            \n",
      " )                                                                                                \n",
      "                                                                                                  \n",
      " average_pooling2d (AveragePool  (None, 3, 3, 512)   0           ['tf.concat_2[0][0]']            \n",
      " ing2D)                                                                                           \n",
      "                                                                                                  \n",
      " average_pooling2d_1 (AveragePo  (None, 3, 3, 528)   0           ['tf.concat_5[0][0]']            \n",
      " oling2D)                                                                                         \n",
      "                                                                                                  \n",
      " conv2d_53 (Conv2D)             (None, 6, 6, 384)    319872      ['tf.concat_7[0][0]']            \n",
      "                                                                                                  \n",
      " conv2d_55 (Conv2D)             (None, 6, 6, 384)    663936      ['conv2d_54[0][0]']              \n",
      "                                                                                                  \n",
      " conv2d_57 (Conv2D)             (None, 6, 6, 128)    153728      ['conv2d_56[0][0]']              \n",
      "                                                                                                  \n",
      " conv2d_58 (Conv2D)             (None, 6, 6, 128)    106624      ['max_pooling2d_12[0][0]']       \n",
      "                                                                                                  \n",
      " conv2d_21 (Conv2D)             (None, 3, 3, 128)    65664       ['average_pooling2d[0][0]']      \n",
      "                                                                                                  \n",
      " conv2d_40 (Conv2D)             (None, 3, 3, 128)    67712       ['average_pooling2d_1[0][0]']    \n",
      "                                                                                                  \n",
      " tf.concat_8 (TFOpLambda)       (None, 6, 6, 1024)   0           ['conv2d_53[0][0]',              \n",
      "                                                                  'conv2d_55[0][0]',              \n",
      "                                                                  'conv2d_57[0][0]',              \n",
      "                                                                  'conv2d_58[0][0]']              \n",
      "                                                                                                  \n",
      " flatten (Flatten)              (None, 1152)         0           ['conv2d_21[0][0]']              \n",
      "                                                                                                  \n",
      " flatten_1 (Flatten)            (None, 1152)         0           ['conv2d_40[0][0]']              \n",
      "                                                                                                  \n",
      " global_average_pooling2d (Glob  (None, 1024)        0           ['tf.concat_8[0][0]']            \n",
      " alAveragePooling2D)                                                                              \n",
      "                                                                                                  \n",
      " dense (Dense)                  (None, 1024)         1180672     ['flatten[0][0]']                \n",
      "                                                                                                  \n",
      " dense_2 (Dense)                (None, 1024)         1180672     ['flatten_1[0][0]']              \n",
      "                                                                                                  \n",
      " dropout_2 (Dropout)            (None, 1024)         0           ['global_average_pooling2d[0][0]'\n",
      "                                                                 ]                                \n",
      "                                                                                                  \n",
      " dropout (Dropout)              (None, 1024)         0           ['dense[0][0]']                  \n",
      "                                                                                                  \n",
      " dropout_1 (Dropout)            (None, 1024)         0           ['dense_2[0][0]']                \n",
      "                                                                                                  \n",
      " dense_4 (Dense)                (None, 10)           10250       ['dropout_2[0][0]']              \n",
      "                                                                                                  \n",
      " dense_1 (Dense)                (None, 10)           10250       ['dropout[0][0]']                \n",
      "                                                                                                  \n",
      " dense_3 (Dense)                (None, 10)           10250       ['dropout_1[0][0]']              \n",
      "                                                                                                  \n",
      "==================================================================================================\n",
      "Total params: 8,499,022\n",
      "Trainable params: 8,499,022\n",
      "Non-trainable params: 0\n",
      "__________________________________________________________________________________________________\n"
     ]
    }
   ],
   "source": [
    "GoogleNet_model.summary()"
   ]
  },
  {
   "cell_type": "code",
   "execution_count": 21,
   "id": "099fcc19",
   "metadata": {
    "colab": {
     "base_uri": "https://localhost:8080/",
     "height": 190
    },
    "executionInfo": {
     "elapsed": 5216,
     "status": "error",
     "timestamp": 1677073836233,
     "user": {
      "displayName": "吳承澔",
      "userId": "17428420001093174904"
     },
     "user_tz": -480
    },
    "id": "qk2YS90EcE3l",
    "outputId": "3d94cad5-6d76-485c-d5d4-43872251bcbd"
   },
   "outputs": [
    {
     "data": {
      "text/plain": [
       "[<tf.Tensor: shape=(256, 10), dtype=float32, numpy=\n",
       " array([[0.10013373, 0.09962543, 0.10025491, ..., 0.0999011 , 0.10019574,\n",
       "         0.10023794],\n",
       "        [0.10013373, 0.09962543, 0.10025491, ..., 0.0999011 , 0.10019574,\n",
       "         0.10023794],\n",
       "        [0.10013373, 0.09962543, 0.10025491, ..., 0.0999011 , 0.10019574,\n",
       "         0.10023794],\n",
       "        ...,\n",
       "        [0.10013373, 0.09962543, 0.10025491, ..., 0.0999011 , 0.10019574,\n",
       "         0.10023794],\n",
       "        [0.10013373, 0.09962543, 0.10025491, ..., 0.0999011 , 0.10019574,\n",
       "         0.10023794],\n",
       "        [0.10013373, 0.09962543, 0.10025491, ..., 0.0999011 , 0.10019574,\n",
       "         0.10023794]], dtype=float32)>,\n",
       " <tf.Tensor: shape=(256, 10), dtype=float32, numpy=\n",
       " array([[0.09933118, 0.10065375, 0.1028552 , ..., 0.10029555, 0.09991659,\n",
       "         0.09859149],\n",
       "        [0.09933118, 0.10065375, 0.1028552 , ..., 0.10029555, 0.09991659,\n",
       "         0.09859149],\n",
       "        [0.09933118, 0.10065375, 0.1028552 , ..., 0.10029555, 0.09991659,\n",
       "         0.09859149],\n",
       "        ...,\n",
       "        [0.09933118, 0.10065375, 0.1028552 , ..., 0.10029555, 0.09991659,\n",
       "         0.09859149],\n",
       "        [0.09933118, 0.10065375, 0.1028552 , ..., 0.10029555, 0.09991659,\n",
       "         0.09859149],\n",
       "        [0.09933118, 0.10065375, 0.1028552 , ..., 0.10029555, 0.09991659,\n",
       "         0.09859149]], dtype=float32)>,\n",
       " <tf.Tensor: shape=(256, 10), dtype=float32, numpy=\n",
       " array([[0.09962127, 0.09988808, 0.10046476, ..., 0.09920033, 0.10023205,\n",
       "         0.10057842],\n",
       "        [0.09962127, 0.09988808, 0.10046476, ..., 0.09920033, 0.10023205,\n",
       "         0.10057842],\n",
       "        [0.09962127, 0.09988808, 0.10046476, ..., 0.09920033, 0.10023205,\n",
       "         0.10057842],\n",
       "        ...,\n",
       "        [0.09962127, 0.09988808, 0.10046476, ..., 0.09920033, 0.10023205,\n",
       "         0.10057842],\n",
       "        [0.09962127, 0.09988808, 0.10046476, ..., 0.09920033, 0.10023205,\n",
       "         0.10057842],\n",
       "        [0.09962127, 0.09988808, 0.10046476, ..., 0.09920033, 0.10023205,\n",
       "         0.10057842]], dtype=float32)>]"
      ]
     },
     "execution_count": 21,
     "metadata": {},
     "output_type": "execute_result"
    }
   ],
   "source": [
    "inputs = np.ones((batch_size, x_train.shape[1], x_train.shape[2], 3),\n",
    "                 dtype=np.float32)\n",
    "GoogleNet_model(inputs)"
   ]
  },
  {
   "cell_type": "code",
   "execution_count": 24,
   "id": "ba8a3b33",
   "metadata": {
    "colab": {
     "base_uri": "https://localhost:8080/"
    },
    "executionInfo": {
     "elapsed": 1455410,
     "status": "ok",
     "timestamp": 1677075317584,
     "user": {
      "displayName": "吳承澔",
      "userId": "17428420001093174904"
     },
     "user_tz": -480
    },
    "id": "2d3b6f11",
    "outputId": "4530c2cc-beb4-40c7-cd45-9b4adda05bb1"
   },
   "outputs": [
    {
     "name": "stdout",
     "output_type": "stream",
     "text": [
      "Epoch 1/2\n",
      "188/188 [==============================] - 93s 480ms/step - loss: 1.7426 - dense_4_loss: 1.3529 - dense_1_loss: 0.8343 - dense_3_loss: 1.1142 - dense_4_accuracy: 0.5256 - dense_1_accuracy: 0.7419 - dense_3_accuracy: 0.6359 - val_loss: 0.2978 - val_dense_4_loss: 0.2489 - val_dense_1_loss: 0.1187 - val_dense_3_loss: 0.1261 - val_dense_4_accuracy: 0.9239 - val_dense_1_accuracy: 0.9602 - val_dense_3_accuracy: 0.9612\n",
      "Epoch 2/2\n",
      "188/188 [==============================] - 88s 466ms/step - loss: 0.1601 - dense_4_loss: 0.1132 - dense_1_loss: 0.1192 - dense_3_loss: 0.1154 - dense_4_accuracy: 0.9665 - dense_1_accuracy: 0.9635 - dense_3_accuracy: 0.9651 - val_loss: 0.0742 - val_dense_4_loss: 0.0509 - val_dense_1_loss: 0.0652 - val_dense_3_loss: 0.0515 - val_dense_4_accuracy: 0.9851 - val_dense_1_accuracy: 0.9808 - val_dense_3_accuracy: 0.9847\n"
     ]
    }
   ],
   "source": [
    "batch_size = 256\n",
    "epochs = 10\n",
    "\n",
    "GoogleNet_model.compile(\n",
    "    optimizer='adam',\n",
    "    loss=[losses.sparse_categorical_crossentropy,\n",
    "          losses.sparse_categorical_crossentropy,\n",
    "          losses.sparse_categorical_crossentropy],\n",
    "    loss_weights=[1, 0.2, 0.2],\n",
    "    metrics=['accuracy'])\n",
    "\n",
    "history = GoogleNet_model.fit(x_train, y_train,\n",
    "                              validation_data=(x_val, y_val),\n",
    "                              batch_size=batch_size,\n",
    "                              epochs=epochs)"
   ]
  },
  {
   "cell_type": "code",
   "execution_count": 25,
   "id": "b9fc2437",
   "metadata": {
    "colab": {
     "base_uri": "https://localhost:8080/",
     "height": 911
    },
    "executionInfo": {
     "elapsed": 734,
     "status": "ok",
     "timestamp": 1677075318314,
     "user": {
      "displayName": "吳承澔",
      "userId": "17428420001093174904"
     },
     "user_tz": -480
    },
    "id": "90fd9c31",
    "outputId": "4e893b53-359c-4498-95f9-9c2eafafdbd1"
   },
   "outputs": [
    {
     "data": {
      "text/plain": [
       "<matplotlib.legend.Legend at 0x7fd59c1b9d10>"
      ]
     },
     "execution_count": 25,
     "metadata": {},
     "output_type": "execute_result"
    },
    {
     "data": {
      "image/png": "[encoded data removed]",
      "text/plain": [
       "<Figure size 1080x432 with 2 Axes>"
      ]
     },
     "metadata": {
      "needs_background": "light"
     },
     "output_type": "display_data"
    }
   ],
   "source": [
    "fig, axs = plt.subplots(1, 2, figsize=(15,6))\n",
    "\n",
    "axs[0].plot(history.history['loss'])\n",
    "axs[0].plot(history.history['val_loss'])\n",
    "axs[0].title.set_text('Training Loss vs Validation Loss')\n",
    "axs[0].set_xlabel('Epochs')\n",
    "axs[0].set_ylabel('Loss')\n",
    "axs[0].legend(['Train', 'Val'])\n",
    "\n",
    "axs[1].plot(history.history['dense_4_accuracy'])\n",
    "axs[1].plot(history.history['val_dense_4_accuracy'])\n",
    "axs[1].title.set_text('Training Accuracy vs Validation Accuracy')\n",
    "axs[1].set_xlabel('Epochs')\n",
    "axs[1].set_ylabel('Accuracy')\n",
    "axs[1].legend(['Train', 'Val'])"
   ]
  },
  {
   "cell_type": "code",
   "execution_count": 26,
   "id": "273c7b24",
   "metadata": {
    "colab": {
     "base_uri": "https://localhost:8080/"
    },
    "executionInfo": {
     "elapsed": 20648,
     "status": "ok",
     "timestamp": 1677075338957,
     "user": {
      "displayName": "吳承澔",
      "userId": "17428420001093174904"
     },
     "user_tz": -480
    },
    "id": "37b06206",
    "outputId": "953850d6-6450-45c0-f2e0-85751ec2ab9f"
   },
   "outputs": [
    {
     "name": "stdout",
     "output_type": "stream",
     "text": [
      "313/313 [==============================] - 8s 24ms/step - loss: 0.0646 - dense_4_loss: 0.0438 - dense_1_loss: 0.0583 - dense_3_loss: 0.0454 - dense_4_accuracy: 0.9864 - dense_1_accuracy: 0.9804 - dense_3_accuracy: 0.9858\n"
     ]
    },
    {
     "data": {
      "text/plain": [
       "[0.06457754969596863,\n",
       " 0.04383651539683342,\n",
       " 0.05830095708370209,\n",
       " 0.04540422558784485,\n",
       " 0.9864000082015991,\n",
       " 0.980400025844574,\n",
       " 0.98580002784729]"
      ]
     },
     "execution_count": 26,
     "metadata": {},
     "output_type": "execute_result"
    }
   ],
   "source": [
    "GoogleNet_model.evaluate(x_test, y_test)"
   ]
  },
  {
   "cell_type": "code",
   "execution_count": null,
   "id": "0358c86b",
   "metadata": {
    "id": "3ijmTmAbe290"
   },
   "outputs": [],
   "source": []
  }
 ],
 "metadata": {
  "accelerator": "GPU",
  "colab": {
   "provenance": []
  },
  "gpuClass": "standard",
  "kernelspec": {
   "display_name": "Python 3 (ipykernel)",
   "language": "python",
   "name": "python3"
  },
  "language_info": {
   "codemirror_mode": {
    "name": "ipython",
    "version": 3
   },
   "file_extension": ".py",
   "mimetype": "text/x-python",
   "name": "python",
   "nbconvert_exporter": "python",
   "pygments_lexer": "ipython3",
   "version": "3.7.12"
  }
 },
 "nbformat": 4,
 "nbformat_minor": 5
}
