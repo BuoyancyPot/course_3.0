{
 "cells": [
  {
   "cell_type": "markdown",
   "id": "2fc46792",
   "metadata": {
    "id": "a182a3f4"
   },
   "source": [
    "# **SENet**\n",
    "此份程式碼會介紹如何使用 tf.keras 的方式建構 SENet 的模型架構。"
   ]
  },
  {
   "cell_type": "markdown",
   "id": "7266746b",
   "metadata": {
    "id": "NdWaClXrcfab"
   },
   "source": [
    "<img src=\"https://i.imgur.com/3xGwreb.png\" width=1000/>\n",
    "\n",
    "- [source paper](https://arxiv.org/abs/1709.01507)"
   ]
  },
  {
   "cell_type": "markdown",
   "id": "3f6d107b",
   "metadata": {},
   "source": [
    "## 匯入套件"
   ]
  },
  {
   "cell_type": "code",
   "execution_count": null,
   "id": "100961a0",
   "metadata": {
    "id": "81d8af48"
   },
   "outputs": [],
   "source": [
    "import numpy as np\n",
    "import matplotlib.pyplot as plt\n",
    "\n",
    "# Tensorflow 相關套件\n",
    "import tensorflow as tf\n",
    "from tensorflow.keras import datasets, layers, Model, Sequential, losses"
   ]
  },
  {
   "cell_type": "markdown",
   "id": "ac9f22e9",
   "metadata": {},
   "source": [
    "## 載入資料集"
   ]
  },
  {
   "cell_type": "code",
   "execution_count": null,
   "id": "a57774ac",
   "metadata": {
    "colab": {
     "base_uri": "https://localhost:8080/"
    },
    "executionInfo": {
     "elapsed": 7729,
     "status": "ok",
     "timestamp": 1677070536353,
     "user": {
      "displayName": "吳承澔",
      "userId": "17428420001093174904"
     },
     "user_tz": -480
    },
    "id": "026cc8b7",
    "outputId": "ce13436f-b6b7-49e5-d00a-26a267cc2c84"
   },
   "outputs": [],
   "source": [
    "(x_train, y_train), (x_test, y_test) = datasets.mnist.load_data()\n",
    "\n",
    "# Expand dimensions\n",
    "x_train = tf.expand_dims(x_train, axis=3, name=None)\n",
    "x_test = tf.expand_dims(x_test, axis=3, name=None)\n",
    "print(f'x_train shape: {x_train.shape}')\n",
    "print(f'x_test shape: {x_test.shape}')\n",
    "print('----------')\n",
    "\n",
    "# Grayscale to RGB\n",
    "x_train = tf.repeat(x_train, 3, axis=3)\n",
    "x_test = tf.repeat(x_test, 3, axis=3)\n",
    "print(f'x_train shape: {x_train.shape}')\n",
    "print(f'x_test shape: {x_test.shape}')\n",
    "print('----------')\n",
    "\n",
    "# Split dataset into training and validation data\n",
    "x_val = x_train[int(x_train.shape[0]*0.8):, :, :, :]\n",
    "y_val = y_train[int(y_train.shape[0]*0.8):]\n",
    "x_train = x_train[:int(x_train.shape[0]*0.8), :, :, :]\n",
    "y_train = y_train[:int(y_train.shape[0]*0.8)]\n",
    "print(f'x_train shape: {x_train.shape}, x_val shape: {x_val.shape}')\n",
    "print(f'y_train shape: {y_train.shape}, y_val shape: {y_val.shape}')"
   ]
  },
  {
   "cell_type": "markdown",
   "id": "bbfb50cd",
   "metadata": {},
   "source": [
    "## SENet Arhietecture"
   ]
  },
  {
   "cell_type": "markdown",
   "id": "81afa319",
   "metadata": {
    "id": "1kxDMBfygeEi"
   },
   "source": [
    "<img src=\"https://i.imgur.com/mvqWU9g.png\" width=1000/>\n",
    "\n",
    "- [source paper](https://arxiv.org/abs/1709.01507)"
   ]
  },
  {
   "cell_type": "code",
   "execution_count": null,
   "id": "30d577dc",
   "metadata": {},
   "outputs": [],
   "source": [
    "labels_num = 10"
   ]
  },
  {
   "cell_type": "code",
   "execution_count": null,
   "id": "545a93a9",
   "metadata": {
    "id": "720edee7"
   },
   "outputs": [],
   "source": [
    "def add_conv(x, filters_num, kernel_size):\n",
    "    x = layers.Conv2D(filters_num,\n",
    "                      (kernel_size, kernel_size),\n",
    "                      strides=1, padding='same')(x)\n",
    "    x = layers.BatchNormalization()(x)\n",
    "    x = layers.Activation('relu')(x)\n",
    "    x = layers.MaxPooling2D((2, 2), strides=1,\n",
    "                            padding='same')(x)\n",
    "    return x\n",
    "\n",
    "filters_num = 64\n",
    "\n",
    "inputs = layers.Input(shape=x_train.shape[1:])\n",
    "x = layers.Resizing(224, 224,\n",
    "                    interpolation=\"bilinear\",\n",
    "                    input_shape=x_train.shape[1:])(inputs)\n",
    "conv_1 = add_conv(x, filters_num, 7)\n",
    "conv_2 = add_conv(conv_1, filters_num, 3)\n",
    "\n",
    "squeeze = layers.GlobalAveragePooling2D()(conv_2)\n",
    "squeeze = layers.Reshape((1, 1, filters_num))(squeeze)\n",
    "excitation = layers.Dense(filters_num, activation='relu')(squeeze)\n",
    "excitation = layers.Dense(filters_num, activation='sigmoid')(excitation)\n",
    "\n",
    "scale = conv_2 * excitation\n",
    "scale = layers.GlobalAveragePooling2D()(scale)\n",
    "outputs = layers.Dense(labels_num)(scale)"
   ]
  },
  {
   "cell_type": "code",
   "execution_count": null,
   "id": "66330349",
   "metadata": {
    "id": "qP_L5VG3afpf"
   },
   "outputs": [],
   "source": [
    "SENet_model = Model(inputs=inputs, outputs=outputs)"
   ]
  },
  {
   "cell_type": "code",
   "execution_count": null,
   "id": "200d495a",
   "metadata": {
    "colab": {
     "base_uri": "https://localhost:8080/"
    },
    "executionInfo": {
     "elapsed": 444,
     "status": "ok",
     "timestamp": 1677060617012,
     "user": {
      "displayName": "吳承澔",
      "userId": "17428420001093174904"
     },
     "user_tz": -480
    },
    "id": "412bbf4d",
    "outputId": "74b679da-75f4-4147-fa4b-db8526bc2332"
   },
   "outputs": [],
   "source": [
    "SENet_model.summary()"
   ]
  },
  {
   "cell_type": "code",
   "execution_count": null,
   "id": "cded8c3f",
   "metadata": {
    "colab": {
     "base_uri": "https://localhost:8080/"
    },
    "executionInfo": {
     "elapsed": 1469,
     "status": "ok",
     "timestamp": 1677060618480,
     "user": {
      "displayName": "吳承澔",
      "userId": "17428420001093174904"
     },
     "user_tz": -480
    },
    "id": "915eca6e",
    "outputId": "2a9c84ec-161a-4081-d013-3989c2f444f6"
   },
   "outputs": [],
   "source": [
    "batch_size = 4\n",
    "inputs = np.ones((batch_size, x_train.shape[1], x_train.shape[2], 3),\n",
    "                 dtype=np.float32)\n",
    "SENet_model(inputs).shape"
   ]
  },
  {
   "cell_type": "code",
   "execution_count": null,
   "id": "34486841",
   "metadata": {
    "colab": {
     "base_uri": "https://localhost:8080/"
    },
    "executionInfo": {
     "elapsed": 1124,
     "status": "ok",
     "timestamp": 1677060619602,
     "user": {
      "displayName": "吳承澔",
      "userId": "17428420001093174904"
     },
     "user_tz": -480
    },
    "id": "Nc4INz4fh5kD",
    "outputId": "7aa93020-6523-4055-aa9e-ef0510842fc7"
   },
   "outputs": [],
   "source": [
    "SENet_model(inputs)"
   ]
  },
  {
   "cell_type": "code",
   "execution_count": null,
   "id": "8fce3663",
   "metadata": {
    "id": "yCFIKk8yiAFR"
   },
   "outputs": [],
   "source": []
  }
 ],
 "metadata": {
  "colab": {
   "provenance": []
  },
  "kernelspec": {
   "display_name": "Python 3 (ipykernel)",
   "language": "python",
   "name": "python3"
  },
  "language_info": {
   "codemirror_mode": {
    "name": "ipython",
    "version": 3
   },
   "file_extension": ".py",
   "mimetype": "text/x-python",
   "name": "python",
   "nbconvert_exporter": "python",
   "pygments_lexer": "ipython3",
   "version": "3.7.12"
  }
 },
 "nbformat": 4,
 "nbformat_minor": 5
}
