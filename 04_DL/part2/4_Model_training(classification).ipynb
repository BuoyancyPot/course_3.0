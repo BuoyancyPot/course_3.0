{
  "cells": [
    {
      "cell_type": "markdown",
      "id": "cfbc8b83",
      "metadata": {
        "id": "cfbc8b83"
      },
      "source": [
        "# **模型訓練（分類問題）**\n",
        "此份程式碼會講解針對分類型任務在模型訓練上需要注意的細節。\n",
        "\n",
        "## 本章節內容大綱\n",
        "* ### 二元分類問題\n",
        "    * ### [創建資料集／載入資料集（Dataset Creating/ Loading）](#DatasetCreating/Loading)\n",
        "    * ### [資料前處理（Data Preprocessing）](#DataPreprocessing)\n",
        "    * ### [模型建置（Model Building）](#ModelBuilding)\n",
        "    * ### [模型訓練（Model Training）](#ModelTraining)\n",
        "    * ### [模型評估（Model Evaluation）](#ModelEvaluation)\n",
        "* ### 多元分類問題\n",
        "---"
      ]
    },
    {
      "cell_type": "markdown",
      "id": "6c1ac997",
      "metadata": {
        "id": "6c1ac997"
      },
      "source": [
        "## 匯入套件"
      ]
    },
    {
      "cell_type": "code",
      "execution_count": 1,
      "id": "1e78cf9f",
      "metadata": {
        "id": "1e78cf9f"
      },
      "outputs": [],
      "source": [
        "import pandas as pd\n",
        "import numpy as np\n",
        "import matplotlib.pyplot as plt\n",
        "\n",
        "# Tensorflow 相關套件\n",
        "import tensorflow as tf\n",
        "from tensorflow import keras\n",
        "from tensorflow.keras import layers"
      ]
    },
    {
      "cell_type": "markdown",
      "id": "979f67f3",
      "metadata": {
        "id": "979f67f3"
      },
      "source": [
        "<a name=\"DatasetCreating/Loading\"></a>\n",
        "## 創建資料集／載入資料集（Dataset Creating / Loading）"
      ]
    },
    {
      "cell_type": "code",
      "source": [
        "# 上傳資料\n",
        "!wget -q https://github.com/TA-aiacademy/course_3.0/releases/download/DL/Data_part2.zip\n",
        "!unzip -q Data_part2.zip"
      ],
      "metadata": {
        "id": "MuTlaAi9FzqJ"
      },
      "id": "MuTlaAi9FzqJ",
      "execution_count": 2,
      "outputs": []
    },
    {
      "cell_type": "code",
      "execution_count": 3,
      "id": "5cbef01a",
      "metadata": {
        "id": "5cbef01a"
      },
      "outputs": [],
      "source": [
        "train_df = pd.read_csv('./Data/FilmComment_train.csv')\n",
        "test_df = pd.read_csv('./Data/FilmComment_test.csv')"
      ]
    },
    {
      "cell_type": "code",
      "execution_count": 4,
      "id": "9c5cca18",
      "metadata": {
        "id": "9c5cca18",
        "outputId": "40f44894-7cc2-4259-a20d-36d8b78f0cde",
        "colab": {
          "base_uri": "https://localhost:8080/",
          "height": 299
        }
      },
      "outputs": [
        {
          "output_type": "execute_result",
          "data": {
            "text/plain": [
              "   <skip>  the  and  a  of  to  is  br  in  it  ...  punchline  culminating  \\\n",
              "0       1    1    1  1   1   1   1   1   1   1  ...          0            0   \n",
              "1       1    1    1  1   1   1   1   0   1   0  ...          0            0   \n",
              "2       1    1    1  1   1   1   1   0   1   1  ...          0            0   \n",
              "3       1    1    1  1   1   1   1   0   1   1  ...          0            0   \n",
              "4       1    1    1  1   1   1   1   1   1   1  ...          0            0   \n",
              "\n",
              "   talentless  grabbing  soulless  unfairly  grail  retrospect  edged  y_label  \n",
              "0           0         0         0         0      0           0      0        1  \n",
              "1           0         0         0         0      0           0      0        0  \n",
              "2           0         0         0         0      0           0      0        1  \n",
              "3           0         0         0         0      0           0      0        0  \n",
              "4           0         0         0         0      0           0      0        1  \n",
              "\n",
              "[5 rows x 9998 columns]"
            ],
            "text/html": [
              "\n",
              "  <div id=\"df-366e37c9-2566-4850-b8f7-9bbeae430ace\">\n",
              "    <div class=\"colab-df-container\">\n",
              "      <div>\n",
              "<style scoped>\n",
              "    .dataframe tbody tr th:only-of-type {\n",
              "        vertical-align: middle;\n",
              "    }\n",
              "\n",
              "    .dataframe tbody tr th {\n",
              "        vertical-align: top;\n",
              "    }\n",
              "\n",
              "    .dataframe thead th {\n",
              "        text-align: right;\n",
              "    }\n",
              "</style>\n",
              "<table border=\"1\" class=\"dataframe\">\n",
              "  <thead>\n",
              "    <tr style=\"text-align: right;\">\n",
              "      <th></th>\n",
              "      <th>&lt;skip&gt;</th>\n",
              "      <th>the</th>\n",
              "      <th>and</th>\n",
              "      <th>a</th>\n",
              "      <th>of</th>\n",
              "      <th>to</th>\n",
              "      <th>is</th>\n",
              "      <th>br</th>\n",
              "      <th>in</th>\n",
              "      <th>it</th>\n",
              "      <th>...</th>\n",
              "      <th>punchline</th>\n",
              "      <th>culminating</th>\n",
              "      <th>talentless</th>\n",
              "      <th>grabbing</th>\n",
              "      <th>soulless</th>\n",
              "      <th>unfairly</th>\n",
              "      <th>grail</th>\n",
              "      <th>retrospect</th>\n",
              "      <th>edged</th>\n",
              "      <th>y_label</th>\n",
              "    </tr>\n",
              "  </thead>\n",
              "  <tbody>\n",
              "    <tr>\n",
              "      <th>0</th>\n",
              "      <td>1</td>\n",
              "      <td>1</td>\n",
              "      <td>1</td>\n",
              "      <td>1</td>\n",
              "      <td>1</td>\n",
              "      <td>1</td>\n",
              "      <td>1</td>\n",
              "      <td>1</td>\n",
              "      <td>1</td>\n",
              "      <td>1</td>\n",
              "      <td>...</td>\n",
              "      <td>0</td>\n",
              "      <td>0</td>\n",
              "      <td>0</td>\n",
              "      <td>0</td>\n",
              "      <td>0</td>\n",
              "      <td>0</td>\n",
              "      <td>0</td>\n",
              "      <td>0</td>\n",
              "      <td>0</td>\n",
              "      <td>1</td>\n",
              "    </tr>\n",
              "    <tr>\n",
              "      <th>1</th>\n",
              "      <td>1</td>\n",
              "      <td>1</td>\n",
              "      <td>1</td>\n",
              "      <td>1</td>\n",
              "      <td>1</td>\n",
              "      <td>1</td>\n",
              "      <td>1</td>\n",
              "      <td>0</td>\n",
              "      <td>1</td>\n",
              "      <td>0</td>\n",
              "      <td>...</td>\n",
              "      <td>0</td>\n",
              "      <td>0</td>\n",
              "      <td>0</td>\n",
              "      <td>0</td>\n",
              "      <td>0</td>\n",
              "      <td>0</td>\n",
              "      <td>0</td>\n",
              "      <td>0</td>\n",
              "      <td>0</td>\n",
              "      <td>0</td>\n",
              "    </tr>\n",
              "    <tr>\n",
              "      <th>2</th>\n",
              "      <td>1</td>\n",
              "      <td>1</td>\n",
              "      <td>1</td>\n",
              "      <td>1</td>\n",
              "      <td>1</td>\n",
              "      <td>1</td>\n",
              "      <td>1</td>\n",
              "      <td>0</td>\n",
              "      <td>1</td>\n",
              "      <td>1</td>\n",
              "      <td>...</td>\n",
              "      <td>0</td>\n",
              "      <td>0</td>\n",
              "      <td>0</td>\n",
              "      <td>0</td>\n",
              "      <td>0</td>\n",
              "      <td>0</td>\n",
              "      <td>0</td>\n",
              "      <td>0</td>\n",
              "      <td>0</td>\n",
              "      <td>1</td>\n",
              "    </tr>\n",
              "    <tr>\n",
              "      <th>3</th>\n",
              "      <td>1</td>\n",
              "      <td>1</td>\n",
              "      <td>1</td>\n",
              "      <td>1</td>\n",
              "      <td>1</td>\n",
              "      <td>1</td>\n",
              "      <td>1</td>\n",
              "      <td>0</td>\n",
              "      <td>1</td>\n",
              "      <td>1</td>\n",
              "      <td>...</td>\n",
              "      <td>0</td>\n",
              "      <td>0</td>\n",
              "      <td>0</td>\n",
              "      <td>0</td>\n",
              "      <td>0</td>\n",
              "      <td>0</td>\n",
              "      <td>0</td>\n",
              "      <td>0</td>\n",
              "      <td>0</td>\n",
              "      <td>0</td>\n",
              "    </tr>\n",
              "    <tr>\n",
              "      <th>4</th>\n",
              "      <td>1</td>\n",
              "      <td>1</td>\n",
              "      <td>1</td>\n",
              "      <td>1</td>\n",
              "      <td>1</td>\n",
              "      <td>1</td>\n",
              "      <td>1</td>\n",
              "      <td>1</td>\n",
              "      <td>1</td>\n",
              "      <td>1</td>\n",
              "      <td>...</td>\n",
              "      <td>0</td>\n",
              "      <td>0</td>\n",
              "      <td>0</td>\n",
              "      <td>0</td>\n",
              "      <td>0</td>\n",
              "      <td>0</td>\n",
              "      <td>0</td>\n",
              "      <td>0</td>\n",
              "      <td>0</td>\n",
              "      <td>1</td>\n",
              "    </tr>\n",
              "  </tbody>\n",
              "</table>\n",
              "<p>5 rows × 9998 columns</p>\n",
              "</div>\n",
              "      <button class=\"colab-df-convert\" onclick=\"convertToInteractive('df-366e37c9-2566-4850-b8f7-9bbeae430ace')\"\n",
              "              title=\"Convert this dataframe to an interactive table.\"\n",
              "              style=\"display:none;\">\n",
              "        \n",
              "  <svg xmlns=\"http://www.w3.org/2000/svg\" height=\"24px\"viewBox=\"0 0 24 24\"\n",
              "       width=\"24px\">\n",
              "    <path d=\"M0 0h24v24H0V0z\" fill=\"none\"/>\n",
              "    <path d=\"M18.56 5.44l.94 2.06.94-2.06 2.06-.94-2.06-.94-.94-2.06-.94 2.06-2.06.94zm-11 1L8.5 8.5l.94-2.06 2.06-.94-2.06-.94L8.5 2.5l-.94 2.06-2.06.94zm10 10l.94 2.06.94-2.06 2.06-.94-2.06-.94-.94-2.06-.94 2.06-2.06.94z\"/><path d=\"M17.41 7.96l-1.37-1.37c-.4-.4-.92-.59-1.43-.59-.52 0-1.04.2-1.43.59L10.3 9.45l-7.72 7.72c-.78.78-.78 2.05 0 2.83L4 21.41c.39.39.9.59 1.41.59.51 0 1.02-.2 1.41-.59l7.78-7.78 2.81-2.81c.8-.78.8-2.07 0-2.86zM5.41 20L4 18.59l7.72-7.72 1.47 1.35L5.41 20z\"/>\n",
              "  </svg>\n",
              "      </button>\n",
              "      \n",
              "  <style>\n",
              "    .colab-df-container {\n",
              "      display:flex;\n",
              "      flex-wrap:wrap;\n",
              "      gap: 12px;\n",
              "    }\n",
              "\n",
              "    .colab-df-convert {\n",
              "      background-color: #E8F0FE;\n",
              "      border: none;\n",
              "      border-radius: 50%;\n",
              "      cursor: pointer;\n",
              "      display: none;\n",
              "      fill: #1967D2;\n",
              "      height: 32px;\n",
              "      padding: 0 0 0 0;\n",
              "      width: 32px;\n",
              "    }\n",
              "\n",
              "    .colab-df-convert:hover {\n",
              "      background-color: #E2EBFA;\n",
              "      box-shadow: 0px 1px 2px rgba(60, 64, 67, 0.3), 0px 1px 3px 1px rgba(60, 64, 67, 0.15);\n",
              "      fill: #174EA6;\n",
              "    }\n",
              "\n",
              "    [theme=dark] .colab-df-convert {\n",
              "      background-color: #3B4455;\n",
              "      fill: #D2E3FC;\n",
              "    }\n",
              "\n",
              "    [theme=dark] .colab-df-convert:hover {\n",
              "      background-color: #434B5C;\n",
              "      box-shadow: 0px 1px 3px 1px rgba(0, 0, 0, 0.15);\n",
              "      filter: drop-shadow(0px 1px 2px rgba(0, 0, 0, 0.3));\n",
              "      fill: #FFFFFF;\n",
              "    }\n",
              "  </style>\n",
              "\n",
              "      <script>\n",
              "        const buttonEl =\n",
              "          document.querySelector('#df-366e37c9-2566-4850-b8f7-9bbeae430ace button.colab-df-convert');\n",
              "        buttonEl.style.display =\n",
              "          google.colab.kernel.accessAllowed ? 'block' : 'none';\n",
              "\n",
              "        async function convertToInteractive(key) {\n",
              "          const element = document.querySelector('#df-366e37c9-2566-4850-b8f7-9bbeae430ace');\n",
              "          const dataTable =\n",
              "            await google.colab.kernel.invokeFunction('convertToInteractive',\n",
              "                                                     [key], {});\n",
              "          if (!dataTable) return;\n",
              "\n",
              "          const docLinkHtml = 'Like what you see? Visit the ' +\n",
              "            '<a target=\"_blank\" href=https://colab.research.google.com/notebooks/data_table.ipynb>data table notebook</a>'\n",
              "            + ' to learn more about interactive tables.';\n",
              "          element.innerHTML = '';\n",
              "          dataTable['output_type'] = 'display_data';\n",
              "          await google.colab.output.renderOutput(dataTable, element);\n",
              "          const docLink = document.createElement('div');\n",
              "          docLink.innerHTML = docLinkHtml;\n",
              "          element.appendChild(docLink);\n",
              "        }\n",
              "      </script>\n",
              "    </div>\n",
              "  </div>\n",
              "  "
            ]
          },
          "metadata": {},
          "execution_count": 4
        }
      ],
      "source": [
        "train_df.head()"
      ]
    },
    {
      "cell_type": "markdown",
      "id": "5d6bfd0d",
      "metadata": {
        "id": "5d6bfd0d"
      },
      "source": [
        "* #### 電影評論資料集\n",
        "訓練集，測試集分別為 6250，2500 筆，9997 種常用字詞，若在同一則評論中出現該字詞為 1，若否則為 0，y_label 標記評價正面與否。"
      ]
    },
    {
      "cell_type": "code",
      "execution_count": 5,
      "id": "32082d9c",
      "metadata": {
        "id": "32082d9c"
      },
      "outputs": [],
      "source": [
        "X_df = train_df.iloc[:, :-1].values\n",
        "y_df = train_df.y_label.values"
      ]
    },
    {
      "cell_type": "code",
      "execution_count": 6,
      "id": "55e1bc9b",
      "metadata": {
        "id": "55e1bc9b"
      },
      "outputs": [],
      "source": [
        "X_test = test_df.iloc[:, :-1].values\n",
        "y_test = test_df.y_label.values"
      ]
    },
    {
      "cell_type": "markdown",
      "id": "f2133a95",
      "metadata": {
        "id": "f2133a95"
      },
      "source": [
        "<a name=\"DataPreprocessing\"></a>\n",
        "## 資料前處理（Data Preprocessing）"
      ]
    },
    {
      "cell_type": "markdown",
      "id": "858fc2ed",
      "metadata": {
        "id": "858fc2ed"
      },
      "source": [
        "* ### 資料正規化（Data Normalization）\n",
        "由於此資料集的數值範圍都介於 0-1，並且皆是以相同意義轉換特徵值，因此也可以使用原始的數值作為訓練資料。"
      ]
    },
    {
      "cell_type": "markdown",
      "id": "f18e67ea",
      "metadata": {
        "id": "f18e67ea"
      },
      "source": [
        "* ### 資料切分（Data Splitting）"
      ]
    },
    {
      "cell_type": "code",
      "execution_count": 7,
      "id": "6fe5be4a",
      "metadata": {
        "id": "6fe5be4a"
      },
      "outputs": [],
      "source": [
        "# train, valid/test dataset split\n",
        "from sklearn.model_selection import train_test_split\n",
        "X_train, X_valid, y_train, y_valid = \\\n",
        "    train_test_split(X_df, y_df, test_size=0.1, random_state=17)"
      ]
    },
    {
      "cell_type": "code",
      "execution_count": 8,
      "id": "74f1ed43",
      "metadata": {
        "id": "74f1ed43",
        "outputId": "ab0e90f3-5b3a-4fad-e1c5-604c785818c1",
        "colab": {
          "base_uri": "https://localhost:8080/"
        }
      },
      "outputs": [
        {
          "output_type": "stream",
          "name": "stdout",
          "text": [
            "X_train shape: (5625, 9997)\n",
            "X_valid shape: (625, 9997)\n",
            "y_train shape: (5625,)\n",
            "y_valid shape: (625,)\n"
          ]
        }
      ],
      "source": [
        "print(f'X_train shape: {X_train.shape}')\n",
        "print(f'X_valid shape: {X_valid.shape}')\n",
        "print(f'y_train shape: {y_train.shape}')\n",
        "print(f'y_valid shape: {y_valid.shape}')"
      ]
    },
    {
      "cell_type": "markdown",
      "id": "88a51105",
      "metadata": {
        "id": "88a51105"
      },
      "source": [
        "<a name=\"ModelBuilding\"></a>\n",
        "## 模型建置（Model Building）"
      ]
    },
    {
      "cell_type": "code",
      "execution_count": 9,
      "id": "a4345b20",
      "metadata": {
        "id": "a4345b20",
        "outputId": "30ac54fd-d848-47f8-d140-f9c44029b3d6",
        "colab": {
          "base_uri": "https://localhost:8080/"
        }
      },
      "outputs": [
        {
          "output_type": "stream",
          "name": "stdout",
          "text": [
            "Model: \"sequential\"\n",
            "_________________________________________________________________\n",
            " Layer (type)                Output Shape              Param #   \n",
            "=================================================================\n",
            " dense (Dense)               (None, 16)                159968    \n",
            "                                                                 \n",
            " dense_1 (Dense)             (None, 16)                272       \n",
            "                                                                 \n",
            " dense_2 (Dense)             (None, 1)                 17        \n",
            "                                                                 \n",
            "=================================================================\n",
            "Total params: 160,257\n",
            "Trainable params: 160,257\n",
            "Non-trainable params: 0\n",
            "_________________________________________________________________\n"
          ]
        }
      ],
      "source": [
        "keras.backend.clear_session()  # 重置 keras 的所有狀態\n",
        "tf.random.set_seed(17)  # 設定 tensorflow 隨機種子\n",
        "\n",
        "model = keras.models.Sequential()\n",
        "model.add(layers.Dense(16,  # 神經元個數\n",
        "                       input_shape=X_train[0].shape,  # 輸入形狀\n",
        "                       activation='relu'))  # 激活函數\n",
        "model.add(layers.Dense(16,\n",
        "                       activation='relu'))\n",
        "model.add(layers.Dense(1,\n",
        "                       activation='sigmoid'))\n",
        "\n",
        "model.summary()"
      ]
    },
    {
      "cell_type": "markdown",
      "id": "5e483262",
      "metadata": {
        "id": "5e483262"
      },
      "source": [
        "![](https://i.imgur.com/75GQ9gz.png)"
      ]
    },
    {
      "cell_type": "markdown",
      "id": "3a358982",
      "metadata": {
        "id": "3a358982"
      },
      "source": [
        "## 模型訓練（Model training）"
      ]
    },
    {
      "cell_type": "markdown",
      "id": "2fd7204c",
      "metadata": {
        "id": "2fd7204c"
      },
      "source": [
        "* ### 模型編譯（model compile）\n",
        "設定模型訓練時，所需的優化器 (optimizer)、損失函數 (loss function)、評估指標 (metrics)"
      ]
    },
    {
      "cell_type": "code",
      "execution_count": 10,
      "id": "bde67281",
      "metadata": {
        "id": "bde67281"
      },
      "outputs": [],
      "source": [
        "model.compile(optimizer='rmsprop',  # default: RMSprop(learning_rate=0.001)\n",
        "              loss='binary_crossentropy',  # 針對二元分類問題的損失函數\n",
        "              metrics='acc')  # 評估指標: 準確率"
      ]
    },
    {
      "cell_type": "markdown",
      "id": "4c992b9d",
      "metadata": {
        "id": "4c992b9d"
      },
      "source": [
        "![](https://i.imgur.com/GazyxvF.png)"
      ]
    },
    {
      "cell_type": "code",
      "execution_count": 11,
      "id": "1072c292",
      "metadata": {
        "id": "1072c292",
        "outputId": "5336cad6-c610-4a26-b6d4-65fad62e525d",
        "colab": {
          "base_uri": "https://localhost:8080/"
        }
      },
      "outputs": [
        {
          "output_type": "stream",
          "name": "stdout",
          "text": [
            "Epoch 1/20\n",
            "11/11 [==============================] - 2s 91ms/step - loss: 0.6230 - acc: 0.6903 - val_loss: 0.5471 - val_acc: 0.7936\n",
            "Epoch 2/20\n",
            "11/11 [==============================] - 1s 64ms/step - loss: 0.4577 - acc: 0.8684 - val_loss: 0.4550 - val_acc: 0.8512\n",
            "Epoch 3/20\n",
            "11/11 [==============================] - 1s 64ms/step - loss: 0.3636 - acc: 0.9036 - val_loss: 0.4005 - val_acc: 0.8592\n",
            "Epoch 4/20\n",
            "11/11 [==============================] - 1s 62ms/step - loss: 0.2891 - acc: 0.9326 - val_loss: 0.3681 - val_acc: 0.8688\n",
            "Epoch 5/20\n",
            "11/11 [==============================] - 1s 63ms/step - loss: 0.2392 - acc: 0.9461 - val_loss: 0.3466 - val_acc: 0.8704\n",
            "Epoch 6/20\n",
            "11/11 [==============================] - 1s 64ms/step - loss: 0.1997 - acc: 0.9586 - val_loss: 0.3323 - val_acc: 0.8736\n",
            "Epoch 7/20\n",
            "11/11 [==============================] - 1s 66ms/step - loss: 0.1650 - acc: 0.9675 - val_loss: 0.3242 - val_acc: 0.8752\n",
            "Epoch 8/20\n",
            "11/11 [==============================] - 1s 64ms/step - loss: 0.1411 - acc: 0.9740 - val_loss: 0.3263 - val_acc: 0.8720\n",
            "Epoch 9/20\n",
            "11/11 [==============================] - 1s 62ms/step - loss: 0.1185 - acc: 0.9796 - val_loss: 0.3396 - val_acc: 0.8640\n",
            "Epoch 10/20\n",
            "11/11 [==============================] - 1s 61ms/step - loss: 0.0989 - acc: 0.9844 - val_loss: 0.3261 - val_acc: 0.8688\n",
            "Epoch 11/20\n",
            "11/11 [==============================] - 1s 64ms/step - loss: 0.0866 - acc: 0.9865 - val_loss: 0.3544 - val_acc: 0.8528\n",
            "Epoch 12/20\n",
            "11/11 [==============================] - 1s 62ms/step - loss: 0.0703 - acc: 0.9915 - val_loss: 0.3529 - val_acc: 0.8640\n",
            "Epoch 13/20\n",
            "11/11 [==============================] - 1s 61ms/step - loss: 0.0588 - acc: 0.9950 - val_loss: 0.3502 - val_acc: 0.8624\n",
            "Epoch 14/20\n",
            "11/11 [==============================] - 1s 80ms/step - loss: 0.0530 - acc: 0.9956 - val_loss: 0.3704 - val_acc: 0.8624\n",
            "Epoch 15/20\n",
            "11/11 [==============================] - 1s 107ms/step - loss: 0.0417 - acc: 0.9977 - val_loss: 0.3722 - val_acc: 0.8656\n",
            "Epoch 16/20\n",
            "11/11 [==============================] - 1s 106ms/step - loss: 0.0369 - acc: 0.9972 - val_loss: 0.4464 - val_acc: 0.8384\n",
            "Epoch 17/20\n",
            "11/11 [==============================] - 1s 62ms/step - loss: 0.0341 - acc: 0.9979 - val_loss: 0.3902 - val_acc: 0.8576\n",
            "Epoch 18/20\n",
            "11/11 [==============================] - 1s 63ms/step - loss: 0.0262 - acc: 0.9988 - val_loss: 0.4002 - val_acc: 0.8544\n",
            "Epoch 19/20\n",
            "11/11 [==============================] - 1s 64ms/step - loss: 0.0217 - acc: 0.9993 - val_loss: 0.4406 - val_acc: 0.8640\n",
            "Epoch 20/20\n",
            "11/11 [==============================] - 1s 60ms/step - loss: 0.0205 - acc: 0.9991 - val_loss: 0.4342 - val_acc: 0.8576\n"
          ]
        }
      ],
      "source": [
        "history = model.fit(X_train, y_train,\n",
        "                    batch_size=512,\n",
        "                    epochs=20,\n",
        "                    validation_data=(X_valid, y_valid))"
      ]
    },
    {
      "cell_type": "markdown",
      "id": "49d3db7d",
      "metadata": {
        "id": "49d3db7d"
      },
      "source": [
        "<a name=\"ModelEvaluation\"></a>\n",
        "## 模型評估（Model Evaluation）"
      ]
    },
    {
      "cell_type": "markdown",
      "id": "cb66d982",
      "metadata": {
        "id": "cb66d982"
      },
      "source": [
        "* ### 視覺化訓練過程的評估指標 （Visualization）"
      ]
    },
    {
      "cell_type": "code",
      "execution_count": 12,
      "id": "d7ea5696",
      "metadata": {
        "id": "d7ea5696",
        "outputId": "5c6eff6a-467f-45a5-9e97-16a0086c46ab",
        "colab": {
          "base_uri": "https://localhost:8080/"
        }
      },
      "outputs": [
        {
          "output_type": "stream",
          "name": "stdout",
          "text": [
            "dict_keys(['loss', 'acc', 'val_loss', 'val_acc'])\n"
          ]
        }
      ],
      "source": [
        "# type(history.history) = dictionary\n",
        "print(history.history.keys())"
      ]
    },
    {
      "cell_type": "code",
      "execution_count": 13,
      "id": "ad38e820",
      "metadata": {
        "id": "ad38e820"
      },
      "outputs": [],
      "source": [
        "train_loss = history.history['loss']\n",
        "train_acc = history.history['acc']\n",
        "\n",
        "valid_loss = history.history['val_loss']\n",
        "valid_acc = history.history['val_acc']"
      ]
    },
    {
      "cell_type": "code",
      "execution_count": 14,
      "id": "3e7050e9",
      "metadata": {
        "id": "3e7050e9",
        "outputId": "4b17001c-a320-488d-c9ca-36dff147ef0e",
        "colab": {
          "base_uri": "https://localhost:8080/",
          "height": 268
        }
      },
      "outputs": [
        {
          "output_type": "execute_result",
          "data": {
            "text/plain": [
              "<matplotlib.legend.Legend at 0x7fbdece8de20>"
            ]
          },
          "metadata": {},
          "execution_count": 14
        },
        {
          "output_type": "display_data",
          "data": {
            "text/plain": [
              "<Figure size 1080x288 with 2 Axes>"
            ],
            "image/png": "[encoded data removed]"
          },
          "metadata": {
            "needs_background": "light"
          }
        }
      ],
      "source": [
        "plt.figure(figsize=(15, 4))\n",
        "plt.subplot(1, 2, 1)\n",
        "plt.plot(range(len(train_loss)), train_loss, label='train_loss')\n",
        "plt.plot(range(len(valid_loss)), valid_loss, label='valid_loss')\n",
        "plt.xlabel('Epochs')\n",
        "plt.ylabel('Binary crossentropy')\n",
        "plt.legend()\n",
        "\n",
        "plt.subplot(1, 2, 2)\n",
        "plt.plot(range(len(train_acc)), train_acc, label='train_acc')\n",
        "plt.plot(range(len(valid_acc)), valid_acc, label='valid_acc')\n",
        "plt.xlabel('Epochs')\n",
        "plt.ylabel('Accuracy')\n",
        "plt.legend()"
      ]
    },
    {
      "cell_type": "markdown",
      "id": "daaebf99",
      "metadata": {
        "id": "daaebf99"
      },
      "source": [
        "* ### 模型預測（Model predictions）"
      ]
    },
    {
      "cell_type": "code",
      "execution_count": 15,
      "id": "79b4465f",
      "metadata": {
        "id": "79b4465f",
        "outputId": "aff9df3b-b1dc-472a-c03a-b1e1e326132e",
        "colab": {
          "base_uri": "https://localhost:8080/"
        }
      },
      "outputs": [
        {
          "output_type": "stream",
          "name": "stdout",
          "text": [
            "tf.Tensor(\n",
            "[[0.99701065]\n",
            " [0.10741324]\n",
            " [0.02380413]\n",
            " ...\n",
            " [0.99988586]\n",
            " [0.00874441]\n",
            " [0.9999656 ]], shape=(2500, 1), dtype=float32)\n"
          ]
        }
      ],
      "source": [
        "# predict all test data\n",
        "pred = model(X_test)\n",
        "print(pred)"
      ]
    },
    {
      "cell_type": "code",
      "execution_count": 16,
      "id": "895f082c",
      "metadata": {
        "id": "895f082c",
        "outputId": "d5aef329-a4e3-475f-bb87-f1d010771f89",
        "colab": {
          "base_uri": "https://localhost:8080/"
        }
      },
      "outputs": [
        {
          "output_type": "stream",
          "name": "stdout",
          "text": [
            "tf.Tensor(\n",
            "[[1]\n",
            " [0]\n",
            " [0]\n",
            " ...\n",
            " [1]\n",
            " [0]\n",
            " [1]], shape=(2500, 1), dtype=int32)\n"
          ]
        }
      ],
      "source": [
        "# use threshold to obtain binary class\n",
        "pred_class = model(X_test) > 0.5\n",
        "print(tf.cast(pred_class, tf.int32))"
      ]
    },
    {
      "cell_type": "markdown",
      "id": "8273fa68",
      "metadata": {
        "id": "8273fa68"
      },
      "source": [
        "* ### 視覺化結果"
      ]
    },
    {
      "cell_type": "code",
      "execution_count": 17,
      "id": "4a8c906c",
      "metadata": {
        "id": "4a8c906c",
        "outputId": "9e6c109f-6a22-4d4f-d207-432685b584e7",
        "colab": {
          "base_uri": "https://localhost:8080/",
          "height": 259
        }
      },
      "outputs": [
        {
          "output_type": "execute_result",
          "data": {
            "text/plain": [
              "<matplotlib.legend.Legend at 0x7fbdec394520>"
            ]
          },
          "metadata": {},
          "execution_count": 17
        },
        {
          "output_type": "display_data",
          "data": {
            "text/plain": [
              "<Figure size 1080x288 with 1 Axes>"
            ],
            "image/png": "[encoded data removed]"
          },
          "metadata": {
            "needs_background": "light"
          }
        }
      ],
      "source": [
        "plt.figure(figsize=(15, 4))\n",
        "plt.scatter(range(pred.shape[0]), pred)\n",
        "plt.hlines(0.5, 0, pred.shape[0], colors='red', label='y=0.5')\n",
        "plt.legend()"
      ]
    },
    {
      "cell_type": "markdown",
      "id": "73309200",
      "metadata": {
        "id": "73309200"
      },
      "source": [
        "----------------\n",
        "此範例是二元分類，y 的表示方式可用一維陣列，分別以 0, 1 表示兩個類別（正面，負面評價）\n",
        "![](https://i.imgur.com/QYp5PVQ.png)\n",
        "\n",
        "**若是多元分類又該如何表示？**以多個維度的 One-Hot Encoding 方式表示多元分類標籤\n",
        "![](https://i.imgur.com/vJcdRBj.png)\n",
        "\n",
        "**對訓練有何影響？**\n",
        "跟 y 最直接相關的就是 Loss function，間接影響到模型輸出的維度\n",
        "![](https://i.imgur.com/gbEMjDl.png)"
      ]
    },
    {
      "cell_type": "markdown",
      "id": "ccb031e0",
      "metadata": {
        "id": "ccb031e0"
      },
      "source": [
        "----------------------------"
      ]
    },
    {
      "cell_type": "markdown",
      "id": "23ba626a",
      "metadata": {
        "id": "23ba626a"
      },
      "source": [
        "## 多元分類（Multi-class classification）"
      ]
    },
    {
      "cell_type": "markdown",
      "id": "e5e7adb5",
      "metadata": {
        "id": "e5e7adb5"
      },
      "source": [
        "### 創建資料集／載入資料集（Dataset Creating / Loading）"
      ]
    },
    {
      "cell_type": "code",
      "execution_count": 18,
      "id": "2ada5ae4",
      "metadata": {
        "id": "2ada5ae4"
      },
      "outputs": [],
      "source": [
        "train_df = pd.read_csv('./Data/FilmComment_train.csv')\n",
        "test_df = pd.read_csv('./Data/FilmComment_test.csv')"
      ]
    },
    {
      "cell_type": "code",
      "execution_count": 19,
      "id": "5fa1ba27",
      "metadata": {
        "id": "5fa1ba27"
      },
      "outputs": [],
      "source": [
        "X_df = train_df.iloc[:, :-1].values\n",
        "y_df = train_df.y_label.values"
      ]
    },
    {
      "cell_type": "code",
      "execution_count": 20,
      "id": "1db3602b",
      "metadata": {
        "id": "1db3602b"
      },
      "outputs": [],
      "source": [
        "X_test = test_df.iloc[:, :-1].values\n",
        "y_test = test_df.y_label.values"
      ]
    },
    {
      "cell_type": "markdown",
      "id": "47419c59",
      "metadata": {
        "id": "47419c59"
      },
      "source": [
        "<a name=\"DataPreprocessing\"></a>\n",
        "## 資料前處理（Data Preprocessing）"
      ]
    },
    {
      "cell_type": "markdown",
      "id": "8ad90b6f",
      "metadata": {
        "id": "8ad90b6f"
      },
      "source": [
        "* #### One-Hot encoding"
      ]
    },
    {
      "cell_type": "code",
      "execution_count": 21,
      "id": "febf8069",
      "metadata": {
        "id": "febf8069"
      },
      "outputs": [],
      "source": [
        "# Convert to One-Hot encoding\n",
        "y_df = keras.utils.to_categorical(y_df)\n",
        "y_test = keras.utils.to_categorical(y_test)"
      ]
    },
    {
      "cell_type": "code",
      "execution_count": 22,
      "id": "94cd8466",
      "metadata": {
        "id": "94cd8466"
      },
      "outputs": [],
      "source": [
        "# train, valid/test dataset split\n",
        "from sklearn.model_selection import train_test_split\n",
        "X_train, X_valid, y_train, y_valid = \\\n",
        "    train_test_split(X_df, y_df, test_size=0.1, random_state=17)"
      ]
    },
    {
      "cell_type": "code",
      "execution_count": 23,
      "id": "b85e17bf",
      "metadata": {
        "id": "b85e17bf",
        "outputId": "0f2aded5-090d-48ff-a8d2-b43f47f82a9e",
        "colab": {
          "base_uri": "https://localhost:8080/"
        }
      },
      "outputs": [
        {
          "output_type": "stream",
          "name": "stdout",
          "text": [
            "X_train shape: (5625, 9997)\n",
            "X_valid shape: (625, 9997)\n",
            "y_train shape: (5625, 2)\n",
            "y_valid shape: (625, 2)\n"
          ]
        }
      ],
      "source": [
        "print(f'X_train shape: {X_train.shape}')\n",
        "print(f'X_valid shape: {X_valid.shape}')\n",
        "print(f'y_train shape: {y_train.shape}')\n",
        "print(f'y_valid shape: {y_valid.shape}')"
      ]
    },
    {
      "cell_type": "markdown",
      "id": "80924567",
      "metadata": {
        "id": "80924567"
      },
      "source": [
        "### 模型建置（Model Building）"
      ]
    },
    {
      "cell_type": "code",
      "execution_count": 24,
      "id": "8391cbd3",
      "metadata": {
        "id": "8391cbd3",
        "outputId": "677221f6-3ca7-4114-99bd-8d55bd20643a",
        "colab": {
          "base_uri": "https://localhost:8080/"
        }
      },
      "outputs": [
        {
          "output_type": "stream",
          "name": "stdout",
          "text": [
            "Model: \"sequential\"\n",
            "_________________________________________________________________\n",
            " Layer (type)                Output Shape              Param #   \n",
            "=================================================================\n",
            " dense (Dense)               (None, 16)                159968    \n",
            "                                                                 \n",
            " dense_1 (Dense)             (None, 16)                272       \n",
            "                                                                 \n",
            " dense_2 (Dense)             (None, 2)                 34        \n",
            "                                                                 \n",
            "=================================================================\n",
            "Total params: 160,274\n",
            "Trainable params: 160,274\n",
            "Non-trainable params: 0\n",
            "_________________________________________________________________\n"
          ]
        }
      ],
      "source": [
        "keras.backend.clear_session()\n",
        "tf.random.set_seed(17)\n",
        "\n",
        "model = keras.models.Sequential()\n",
        "model.add(layers.Dense(16,\n",
        "                        input_shape=X_train[0].shape,\n",
        "                        activation='relu'))\n",
        "model.add(layers.Dense(16,\n",
        "                       activation='relu'))\n",
        "model.add(layers.Dense(2,\n",
        "                       activation='softmax'))\n",
        "\n",
        "model.summary()"
      ]
    },
    {
      "cell_type": "markdown",
      "id": "f9ceea97",
      "metadata": {
        "id": "f9ceea97"
      },
      "source": [
        "### 模型訓練（Model training）"
      ]
    },
    {
      "cell_type": "markdown",
      "id": "bb5925b9",
      "metadata": {
        "id": "bb5925b9"
      },
      "source": [
        "* #### 模型編譯（model compile）\n",
        "設定模型訓練時，所需的優化器 (optimizer)、損失函數 (loss function)"
      ]
    },
    {
      "cell_type": "code",
      "execution_count": 25,
      "id": "f545b1ad",
      "metadata": {
        "id": "f545b1ad"
      },
      "outputs": [],
      "source": [
        "model.compile(optimizer='rmsprop',\n",
        "              loss='categorical_crossentropy',\n",
        "              metrics='acc')"
      ]
    },
    {
      "cell_type": "code",
      "execution_count": 26,
      "id": "629d0d4f",
      "metadata": {
        "id": "629d0d4f",
        "outputId": "414f66aa-a780-4e7e-c706-d827cb85c663",
        "colab": {
          "base_uri": "https://localhost:8080/"
        }
      },
      "outputs": [
        {
          "output_type": "stream",
          "name": "stdout",
          "text": [
            "Epoch 1/20\n",
            "11/11 [==============================] - 2s 86ms/step - loss: 0.6422 - acc: 0.7003 - val_loss: 0.5669 - val_acc: 0.8240\n",
            "Epoch 2/20\n",
            "11/11 [==============================] - 1s 67ms/step - loss: 0.4952 - acc: 0.8622 - val_loss: 0.4768 - val_acc: 0.8352\n",
            "Epoch 3/20\n",
            "11/11 [==============================] - 1s 88ms/step - loss: 0.3936 - acc: 0.8882 - val_loss: 0.4051 - val_acc: 0.8736\n",
            "Epoch 4/20\n",
            "11/11 [==============================] - 1s 107ms/step - loss: 0.3110 - acc: 0.9131 - val_loss: 0.3655 - val_acc: 0.8688\n",
            "Epoch 5/20\n",
            "11/11 [==============================] - 1s 101ms/step - loss: 0.2494 - acc: 0.9381 - val_loss: 0.3415 - val_acc: 0.8720\n",
            "Epoch 6/20\n",
            "11/11 [==============================] - 1s 63ms/step - loss: 0.2062 - acc: 0.9516 - val_loss: 0.3255 - val_acc: 0.8784\n",
            "Epoch 7/20\n",
            "11/11 [==============================] - 1s 62ms/step - loss: 0.1689 - acc: 0.9625 - val_loss: 0.3170 - val_acc: 0.8784\n",
            "Epoch 8/20\n",
            "11/11 [==============================] - 1s 63ms/step - loss: 0.1419 - acc: 0.9721 - val_loss: 0.3212 - val_acc: 0.8736\n",
            "Epoch 9/20\n",
            "11/11 [==============================] - 1s 64ms/step - loss: 0.1164 - acc: 0.9769 - val_loss: 0.3391 - val_acc: 0.8672\n",
            "Epoch 10/20\n",
            "11/11 [==============================] - 1s 65ms/step - loss: 0.0927 - acc: 0.9835 - val_loss: 0.3252 - val_acc: 0.8752\n",
            "Epoch 11/20\n",
            "11/11 [==============================] - 1s 62ms/step - loss: 0.0786 - acc: 0.9851 - val_loss: 0.3616 - val_acc: 0.8592\n",
            "Epoch 12/20\n",
            "11/11 [==============================] - 1s 62ms/step - loss: 0.0618 - acc: 0.9911 - val_loss: 0.3619 - val_acc: 0.8688\n",
            "Epoch 13/20\n",
            "11/11 [==============================] - 1s 61ms/step - loss: 0.0491 - acc: 0.9959 - val_loss: 0.3559 - val_acc: 0.8624\n",
            "Epoch 14/20\n",
            "11/11 [==============================] - 1s 64ms/step - loss: 0.0447 - acc: 0.9954 - val_loss: 0.3792 - val_acc: 0.8720\n",
            "Epoch 15/20\n",
            "11/11 [==============================] - 1s 82ms/step - loss: 0.0321 - acc: 0.9982 - val_loss: 0.3910 - val_acc: 0.8688\n",
            "Epoch 16/20\n",
            "11/11 [==============================] - 1s 86ms/step - loss: 0.0280 - acc: 0.9980 - val_loss: 0.4854 - val_acc: 0.8416\n",
            "Epoch 17/20\n",
            "11/11 [==============================] - 1s 84ms/step - loss: 0.0265 - acc: 0.9979 - val_loss: 0.4139 - val_acc: 0.8624\n",
            "Epoch 18/20\n",
            "11/11 [==============================] - 1s 63ms/step - loss: 0.0183 - acc: 0.9991 - val_loss: 0.4272 - val_acc: 0.8608\n",
            "Epoch 19/20\n",
            "11/11 [==============================] - 1s 90ms/step - loss: 0.0148 - acc: 0.9995 - val_loss: 0.4678 - val_acc: 0.8608\n",
            "Epoch 20/20\n",
            "11/11 [==============================] - 1s 97ms/step - loss: 0.0141 - acc: 0.9996 - val_loss: 0.4709 - val_acc: 0.8576\n"
          ]
        }
      ],
      "source": [
        "history = model.fit(X_train, y_train,\n",
        "                    batch_size=512,\n",
        "                    epochs=20,\n",
        "                    validation_data=(X_valid, y_valid))"
      ]
    },
    {
      "cell_type": "markdown",
      "id": "f7941459",
      "metadata": {
        "id": "f7941459"
      },
      "source": [
        "### 模型評估（Model evalutation）"
      ]
    },
    {
      "cell_type": "markdown",
      "id": "983598de",
      "metadata": {
        "id": "983598de"
      },
      "source": [
        "* #### 視覺化訓練過程的評估指標 （Visualization）"
      ]
    },
    {
      "cell_type": "code",
      "execution_count": 27,
      "id": "9caf93df",
      "metadata": {
        "id": "9caf93df",
        "outputId": "6c469a76-8001-4d68-eedf-e4ee48f097cb",
        "colab": {
          "base_uri": "https://localhost:8080/"
        }
      },
      "outputs": [
        {
          "output_type": "stream",
          "name": "stdout",
          "text": [
            "dict_keys(['loss', 'acc', 'val_loss', 'val_acc'])\n"
          ]
        }
      ],
      "source": [
        "# type(history.history) = dictionary\n",
        "print(history.history.keys())"
      ]
    },
    {
      "cell_type": "code",
      "execution_count": 28,
      "id": "1b7e02e7",
      "metadata": {
        "id": "1b7e02e7"
      },
      "outputs": [],
      "source": [
        "train_loss = history.history['loss']\n",
        "train_acc = history.history['acc']\n",
        "\n",
        "valid_loss = history.history['val_loss']\n",
        "valid_acc = history.history['val_acc']"
      ]
    },
    {
      "cell_type": "code",
      "execution_count": 29,
      "id": "0aa975b6",
      "metadata": {
        "id": "0aa975b6",
        "outputId": "62a6baed-91d1-4c7a-afb3-67a3ed5fdd82",
        "colab": {
          "base_uri": "https://localhost:8080/",
          "height": 268
        }
      },
      "outputs": [
        {
          "output_type": "execute_result",
          "data": {
            "text/plain": [
              "<matplotlib.legend.Legend at 0x7fbdf0874f70>"
            ]
          },
          "metadata": {},
          "execution_count": 29
        },
        {
          "output_type": "display_data",
          "data": {
            "text/plain": [
              "<Figure size 1080x288 with 2 Axes>"
            ],
            "image/png": "[encoded data removed]"
          },
          "metadata": {
            "needs_background": "light"
          }
        }
      ],
      "source": [
        "plt.figure(figsize=(15, 4))\n",
        "plt.subplot(1, 2, 1)\n",
        "plt.plot(range(len(train_loss)), train_loss, label='train_loss')\n",
        "plt.plot(range(len(valid_loss)), valid_loss, label='valid_loss')\n",
        "plt.xlabel('Epochs')\n",
        "plt.ylabel('Categorical crossentropy')\n",
        "plt.legend()\n",
        "\n",
        "plt.subplot(1, 2, 2)\n",
        "plt.plot(range(len(train_acc)), train_acc, label='train_acc')\n",
        "plt.plot(range(len(valid_acc)), valid_acc, label='valid_acc')\n",
        "plt.xlabel('Epochs')\n",
        "plt.ylabel('Accuracy')\n",
        "plt.legend()"
      ]
    },
    {
      "cell_type": "markdown",
      "id": "faf85f9f",
      "metadata": {
        "id": "faf85f9f"
      },
      "source": [
        "* ### 模型預測（Model predictions）"
      ]
    },
    {
      "cell_type": "code",
      "execution_count": 30,
      "id": "ed795618",
      "metadata": {
        "id": "ed795618",
        "outputId": "83dbb777-29fb-4a17-96e9-7f2f09cd3bb3",
        "colab": {
          "base_uri": "https://localhost:8080/"
        }
      },
      "outputs": [
        {
          "output_type": "stream",
          "name": "stdout",
          "text": [
            "tf.Tensor(\n",
            "[[2.4007210e-03 9.9759924e-01]\n",
            " [9.4380546e-01 5.6194581e-02]\n",
            " [9.9147528e-01 8.5247289e-03]\n",
            " ...\n",
            " [1.4861810e-04 9.9985135e-01]\n",
            " [9.9814713e-01 1.8528955e-03]\n",
            " [3.2510412e-05 9.9996746e-01]], shape=(2500, 2), dtype=float32)\n"
          ]
        }
      ],
      "source": [
        "# predict all test data\n",
        "pred = model(X_test)\n",
        "print(pred)"
      ]
    },
    {
      "cell_type": "code",
      "execution_count": 31,
      "id": "597071f6",
      "metadata": {
        "id": "597071f6",
        "outputId": "4a635fbb-5cca-4b77-8081-f43ba4050bc4",
        "colab": {
          "base_uri": "https://localhost:8080/"
        }
      },
      "outputs": [
        {
          "output_type": "stream",
          "name": "stdout",
          "text": [
            "tf.Tensor([1 0 0 ... 1 0 1], shape=(2500,), dtype=int64)\n"
          ]
        }
      ],
      "source": [
        "pred = tf.argmax(model(X_test), axis=-1)  # choose maximum probability of index\n",
        "print(pred)"
      ]
    },
    {
      "cell_type": "markdown",
      "id": "3f3366f7",
      "metadata": {
        "id": "3f3366f7"
      },
      "source": [
        "---\n",
        "### Remark\n",
        "**Classification task**\n",
        "![](https://i.imgur.com/vva88Jj.png)"
      ]
    },
    {
      "cell_type": "markdown",
      "id": "702cec23",
      "metadata": {
        "id": "702cec23"
      },
      "source": [
        "### Quiz\n",
        "請試著利用 Data/pkgo_train.csv 做多元分類問題，預測五個種類的 pokemon，並調整模型（網路層數、神經元數目）得到更高的準確度。\n",
        "\n",
        "pkgo_train 為 Pokemon go 中 pokemon 出沒狀態描述的資料集，欄位說明如下：\n",
        "* latitude, longitude: 位置（經緯度）\n",
        "* local.xx: 時間（擷取格式 mm-dd'T'hh-mm-ss.ms'Z'）\n",
        "* appearedTimeOfDay: night, evening, afternoon, morning 四種時段\n",
        "* appearedHour/Minute: 當地小時／分鐘\n",
        "* appearedDayOfWeek: Monday, Tuesday, Wednesday, Thursday, Friday, Saturday, Sunday\n",
        "* appearedDay/Month: 當地日期／月份\n",
        "* terrainType: 地形種類\n",
        "* closeToWater: 是否接近水源（100 公尺內）\n",
        "* city: 城市\n",
        "* continent: 洲別\n",
        "* weather: 天氣種類（Foggy Clear, PartlyCloudy, MostlyCloudy, Overcast, Rain, BreezyandOvercast, LightRain, Drizzle, BreezyandPartlyCloudy, HeavyRain, BreezyandMostlyCloudy, Breezy, Windy, WindyandFoggy, Humid, Dry, WindyandPartlyCloudy, DryandMostlyCloudy, DryandPartlyCloudy, DrizzleandBreezy, LightRainandBreezy, HumidandPartlyCloudy, HumidandOvercast, RainandWindy）\n",
        "* temperature: 攝氏溫度\n",
        "* windSpeed: 風速（km/h）\n",
        "* windBearing: 風向\n",
        "* pressure: 氣壓\n",
        "* sunrise/sunsetXX: 日出日落相關訊息\n",
        "* population_density: 人口密集度\n",
        "* urban/suburban/midurban/rural: 出沒過的地點城市程度（人口密集度小於 200 為 rural, 大於等於 200 且小於 400 為 midUrban, 大於等於400 且小於 800 為 subUrban, 大於 800 為 urban）\n",
        "* gymDistanceKm: 最近道館的距離\n",
        "* gymInxx: 道館是否在指定距離內\n",
        "* cooc1-cooc151: 是否有其他 pokemon 在 24 小時內，出現在周圍 100 公尺之內\n",
        "* category: 種類"
      ]
    },
    {
      "cell_type": "code",
      "execution_count": 31,
      "id": "523db00d",
      "metadata": {
        "id": "523db00d"
      },
      "outputs": [],
      "source": []
    }
  ],
  "metadata": {
    "kernelspec": {
      "display_name": "Python 3 (ipykernel)",
      "language": "python",
      "name": "python3"
    },
    "language_info": {
      "codemirror_mode": {
        "name": "ipython",
        "version": 3
      },
      "file_extension": ".py",
      "mimetype": "text/x-python",
      "name": "python",
      "nbconvert_exporter": "python",
      "pygments_lexer": "ipython3",
      "version": "3.7.12"
    },
    "colab": {
      "provenance": []
    }
  },
  "nbformat": 4,
  "nbformat_minor": 5
}