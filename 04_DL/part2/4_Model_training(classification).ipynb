{
 "cells": [
  {
   "cell_type": "markdown",
   "id": "94647146",
   "metadata": {},
   "source": [
    "# **模型訓練（分類問題）**\n",
    "此份程式碼會講解針對分類型任務在模型訓練上需要注意的細節。\n",
    "\n",
    "## 本章節內容大綱\n",
    "* ### [創建資料集／載入資料集（Dataset Creating/ Loading）](#DatasetCreating/Loading)\n",
    "* ### [資料前處理（Data Preprocessing）](#DataPreprocessing)\n",
    "* ### [模型建置（Model Building）](#ModelBuilding)\n",
    "* ### [模型訓練（Model Training）](#ModelTraining)\n",
    "* ### [模型評估（Model Evaluation）](#ModelEvaluation)\n",
    "---"
   ]
  },
  {
   "cell_type": "markdown",
   "id": "4c983293",
   "metadata": {},
   "source": [
    "## 匯入套件"
   ]
  },
  {
   "cell_type": "code",
   "execution_count": null,
   "id": "0c43a604",
   "metadata": {},
   "outputs": [],
   "source": [
    "import numpy as np\n",
    "import pandas as pd\n",
    "import tensorflow as tf\n",
    "import matplotlib.pyplot as plt"
   ]
  },
  {
   "cell_type": "markdown",
   "id": "0623a070",
   "metadata": {},
   "source": [
    "<a name=\"DatasetCreating/Loading\"></a>\n",
    "## 創建資料集／載入資料集（Dataset Creating / Loading）"
   ]
  },
  {
   "cell_type": "code",
   "execution_count": null,
   "id": "8982306f",
   "metadata": {},
   "outputs": [],
   "source": [
    "train_df = pd.read_csv('./Data/FilmComment_train.csv')\n",
    "test_df = pd.read_csv('./Data/FilmComment_test.csv')"
   ]
  },
  {
   "cell_type": "code",
   "execution_count": null,
   "id": "1dbfdd71",
   "metadata": {},
   "outputs": [],
   "source": [
    "train_df.head()"
   ]
  },
  {
   "cell_type": "markdown",
   "id": "43b6b318",
   "metadata": {},
   "source": [
    "* #### 電影評論資料集\n",
    "訓練集，測試集分別為 6250，2500 筆，9997 種常用字詞，若在同一則評論中出現該字詞為 1，若否則為 0，y_label 標記評價正面與否。"
   ]
  },
  {
   "cell_type": "code",
   "execution_count": null,
   "id": "bf5c390c",
   "metadata": {},
   "outputs": [],
   "source": [
    "X_df = train_df.iloc[:, :-1].values\n",
    "y_df = train_df.y_label.values\n",
    "X_test = test_df.iloc[:, :-1].values\n",
    "y_test = test_df.y_label.values"
   ]
  },
  {
   "cell_type": "markdown",
   "id": "bbaba421",
   "metadata": {},
   "source": [
    "<a name=\"DataPreprocessing\"></a>\n",
    "## 資料前處理（Data Preprocessing）"
   ]
  },
  {
   "cell_type": "markdown",
   "id": "a6a3b990",
   "metadata": {},
   "source": [
    "* ### 資料正規化（Data Normalization）\n",
    "由於此資料集的數值範圍都介於 0-1，並且皆是以相同意義轉換特徵值，因此也可以使用原始的數值作為訓練資料。"
   ]
  },
  {
   "cell_type": "markdown",
   "id": "44eeed93",
   "metadata": {},
   "source": [
    "* ### 資料切分（Data Splitting）"
   ]
  },
  {
   "cell_type": "code",
   "execution_count": null,
   "id": "7c485dce",
   "metadata": {},
   "outputs": [],
   "source": [
    "# train, valid/test dataset split\n",
    "from sklearn.model_selection import train_test_split\n",
    "X_train, X_valid, y_train, y_valid = \\\n",
    "    train_test_split(X_df, y_df, test_size=0.1, random_state=17)"
   ]
  },
  {
   "cell_type": "code",
   "execution_count": null,
   "id": "77c65ed9",
   "metadata": {},
   "outputs": [],
   "source": [
    "print(f'X_train shape: {X_train.shape}')\n",
    "print(f'X_valid shape: {X_valid.shape}')\n",
    "print(f'y_train shape: {y_train.shape}')\n",
    "print(f'y_valid shape: {y_valid.shape}')"
   ]
  },
  {
   "cell_type": "markdown",
   "id": "0eafd815",
   "metadata": {},
   "source": [
    "<a name=\"ModelBuilding\"></a>\n",
    "## 模型建置（Model Building）"
   ]
  },
  {
   "cell_type": "code",
   "execution_count": null,
   "id": "43b4f9bd",
   "metadata": {},
   "outputs": [],
   "source": [
    "keras.backend.clear_session()  # 重置 keras 的所有狀態\n",
    "tf.random.set_seed(17)  # 設定 tensorflow 隨機種子\n",
    "\n",
    "model = keras.models.Sequential()\n",
    "model.add(layers.Dense(16,  # 神經元個數\n",
    "                       input_shape=X_train[0].shape,  # 輸入形狀\n",
    "                       activation='relu'))  # 激活函數\n",
    "model.add(layers.Dense(16,\n",
    "                       activation='relu'))\n",
    "model.add(layers.Dense(1,\n",
    "                       activation='sigmoid'))\n",
    "\n",
    "model.summary()"
   ]
  },
  {
   "cell_type": "markdown",
   "id": "87308232",
   "metadata": {},
   "source": [
    "![](https://i.imgur.com/75GQ9gz.png)"
   ]
  },
  {
   "cell_type": "markdown",
   "id": "1df44ed7",
   "metadata": {},
   "source": [
    "## 模型訓練（Model training）"
   ]
  },
  {
   "cell_type": "markdown",
   "id": "b21447ee",
   "metadata": {},
   "source": [
    "* ### 模型編譯（model compile）\n",
    "設定模型訓練時，所需的優化器 (optimizer)、損失函數 (loss function)、評估指標 (metrics)"
   ]
  },
  {
   "cell_type": "code",
   "execution_count": null,
   "id": "21e8d949",
   "metadata": {},
   "outputs": [],
   "source": [
    "model.compile(optimizer='rmsprop',  # default: RMSprop(learning_rate=0.001)\n",
    "              loss='binary_crossentropy',  # 針對二元分類問題的損失函數\n",
    "              metrics='acc')  # 評估指標: 準確率"
   ]
  },
  {
   "cell_type": "markdown",
   "id": "1e4cd6c6",
   "metadata": {},
   "source": [
    "![](https://i.imgur.com/GazyxvF.png)"
   ]
  },
  {
   "cell_type": "code",
   "execution_count": null,
   "id": "fbcf21dd",
   "metadata": {},
   "outputs": [],
   "source": [
    "history = model.fit(X_train, y_train,\n",
    "                    batch_size=512,\n",
    "                    epochs=20,\n",
    "                    validation_data=(X_test, y_test))"
   ]
  },
  {
   "cell_type": "markdown",
   "id": "fa3bb33c",
   "metadata": {},
   "source": [
    "<a name=\"ModelEvaluation\"></a>\n",
    "## 模型評估（Model Evaluation）"
   ]
  },
  {
   "cell_type": "markdown",
   "id": "af8ec8a8",
   "metadata": {},
   "source": [
    "* ### 視覺化訓練過程的評估指標 （Visualization）"
   ]
  },
  {
   "cell_type": "code",
   "execution_count": null,
   "id": "ff66049f",
   "metadata": {},
   "outputs": [],
   "source": [
    "# type(history.history) = dictionary\n",
    "print(history.history.keys())"
   ]
  },
  {
   "cell_type": "code",
   "execution_count": null,
   "id": "1cc43cf7",
   "metadata": {},
   "outputs": [],
   "source": [
    "train_loss = history.history['loss']\n",
    "train_acc = history.history['acc']\n",
    "\n",
    "valid_loss = history.history['val_loss']\n",
    "valid_acc = history.history['val_acc']"
   ]
  },
  {
   "cell_type": "code",
   "execution_count": null,
   "id": "7154d7be",
   "metadata": {},
   "outputs": [],
   "source": [
    "plt.figure(figsize=(15, 4))\n",
    "plt.subplot(1, 2, 1)\n",
    "plt.plot(range(len(train_loss)), train_loss, label='train_loss')\n",
    "plt.plot(range(len(valid_loss)), valid_loss, label='valid_loss')\n",
    "plt.xlabel('Epochs')\n",
    "plt.ylabel('MSE')\n",
    "plt.legend()\n",
    "\n",
    "plt.subplot(1, 2, 2)\n",
    "plt.plot(range(len(train_acc)), train_acc, label='train_acc')\n",
    "plt.plot(range(len(valid_acc)), valid_acc, label='valid_acc')\n",
    "plt.xlabel('Epochs')\n",
    "plt.ylabel('Accuracy')\n",
    "plt.legend()"
   ]
  },
  {
   "cell_type": "markdown",
   "id": "cbb555ac",
   "metadata": {},
   "source": [
    "* ### 模型預測（Model predictions）"
   ]
  },
  {
   "cell_type": "code",
   "execution_count": null,
   "id": "3cab950f",
   "metadata": {},
   "outputs": [],
   "source": [
    "# predict all test data\n",
    "pred = model(X_test)\n",
    "print(pred)"
   ]
  },
  {
   "cell_type": "code",
   "execution_count": null,
   "id": "c7d1d9df",
   "metadata": {},
   "outputs": [],
   "source": [
    "# use threshold to obtain binary class\n",
    "pred_class = model(X_test) > 0.5\n",
    "print(tf.cast(pred_class, tf.int32))"
   ]
  },
  {
   "cell_type": "markdown",
   "id": "95df4db2",
   "metadata": {},
   "source": [
    "* ### 視覺化結果"
   ]
  },
  {
   "cell_type": "code",
   "execution_count": null,
   "id": "aaa28142",
   "metadata": {},
   "outputs": [],
   "source": [
    "plt.figure(figsize=(15, 4))\n",
    "plt.scatter(range(pred.shape[0]), pred)\n",
    "plt.hlines(0.5, 0, pred.shape[0], colors='red', label='y=0.5')\n",
    "plt.legend()"
   ]
  },
  {
   "cell_type": "markdown",
   "id": "c6372a34",
   "metadata": {},
   "source": [
    "----------------\n",
    "此範例是二元分類，y 的表示方式可用一維陣列，分別以 0, 1 表示兩個類別（正面，負面評價）\n",
    "![](https://i.imgur.com/QYp5PVQ.png)\n",
    "\n",
    "**若是多元分類又該如何表示？**以多個維度的 One-Hot Encoding 方式表示多元分類標籤\n",
    "![](https://i.imgur.com/vJcdRBj.png)\n",
    "\n",
    "**對訓練有何影響？**\n",
    "跟 y 最直接相關的就是 Loss function，間接影響到模型輸出的維度\n",
    "![](https://i.imgur.com/gbEMjDl.png)"
   ]
  },
  {
   "cell_type": "markdown",
   "id": "c0c4bf70",
   "metadata": {},
   "source": [
    "----------------------------"
   ]
  },
  {
   "cell_type": "markdown",
   "id": "d91ee03b",
   "metadata": {},
   "source": [
    "## 多元分類（Multi-class classification）"
   ]
  },
  {
   "cell_type": "markdown",
   "id": "3261f2a2",
   "metadata": {},
   "source": [
    "### 創建資料集／載入資料集（Dataset Creating / Loading）"
   ]
  },
  {
   "cell_type": "code",
   "execution_count": null,
   "id": "82f24472",
   "metadata": {},
   "outputs": [],
   "source": [
    "train_df = pd.read_csv('./Data/FilmComment_train.csv')\n",
    "test_df = pd.read_csv('./Data/FilmComment_test.csv')"
   ]
  },
  {
   "cell_type": "code",
   "execution_count": null,
   "id": "2dd42f81",
   "metadata": {},
   "outputs": [],
   "source": [
    "X_train = train_df.iloc[:, :-1].values\n",
    "y_train = train_df.iloc[:, -1].values\n",
    "X_test = test_df.iloc[:, :-1].values\n",
    "y_test = test_df.iloc[:, -1].values"
   ]
  },
  {
   "cell_type": "code",
   "execution_count": null,
   "id": "faa5675f",
   "metadata": {},
   "outputs": [],
   "source": [
    "# Convert to One-Hot encoding\n",
    "y_train = keras.utils.to_categorical(y_train)\n",
    "y_test = keras.utils.to_categorical(y_test)"
   ]
  },
  {
   "cell_type": "code",
   "execution_count": null,
   "id": "da72bb30",
   "metadata": {},
   "outputs": [],
   "source": [
    "print(f'X_train shape: {X_train.shape}')\n",
    "print(f'X_test shape: {X_test.shape}')\n",
    "print(f'y_train shape: {y_train.shape}')\n",
    "print(f'y_test shape: {y_test.shape}')"
   ]
  },
  {
   "cell_type": "markdown",
   "id": "25f8e24e",
   "metadata": {},
   "source": [
    "### 模型建置（Model Building）"
   ]
  },
  {
   "cell_type": "code",
   "execution_count": null,
   "id": "0ab667bd",
   "metadata": {},
   "outputs": [],
   "source": [
    "keras.backend.clear_session()\n",
    "tf.random.set_seed(17)\n",
    "\n",
    "model = keras.models.Sequential()\n",
    "model.add(.layers.Dense(16,\n",
    "                        input_shape=X_train[0].shape,\n",
    "                        activation='relu'))\n",
    "model.add(layers.Dense(16,\n",
    "                       activation='relu'))\n",
    "model.add(layers.Dense(2,\n",
    "                       activation='softmax'))\n",
    "\n",
    "model.summary()"
   ]
  },
  {
   "cell_type": "markdown",
   "id": "945c285e",
   "metadata": {},
   "source": [
    "### 模型訓練（Model training）"
   ]
  },
  {
   "cell_type": "markdown",
   "id": "22754fd4",
   "metadata": {},
   "source": [
    "* #### 模型編譯（model compile）\n",
    "設定模型訓練時，所需的優化器 (optimizer)、損失函數 (loss function)"
   ]
  },
  {
   "cell_type": "code",
   "execution_count": null,
   "id": "dd551d4c",
   "metadata": {},
   "outputs": [],
   "source": [
    "model.compile(optimizer='rmsprop',\n",
    "              loss='categorical_crossentropy',\n",
    "              metrics='acc')"
   ]
  },
  {
   "cell_type": "code",
   "execution_count": null,
   "id": "32f428fd",
   "metadata": {},
   "outputs": [],
   "source": [
    "history = model.fit(X_train, y_train,\n",
    "                    batch_size=512,\n",
    "                    epochs=20,\n",
    "                    validation_data=(X_test, y_test))"
   ]
  },
  {
   "cell_type": "markdown",
   "id": "98332c39",
   "metadata": {},
   "source": [
    "### 模型評估（Model evalutation）"
   ]
  },
  {
   "cell_type": "markdown",
   "id": "e52b016e",
   "metadata": {},
   "source": [
    "* #### 視覺化訓練過程的評估指標 （Visualization）"
   ]
  },
  {
   "cell_type": "code",
   "execution_count": null,
   "id": "90e6104d",
   "metadata": {},
   "outputs": [],
   "source": [
    "# type(history.history) = dictionary\n",
    "print(history.history.keys())"
   ]
  },
  {
   "cell_type": "code",
   "execution_count": null,
   "id": "e121b7f1",
   "metadata": {},
   "outputs": [],
   "source": [
    "train_loss = history.history['loss']\n",
    "train_acc = history.history['acc']\n",
    "\n",
    "valid_loss = history.history['val_loss']\n",
    "valid_acc = history.history['val_acc']"
   ]
  },
  {
   "cell_type": "code",
   "execution_count": null,
   "id": "0fbc6460",
   "metadata": {},
   "outputs": [],
   "source": [
    "plt.figure(figsize=(15, 4))\n",
    "plt.subplot(1, 2, 1)\n",
    "plt.plot(range(len(train_loss)), train_loss, label='train_loss')\n",
    "plt.plot(range(len(valid_loss)), valid_loss, label='valid_loss')\n",
    "plt.xlabel('Epochs')\n",
    "plt.ylabel('MSE')\n",
    "plt.legend()\n",
    "\n",
    "plt.subplot(1, 2, 2)\n",
    "plt.plot(range(len(train_acc)), train_acc, label='train_acc')\n",
    "plt.plot(range(len(valid_acc)), valid_acc, label='valid_acc')\n",
    "plt.xlabel('Epochs')\n",
    "plt.ylabel('Accuracy')\n",
    "plt.legend()"
   ]
  },
  {
   "cell_type": "markdown",
   "id": "ad1b6b0a",
   "metadata": {},
   "source": [
    "* ### 模型預測（Model predictions）"
   ]
  },
  {
   "cell_type": "code",
   "execution_count": null,
   "id": "44b51b43",
   "metadata": {},
   "outputs": [],
   "source": [
    "# predict all test data\n",
    "pred = model(X_test)\n",
    "print(pred)"
   ]
  },
  {
   "cell_type": "code",
   "execution_count": null,
   "id": "bc0500b9",
   "metadata": {},
   "outputs": [],
   "source": [
    "pred = tf.argmax(model(X_test), axis=-1)  # choose maximum probability of index\n",
    "print(pred)"
   ]
  },
  {
   "cell_type": "markdown",
   "id": "fa8d729c",
   "metadata": {},
   "source": [
    "---\n",
    "### Remark\n",
    "**Classification task**\n",
    "![](https://i.imgur.com/vva88Jj.png)"
   ]
  },
  {
   "cell_type": "markdown",
   "id": "04073473",
   "metadata": {},
   "source": [
    "### Quiz\n",
    "請試著利用 Data/pkgo_train.csv 做多元分類問題，預測五個種類的 pokemon，並調整模型（網路層數、神經元數目）得到更高的準確度。\n",
    "\n",
    "pkgo_train 為 Pokemon go 中 pokemon 出沒狀態描述的資料集，欄位說明如下：\n",
    "* latitude, longitude: 位置（經緯度）\n",
    "* local.xx: 時間（擷取格式 mm-dd'T'hh-mm-ss.ms'Z'）\n",
    "* appearedTimeOfDay: night, evening, afternoon, morning 四種時段\n",
    "* appearedHour/Minute: 當地小時／分鐘\n",
    "* appearedDayOfWeek: Monday, Tuesday, Wednesday, Thursday, Friday, Saturday, Sunday\n",
    "* appearedDay/Month: 當地日期／月份\n",
    "* terrainType: 地形種類\n",
    "* closeToWater: 是否接近水源（100 公尺內）\n",
    "* city: 城市\n",
    "* continent: 洲別\n",
    "* weather: 天氣種類（Foggy Clear, PartlyCloudy, MostlyCloudy, Overcast, Rain, BreezyandOvercast, LightRain, Drizzle, BreezyandPartlyCloudy, HeavyRain, BreezyandMostlyCloudy, Breezy, Windy, WindyandFoggy, Humid, Dry, WindyandPartlyCloudy, DryandMostlyCloudy, DryandPartlyCloudy, DrizzleandBreezy, LightRainandBreezy, HumidandPartlyCloudy, HumidandOvercast, RainandWindy）\n",
    "* temperature: 攝氏溫度\n",
    "* windSpeed: 風速（km/h）\n",
    "* windBearing: 風向\n",
    "* pressure: 氣壓\n",
    "* sunrise/sunsetXX: 日出日落相關訊息\n",
    "* population_density: 人口密集度\n",
    "* urban/suburban/midurban/rural: 出沒過的地點城市程度（人口密集度小於 200 為 rural, 大於等於 200 且小於 400 為 midUrban, 大於等於400 且小於 800 為 subUrban, 大於 800 為 urban）\n",
    "* gymDistanceKm: 最近道館的距離\n",
    "* gymInxx: 道館是否在指定距離內\n",
    "* cooc1-cooc151: 是否有其他 pokemon 在 24 小時內，出現在周圍 100 公尺之內\n",
    "* category: 種類"
   ]
  },
  {
   "cell_type": "code",
   "execution_count": null,
   "id": "d42aaf2e",
   "metadata": {},
   "outputs": [],
   "source": []
  }
 ],
 "metadata": {
  "kernelspec": {
   "display_name": "Python 3 (ipykernel)",
   "language": "python",
   "name": "python3"
  },
  "language_info": {
   "codemirror_mode": {
    "name": "ipython",
    "version": 3
   },
   "file_extension": ".py",
   "mimetype": "text/x-python",
   "name": "python",
   "nbconvert_exporter": "python",
   "pygments_lexer": "ipython3",
   "version": "3.7.12"
  }
 },
 "nbformat": 4,
 "nbformat_minor": 5
}
