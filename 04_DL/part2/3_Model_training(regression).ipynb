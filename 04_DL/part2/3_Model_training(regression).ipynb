{
  "cells": [
    {
      "cell_type": "markdown",
      "id": "0d8fea4f",
      "metadata": {
        "id": "0d8fea4f"
      },
      "source": [
        "# **模型訓練（迴歸問題）**\n",
        "此份程式碼會講解針對迴歸型任務在模型訓練上需要注意的細節。\n",
        "\n",
        "## 本章節內容大綱\n",
        "* ### [創建資料集／載入資料集（Dataset Creating/ Loading）](#DatasetCreating/Loading)\n",
        "* ### [資料前處理（Data Preprocessing）](#DataPreprocessing)\n",
        "* ### [模型建置（Model Building）](#ModelBuilding)\n",
        "* ### [模型訓練（Model Training）](#ModelTraining)\n",
        "* ### [模型評估（Model Evaluation）](#ModelEvaluation)\n",
        "---"
      ]
    },
    {
      "cell_type": "markdown",
      "id": "bba873c7",
      "metadata": {
        "id": "bba873c7"
      },
      "source": [
        "## 匯入套件"
      ]
    },
    {
      "cell_type": "code",
      "execution_count": 1,
      "id": "108ce7ba",
      "metadata": {
        "id": "108ce7ba"
      },
      "outputs": [],
      "source": [
        "import pandas as pd\n",
        "import numpy as np\n",
        "import matplotlib.pyplot as plt\n",
        "\n",
        "# Tensorflow 相關套件\n",
        "import tensorflow as tf\n",
        "from tensorflow import keras\n",
        "from tensorflow.keras import layers"
      ]
    },
    {
      "cell_type": "markdown",
      "id": "c32bbd73",
      "metadata": {
        "id": "c32bbd73"
      },
      "source": [
        "<a name=\"DatasetCreating/Loading\"></a>\n",
        "## 創建資料集／載入資料集（Dataset Creating / Loading）"
      ]
    },
    {
      "cell_type": "code",
      "source": [
        "# 上傳資料\n",
        "!wget -q https://github.com/TA-aiacademy/course_3.0/releases/download/DL/Data_part2.zip\n",
        "!unzip -q Data_part2.zip"
      ],
      "metadata": {
        "id": "rfM_DLvfFBMZ"
      },
      "id": "rfM_DLvfFBMZ",
      "execution_count": 2,
      "outputs": []
    },
    {
      "cell_type": "code",
      "execution_count": 3,
      "id": "0d408f0e",
      "metadata": {
        "id": "0d408f0e"
      },
      "outputs": [],
      "source": [
        "train_df = pd.read_csv('./Data/FilmRating_train.csv')\n",
        "test_df = pd.read_csv('./Data/FilmRating_test.csv')"
      ]
    },
    {
      "cell_type": "code",
      "execution_count": 4,
      "id": "4c6d4a50",
      "metadata": {
        "id": "4c6d4a50",
        "outputId": "a460675e-9905-4668-fdbf-020f16ad519e",
        "colab": {
          "base_uri": "https://localhost:8080/",
          "height": 270
        }
      },
      "outputs": [
        {
          "output_type": "execute_result",
          "data": {
            "text/plain": [
              "     budget     genres   keywords  popularity  production_companies  \\\n",
              "0   1000000   6.849458   7.304117   14.518598              5.240531   \n",
              "1  40000000   0.465018   8.605820   43.345252              3.353716   \n",
              "2  45000000   8.071714  12.026680   26.797810              6.765428   \n",
              "3   7000000  10.068240  -1.003841   30.214716              6.016422   \n",
              "4  79000000   9.724962   7.298650   40.723459             10.941411   \n",
              "\n",
              "   production_countries    revenue  runtime       cast  director  n_day  \\\n",
              "0              1.180970   21378361     89.0   5.369039  1.127575  13363   \n",
              "1              9.235895  332000000    108.0   7.481271  8.677162   9790   \n",
              "2              3.656931  113916474    100.0  11.546524  6.019390   5885   \n",
              "3              6.833131   97572000    125.0   5.145066  5.951479  15258   \n",
              "4              4.358183  355692760     94.0   8.671259  7.064017   1695   \n",
              "\n",
              "      score  \n",
              "0  6.347451  \n",
              "1  7.380090  \n",
              "2  5.824344  \n",
              "3  6.276649  \n",
              "4  5.814163  "
            ],
            "text/html": [
              "\n",
              "  <div id=\"df-5001db57-804f-4025-beb8-4b6c6f54a1f4\">\n",
              "    <div class=\"colab-df-container\">\n",
              "      <div>\n",
              "<style scoped>\n",
              "    .dataframe tbody tr th:only-of-type {\n",
              "        vertical-align: middle;\n",
              "    }\n",
              "\n",
              "    .dataframe tbody tr th {\n",
              "        vertical-align: top;\n",
              "    }\n",
              "\n",
              "    .dataframe thead th {\n",
              "        text-align: right;\n",
              "    }\n",
              "</style>\n",
              "<table border=\"1\" class=\"dataframe\">\n",
              "  <thead>\n",
              "    <tr style=\"text-align: right;\">\n",
              "      <th></th>\n",
              "      <th>budget</th>\n",
              "      <th>genres</th>\n",
              "      <th>keywords</th>\n",
              "      <th>popularity</th>\n",
              "      <th>production_companies</th>\n",
              "      <th>production_countries</th>\n",
              "      <th>revenue</th>\n",
              "      <th>runtime</th>\n",
              "      <th>cast</th>\n",
              "      <th>director</th>\n",
              "      <th>n_day</th>\n",
              "      <th>score</th>\n",
              "    </tr>\n",
              "  </thead>\n",
              "  <tbody>\n",
              "    <tr>\n",
              "      <th>0</th>\n",
              "      <td>1000000</td>\n",
              "      <td>6.849458</td>\n",
              "      <td>7.304117</td>\n",
              "      <td>14.518598</td>\n",
              "      <td>5.240531</td>\n",
              "      <td>1.180970</td>\n",
              "      <td>21378361</td>\n",
              "      <td>89.0</td>\n",
              "      <td>5.369039</td>\n",
              "      <td>1.127575</td>\n",
              "      <td>13363</td>\n",
              "      <td>6.347451</td>\n",
              "    </tr>\n",
              "    <tr>\n",
              "      <th>1</th>\n",
              "      <td>40000000</td>\n",
              "      <td>0.465018</td>\n",
              "      <td>8.605820</td>\n",
              "      <td>43.345252</td>\n",
              "      <td>3.353716</td>\n",
              "      <td>9.235895</td>\n",
              "      <td>332000000</td>\n",
              "      <td>108.0</td>\n",
              "      <td>7.481271</td>\n",
              "      <td>8.677162</td>\n",
              "      <td>9790</td>\n",
              "      <td>7.380090</td>\n",
              "    </tr>\n",
              "    <tr>\n",
              "      <th>2</th>\n",
              "      <td>45000000</td>\n",
              "      <td>8.071714</td>\n",
              "      <td>12.026680</td>\n",
              "      <td>26.797810</td>\n",
              "      <td>6.765428</td>\n",
              "      <td>3.656931</td>\n",
              "      <td>113916474</td>\n",
              "      <td>100.0</td>\n",
              "      <td>11.546524</td>\n",
              "      <td>6.019390</td>\n",
              "      <td>5885</td>\n",
              "      <td>5.824344</td>\n",
              "    </tr>\n",
              "    <tr>\n",
              "      <th>3</th>\n",
              "      <td>7000000</td>\n",
              "      <td>10.068240</td>\n",
              "      <td>-1.003841</td>\n",
              "      <td>30.214716</td>\n",
              "      <td>6.016422</td>\n",
              "      <td>6.833131</td>\n",
              "      <td>97572000</td>\n",
              "      <td>125.0</td>\n",
              "      <td>5.145066</td>\n",
              "      <td>5.951479</td>\n",
              "      <td>15258</td>\n",
              "      <td>6.276649</td>\n",
              "    </tr>\n",
              "    <tr>\n",
              "      <th>4</th>\n",
              "      <td>79000000</td>\n",
              "      <td>9.724962</td>\n",
              "      <td>7.298650</td>\n",
              "      <td>40.723459</td>\n",
              "      <td>10.941411</td>\n",
              "      <td>4.358183</td>\n",
              "      <td>355692760</td>\n",
              "      <td>94.0</td>\n",
              "      <td>8.671259</td>\n",
              "      <td>7.064017</td>\n",
              "      <td>1695</td>\n",
              "      <td>5.814163</td>\n",
              "    </tr>\n",
              "  </tbody>\n",
              "</table>\n",
              "</div>\n",
              "      <button class=\"colab-df-convert\" onclick=\"convertToInteractive('df-5001db57-804f-4025-beb8-4b6c6f54a1f4')\"\n",
              "              title=\"Convert this dataframe to an interactive table.\"\n",
              "              style=\"display:none;\">\n",
              "        \n",
              "  <svg xmlns=\"http://www.w3.org/2000/svg\" height=\"24px\"viewBox=\"0 0 24 24\"\n",
              "       width=\"24px\">\n",
              "    <path d=\"M0 0h24v24H0V0z\" fill=\"none\"/>\n",
              "    <path d=\"M18.56 5.44l.94 2.06.94-2.06 2.06-.94-2.06-.94-.94-2.06-.94 2.06-2.06.94zm-11 1L8.5 8.5l.94-2.06 2.06-.94-2.06-.94L8.5 2.5l-.94 2.06-2.06.94zm10 10l.94 2.06.94-2.06 2.06-.94-2.06-.94-.94-2.06-.94 2.06-2.06.94z\"/><path d=\"M17.41 7.96l-1.37-1.37c-.4-.4-.92-.59-1.43-.59-.52 0-1.04.2-1.43.59L10.3 9.45l-7.72 7.72c-.78.78-.78 2.05 0 2.83L4 21.41c.39.39.9.59 1.41.59.51 0 1.02-.2 1.41-.59l7.78-7.78 2.81-2.81c.8-.78.8-2.07 0-2.86zM5.41 20L4 18.59l7.72-7.72 1.47 1.35L5.41 20z\"/>\n",
              "  </svg>\n",
              "      </button>\n",
              "      \n",
              "  <style>\n",
              "    .colab-df-container {\n",
              "      display:flex;\n",
              "      flex-wrap:wrap;\n",
              "      gap: 12px;\n",
              "    }\n",
              "\n",
              "    .colab-df-convert {\n",
              "      background-color: #E8F0FE;\n",
              "      border: none;\n",
              "      border-radius: 50%;\n",
              "      cursor: pointer;\n",
              "      display: none;\n",
              "      fill: #1967D2;\n",
              "      height: 32px;\n",
              "      padding: 0 0 0 0;\n",
              "      width: 32px;\n",
              "    }\n",
              "\n",
              "    .colab-df-convert:hover {\n",
              "      background-color: #E2EBFA;\n",
              "      box-shadow: 0px 1px 2px rgba(60, 64, 67, 0.3), 0px 1px 3px 1px rgba(60, 64, 67, 0.15);\n",
              "      fill: #174EA6;\n",
              "    }\n",
              "\n",
              "    [theme=dark] .colab-df-convert {\n",
              "      background-color: #3B4455;\n",
              "      fill: #D2E3FC;\n",
              "    }\n",
              "\n",
              "    [theme=dark] .colab-df-convert:hover {\n",
              "      background-color: #434B5C;\n",
              "      box-shadow: 0px 1px 3px 1px rgba(0, 0, 0, 0.15);\n",
              "      filter: drop-shadow(0px 1px 2px rgba(0, 0, 0, 0.3));\n",
              "      fill: #FFFFFF;\n",
              "    }\n",
              "  </style>\n",
              "\n",
              "      <script>\n",
              "        const buttonEl =\n",
              "          document.querySelector('#df-5001db57-804f-4025-beb8-4b6c6f54a1f4 button.colab-df-convert');\n",
              "        buttonEl.style.display =\n",
              "          google.colab.kernel.accessAllowed ? 'block' : 'none';\n",
              "\n",
              "        async function convertToInteractive(key) {\n",
              "          const element = document.querySelector('#df-5001db57-804f-4025-beb8-4b6c6f54a1f4');\n",
              "          const dataTable =\n",
              "            await google.colab.kernel.invokeFunction('convertToInteractive',\n",
              "                                                     [key], {});\n",
              "          if (!dataTable) return;\n",
              "\n",
              "          const docLinkHtml = 'Like what you see? Visit the ' +\n",
              "            '<a target=\"_blank\" href=https://colab.research.google.com/notebooks/data_table.ipynb>data table notebook</a>'\n",
              "            + ' to learn more about interactive tables.';\n",
              "          element.innerHTML = '';\n",
              "          dataTable['output_type'] = 'display_data';\n",
              "          await google.colab.output.renderOutput(dataTable, element);\n",
              "          const docLink = document.createElement('div');\n",
              "          docLink.innerHTML = docLinkHtml;\n",
              "          element.appendChild(docLink);\n",
              "        }\n",
              "      </script>\n",
              "    </div>\n",
              "  </div>\n",
              "  "
            ]
          },
          "metadata": {},
          "execution_count": 4
        }
      ],
      "source": [
        "train_df.head()"
      ]
    },
    {
      "cell_type": "markdown",
      "id": "e7d33563",
      "metadata": {
        "id": "e7d33563"
      },
      "source": [
        "* #### 電影評價資料集\n",
        "資料集總共 2612 筆，\n",
        "欄位包括預算 (budget)、電影類型 (genres)、關鍵字詞 (keywords)、知名度 (popularity)、製作公司 (production_companies)、國家 (production_countries)、收入 (revenue)、時長 (runtime)、卡司 (cast)、導演 (director)、距離發布時間 (n_days)、評分 (score)，多項欄位是以 leave-one-out encoding 方式轉換數值。\n"
      ]
    },
    {
      "cell_type": "code",
      "execution_count": 5,
      "id": "a8b89aa8",
      "metadata": {
        "id": "a8b89aa8"
      },
      "outputs": [],
      "source": [
        "X_df = train_df.iloc[:, :-1].values\n",
        "y_df = train_df.score.values"
      ]
    },
    {
      "cell_type": "code",
      "execution_count": 6,
      "id": "916c3e24",
      "metadata": {
        "id": "916c3e24"
      },
      "outputs": [],
      "source": [
        "X_test = test_df.iloc[:, :-1].values\n",
        "y_test = test_df.score.values"
      ]
    },
    {
      "cell_type": "markdown",
      "id": "1c94fd50",
      "metadata": {
        "id": "1c94fd50"
      },
      "source": [
        "<a name=\"DataPreprocessing\"></a>\n",
        "## 資料前處理（Data Preprocessing）"
      ]
    },
    {
      "cell_type": "markdown",
      "id": "089f1a3a",
      "metadata": {
        "id": "089f1a3a"
      },
      "source": [
        "* ### 資料正規化（Data Normalization）\n",
        "    - 減少過度關注的特徵（由特定數字範圍造成的影響）\n",
        "    - 避免更新方向偏離，較容易收斂"
      ]
    },
    {
      "cell_type": "markdown",
      "id": "6154aada",
      "metadata": {
        "id": "6154aada"
      },
      "source": [
        "對於測試資料，需使用「訓練資料」的統計量去做轉換，避免改變兩組資料間的分布關係\n",
        "![](https://i.imgur.com/BqMLf3P.png)"
      ]
    },
    {
      "cell_type": "code",
      "execution_count": 7,
      "id": "f9d0e878",
      "metadata": {
        "id": "f9d0e878"
      },
      "outputs": [],
      "source": [
        "'''Normalize'''\n",
        "X_scale = (X_df-X_df.min(axis=0)) / (X_df.max(axis=0)-X_df.min(axis=0))\n",
        "X_test_scale = (X_test-X_df.min(axis=0)) / (X_df.max(axis=0)-X_df.min(axis=0))\n",
        "\n",
        "# 其他寫法\n",
        "# from sklearn.preprocessing import MinMaxScaler\n",
        "# sc = MinMaxScaler(feature_range=(0, 1))\n",
        "# X_scale = sc.fit_transform(X_df)\n",
        "# X_test_scale = sc.transform(X_test)\n",
        "\n",
        "# '''Standardize'''\n",
        "# X_scale = (X_df-X_df.mean(axis=0)) / (X_df.std(axis=0))\n",
        "# X_test_scale = (X_test-X_df.mean(axis=0)) / (X_df.std(axis=0))\n",
        "\n",
        "# 其他寫法\n",
        "# from sklearn.preprocessing import StandardScaler\n",
        "# sc = StandardScaler()\n",
        "# X_scale = sc.fit_transform(X_df)\n",
        "# X_test_scale = sc.transform(X_test)"
      ]
    },
    {
      "cell_type": "markdown",
      "id": "5d972154",
      "metadata": {
        "id": "5d972154"
      },
      "source": [
        "* ### 資料切分（Data Splitting）"
      ]
    },
    {
      "cell_type": "code",
      "execution_count": 8,
      "id": "4a1dee07",
      "metadata": {
        "id": "4a1dee07"
      },
      "outputs": [],
      "source": [
        "# train, valid/test dataset split\n",
        "from sklearn.model_selection import train_test_split\n",
        "X_train, X_valid, y_train, y_valid = \\\n",
        "    train_test_split(X_scale, y_df, test_size=0.1, random_state=17)"
      ]
    },
    {
      "cell_type": "code",
      "execution_count": 9,
      "id": "e514c344",
      "metadata": {
        "id": "e514c344",
        "outputId": "e7c4a6ea-6e8a-425c-9e57-204671711f63",
        "colab": {
          "base_uri": "https://localhost:8080/"
        }
      },
      "outputs": [
        {
          "output_type": "stream",
          "name": "stdout",
          "text": [
            "X_train shape: (2350, 11)\n",
            "X_valid shape: (262, 11)\n",
            "y_train shape: (2350,)\n",
            "y_valid shape: (262,)\n"
          ]
        }
      ],
      "source": [
        "print(f'X_train shape: {X_train.shape}')\n",
        "print(f'X_valid shape: {X_valid.shape}')\n",
        "print(f'y_train shape: {y_train.shape}')\n",
        "print(f'y_valid shape: {y_valid.shape}')"
      ]
    },
    {
      "cell_type": "markdown",
      "id": "ad193ada",
      "metadata": {
        "id": "ad193ada"
      },
      "source": [
        "<a name=\"ModelBuilding\"></a>\n",
        "## 模型建置（Model Building）"
      ]
    },
    {
      "cell_type": "code",
      "execution_count": 10,
      "id": "db2915ff",
      "metadata": {
        "id": "db2915ff",
        "outputId": "135756e9-a1dd-4e54-b3bc-27a982dd780d",
        "colab": {
          "base_uri": "https://localhost:8080/"
        }
      },
      "outputs": [
        {
          "output_type": "stream",
          "name": "stdout",
          "text": [
            "Model: \"sequential\"\n",
            "_________________________________________________________________\n",
            " Layer (type)                Output Shape              Param #   \n",
            "=================================================================\n",
            " dense (Dense)               (None, 64)                768       \n",
            "                                                                 \n",
            " dense_1 (Dense)             (None, 32)                2080      \n",
            "                                                                 \n",
            " dense_2 (Dense)             (None, 1)                 33        \n",
            "                                                                 \n",
            "=================================================================\n",
            "Total params: 2,881\n",
            "Trainable params: 2,881\n",
            "Non-trainable params: 0\n",
            "_________________________________________________________________\n"
          ]
        }
      ],
      "source": [
        "keras.backend.clear_session()  # 重置 keras 的所有狀態\n",
        "tf.random.set_seed(17)  # 設定 tensorflow 隨機種子\n",
        "\n",
        "model = keras.models.Sequential()\n",
        "model.add(layers.Dense(64,  # 神經元個數\n",
        "                       input_shape=X_train[0].shape,  # 輸入形狀\n",
        "                       activation='sigmoid'))  # 激活函數\n",
        "model.add(layers.Dense(32, activation='sigmoid'))\n",
        "model.add(layers.Dense(1, activation='linear'))\n",
        "\n",
        "model.summary()"
      ]
    },
    {
      "cell_type": "markdown",
      "id": "43b1e5cc",
      "metadata": {
        "id": "43b1e5cc"
      },
      "source": [
        "![](https://i.imgur.com/mvz49nJ.png)"
      ]
    },
    {
      "cell_type": "markdown",
      "id": "2fca07aa",
      "metadata": {
        "id": "2fca07aa"
      },
      "source": [
        "<a name=\"ModelTraining\"></a>\n",
        "## 模型訓練（Model Training）"
      ]
    },
    {
      "cell_type": "markdown",
      "id": "cb38c731",
      "metadata": {
        "id": "cb38c731"
      },
      "source": [
        "* ### 模型編譯（model compile）\n",
        "設定模型訓練時，所需的優化器 (optimizer)、損失函數 (loss function)"
      ]
    },
    {
      "cell_type": "code",
      "execution_count": 11,
      "id": "e0a210bf",
      "metadata": {
        "id": "e0a210bf"
      },
      "outputs": [],
      "source": [
        "model.compile(optimizer='rmsprop',  # default: RMSprop(learning_rate=0.001)\n",
        "              loss='mean_squared_error')"
      ]
    },
    {
      "cell_type": "markdown",
      "id": "074eca90",
      "metadata": {
        "id": "074eca90"
      },
      "source": [
        "![](https://i.imgur.com/L07x8qA.png)"
      ]
    },
    {
      "cell_type": "code",
      "execution_count": 12,
      "id": "f991db68",
      "metadata": {
        "id": "f991db68",
        "outputId": "204a2ebd-ddfc-4f93-d741-a1a5b1436a18",
        "colab": {
          "base_uri": "https://localhost:8080/"
        }
      },
      "outputs": [
        {
          "output_type": "stream",
          "name": "stdout",
          "text": [
            "Epoch 1/20\n",
            "294/294 [==============================] - 4s 4ms/step - loss: 5.6489 - val_loss: 0.5053\n",
            "Epoch 2/20\n",
            "294/294 [==============================] - 1s 3ms/step - loss: 0.5171 - val_loss: 0.5086\n",
            "Epoch 3/20\n",
            "294/294 [==============================] - 1s 4ms/step - loss: 0.5159 - val_loss: 0.5034\n",
            "Epoch 4/20\n",
            "294/294 [==============================] - 1s 2ms/step - loss: 0.5132 - val_loss: 0.5021\n",
            "Epoch 5/20\n",
            "294/294 [==============================] - 1s 2ms/step - loss: 0.5065 - val_loss: 0.4898\n",
            "Epoch 6/20\n",
            "294/294 [==============================] - 1s 2ms/step - loss: 0.4958 - val_loss: 0.4783\n",
            "Epoch 7/20\n",
            "294/294 [==============================] - 1s 2ms/step - loss: 0.4841 - val_loss: 0.4619\n",
            "Epoch 8/20\n",
            "294/294 [==============================] - 1s 2ms/step - loss: 0.4676 - val_loss: 0.4575\n",
            "Epoch 9/20\n",
            "294/294 [==============================] - 0s 2ms/step - loss: 0.4506 - val_loss: 0.4246\n",
            "Epoch 10/20\n",
            "294/294 [==============================] - 0s 2ms/step - loss: 0.4346 - val_loss: 0.4096\n",
            "Epoch 11/20\n",
            "294/294 [==============================] - 0s 2ms/step - loss: 0.4194 - val_loss: 0.4089\n",
            "Epoch 12/20\n",
            "294/294 [==============================] - 1s 2ms/step - loss: 0.4043 - val_loss: 0.3796\n",
            "Epoch 13/20\n",
            "294/294 [==============================] - 0s 2ms/step - loss: 0.3919 - val_loss: 0.3628\n",
            "Epoch 14/20\n",
            "294/294 [==============================] - 0s 2ms/step - loss: 0.3814 - val_loss: 0.3552\n",
            "Epoch 15/20\n",
            "294/294 [==============================] - 1s 2ms/step - loss: 0.3729 - val_loss: 0.3473\n",
            "Epoch 16/20\n",
            "294/294 [==============================] - 1s 2ms/step - loss: 0.3670 - val_loss: 0.3612\n",
            "Epoch 17/20\n",
            "294/294 [==============================] - 1s 2ms/step - loss: 0.3616 - val_loss: 0.3444\n",
            "Epoch 18/20\n",
            "294/294 [==============================] - 1s 2ms/step - loss: 0.3544 - val_loss: 0.3256\n",
            "Epoch 19/20\n",
            "294/294 [==============================] - 0s 2ms/step - loss: 0.3509 - val_loss: 0.3225\n",
            "Epoch 20/20\n",
            "294/294 [==============================] - 1s 2ms/step - loss: 0.3474 - val_loss: 0.3410\n"
          ]
        }
      ],
      "source": [
        "history = model.fit(X_train, y_train,\n",
        "                    epochs=20,\n",
        "                    batch_size=8,\n",
        "                    validation_data=(X_valid, y_valid))"
      ]
    },
    {
      "cell_type": "markdown",
      "id": "60eed35b",
      "metadata": {
        "id": "60eed35b"
      },
      "source": [
        "<a name=\"ModelEvaluation\"></a>\n",
        "## 模型評估（Model Evaluation）"
      ]
    },
    {
      "cell_type": "markdown",
      "id": "bfd3fee3",
      "metadata": {
        "id": "bfd3fee3"
      },
      "source": [
        "* ### 視覺化訓練過程的評估指標 （Visualization）"
      ]
    },
    {
      "cell_type": "code",
      "execution_count": 13,
      "id": "7938b5b7",
      "metadata": {
        "id": "7938b5b7",
        "outputId": "3ab7940d-bcf6-42c9-86e0-f05936aa719f",
        "colab": {
          "base_uri": "https://localhost:8080/"
        }
      },
      "outputs": [
        {
          "output_type": "stream",
          "name": "stdout",
          "text": [
            "dict_keys(['loss', 'val_loss'])\n"
          ]
        }
      ],
      "source": [
        "# type(history.history) = dictionary\n",
        "print(history.history.keys())"
      ]
    },
    {
      "cell_type": "code",
      "execution_count": 14,
      "id": "5e8f6770",
      "metadata": {
        "id": "5e8f6770"
      },
      "outputs": [],
      "source": [
        "train_loss = history.history['loss']\n",
        "valid_loss = history.history['val_loss']"
      ]
    },
    {
      "cell_type": "code",
      "execution_count": 15,
      "id": "25cc2846",
      "metadata": {
        "id": "25cc2846",
        "outputId": "bf95b961-5125-4be1-af40-6adbeb050bdc",
        "colab": {
          "base_uri": "https://localhost:8080/",
          "height": 249
        }
      },
      "outputs": [
        {
          "output_type": "display_data",
          "data": {
            "text/plain": [
              "<Figure size 1080x288 with 1 Axes>"
            ],
            "image/png": "[encoded data removed]"
          },
          "metadata": {
            "needs_background": "light"
          }
        }
      ],
      "source": [
        "plt.figure(figsize=(15, 4))\n",
        "plt.yscale('log')\n",
        "plt.plot(range(len(train_loss)), train_loss, label='train_loss')\n",
        "plt.plot(range(len(valid_loss)), valid_loss, label='valid_loss')\n",
        "\n",
        "plt.legend()\n",
        "plt.xlabel('Epochs')\n",
        "plt.ylabel('Loss')\n",
        "plt.show()"
      ]
    },
    {
      "cell_type": "markdown",
      "id": "505ba915",
      "metadata": {
        "id": "505ba915"
      },
      "source": [
        "* ### 模型預測（Model predictions）"
      ]
    },
    {
      "cell_type": "code",
      "execution_count": 16,
      "id": "267aabab",
      "metadata": {
        "id": "267aabab",
        "outputId": "8e81573b-ac58-4920-da2e-ad288d47ea80",
        "colab": {
          "base_uri": "https://localhost:8080/"
        }
      },
      "outputs": [
        {
          "output_type": "stream",
          "name": "stdout",
          "text": [
            "預測結果： [6.5391455 6.331247  6.367708  6.0646486 6.349239 ]\n",
            "目標值： [7.3414596  5.91434267 6.29165208 5.92219305 6.09744492]\n"
          ]
        }
      ],
      "source": [
        "y_pred = model(X_valid)\n",
        "print(f'預測結果： {y_pred[:5, 0]}')\n",
        "print(f'目標值： {y_valid[:5]}')"
      ]
    },
    {
      "cell_type": "markdown",
      "id": "39dca3ca",
      "metadata": {
        "id": "39dca3ca"
      },
      "source": [
        "* ### 視覺化結果"
      ]
    },
    {
      "cell_type": "code",
      "execution_count": 17,
      "id": "abb92318",
      "metadata": {
        "id": "abb92318",
        "outputId": "e514def1-b855-4a8e-de7e-7c64dea9669d",
        "colab": {
          "base_uri": "https://localhost:8080/",
          "height": 253
        }
      },
      "outputs": [
        {
          "output_type": "display_data",
          "data": {
            "text/plain": [
              "<Figure size 1080x288 with 1 Axes>"
            ],
            "image/png": "[encoded data removed]"
          },
          "metadata": {
            "needs_background": "light"
          }
        }
      ],
      "source": [
        "plt.figure(figsize=(15, 4))\n",
        "plt.plot(range(len(y_pred)), y_pred, label='prediction')\n",
        "plt.plot(range(len(y_valid)), y_valid, label='groundtruth')\n",
        "plt.plot(range(len(y_pred)), y_pred[:, 0]-y_valid, label='difference')\n",
        "\n",
        "plt.legend()\n",
        "plt.xlabel('Samples')\n",
        "plt.ylabel('Values')\n",
        "plt.show()"
      ]
    },
    {
      "cell_type": "code",
      "execution_count": 17,
      "id": "b3e3e6ad",
      "metadata": {
        "id": "b3e3e6ad"
      },
      "outputs": [],
      "source": []
    }
  ],
  "metadata": {
    "kernelspec": {
      "display_name": "Python 3 (ipykernel)",
      "language": "python",
      "name": "python3"
    },
    "language_info": {
      "codemirror_mode": {
        "name": "ipython",
        "version": 3
      },
      "file_extension": ".py",
      "mimetype": "text/x-python",
      "name": "python",
      "nbconvert_exporter": "python",
      "pygments_lexer": "ipython3",
      "version": "3.7.12"
    },
    "colab": {
      "provenance": []
    }
  },
  "nbformat": 4,
  "nbformat_minor": 5
}