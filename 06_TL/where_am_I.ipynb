{
  "cells": [
    {
      "cell_type": "code",
      "execution_count": 1,
      "id": "748447d1",
      "metadata": {
        "id": "748447d1"
      },
      "outputs": [],
      "source": [
        "import tensorflow as tf\n",
        "from glob import glob\n",
        "import numpy as np\n",
        "import matplotlib.pyplot as plt\n",
        "import os\n",
        "from PIL import Image\n",
        "from sklearn.model_selection import train_test_split"
      ]
    },
    {
      "cell_type": "markdown",
      "id": "1cf8437b",
      "metadata": {
        "id": "1cf8437b"
      },
      "source": [
        "#### Download dataset"
      ]
    },
    {
      "cell_type": "code",
      "execution_count": 2,
      "id": "09717ecc",
      "metadata": {
        "colab": {
          "base_uri": "https://localhost:8080/"
        },
        "id": "09717ecc",
        "outputId": "6e5b9d46-831a-4db1-fb2c-56c70d01ffb2"
      },
      "outputs": [
        {
          "output_type": "stream",
          "name": "stdout",
          "text": [
            "Looking in indexes: https://pypi.org/simple, https://us-python.pkg.dev/colab-wheels/public/simple/\n",
            "Requirement already satisfied: gdown in /usr/local/lib/python3.9/dist-packages (4.6.4)\n",
            "Requirement already satisfied: requests[socks] in /usr/local/lib/python3.9/dist-packages (from gdown) (2.27.1)\n",
            "Requirement already satisfied: beautifulsoup4 in /usr/local/lib/python3.9/dist-packages (from gdown) (4.11.2)\n",
            "Requirement already satisfied: tqdm in /usr/local/lib/python3.9/dist-packages (from gdown) (4.65.0)\n",
            "Requirement already satisfied: six in /usr/local/lib/python3.9/dist-packages (from gdown) (1.16.0)\n",
            "Requirement already satisfied: filelock in /usr/local/lib/python3.9/dist-packages (from gdown) (3.10.0)\n",
            "Requirement already satisfied: soupsieve>1.2 in /usr/local/lib/python3.9/dist-packages (from beautifulsoup4->gdown) (2.4)\n",
            "Requirement already satisfied: urllib3<1.27,>=1.21.1 in /usr/local/lib/python3.9/dist-packages (from requests[socks]->gdown) (1.26.15)\n",
            "Requirement already satisfied: certifi>=2017.4.17 in /usr/local/lib/python3.9/dist-packages (from requests[socks]->gdown) (2022.12.7)\n",
            "Requirement already satisfied: idna<4,>=2.5 in /usr/local/lib/python3.9/dist-packages (from requests[socks]->gdown) (3.4)\n",
            "Requirement already satisfied: charset-normalizer~=2.0.0 in /usr/local/lib/python3.9/dist-packages (from requests[socks]->gdown) (2.0.12)\n",
            "Requirement already satisfied: PySocks!=1.5.7,>=1.5.6 in /usr/local/lib/python3.9/dist-packages (from requests[socks]->gdown) (1.7.1)\n",
            "Downloading...\n",
            "From: https://drive.google.com/uc?id=1B6inr_JHXRTidFsSMqOGhJWJr_09hXdF\n",
            "To: /content/where_am_i.tar\n",
            "100% 89.9M/89.9M [00:00<00:00, 208MB/s]\n"
          ]
        }
      ],
      "source": [
        "!pip install --upgrade gdown\n",
        "!gdown --fuzzy 1B6inr_JHXRTidFsSMqOGhJWJr_09hXdF"
      ]
    },
    {
      "cell_type": "code",
      "execution_count": 3,
      "id": "9074dadc",
      "metadata": {
        "id": "9074dadc"
      },
      "outputs": [],
      "source": [
        "!tar xf where_am_i.tar"
      ]
    },
    {
      "cell_type": "markdown",
      "id": "82cc5e13",
      "metadata": {
        "id": "82cc5e13"
      },
      "source": [
        "#### Hyperparameters"
      ]
    },
    {
      "cell_type": "code",
      "execution_count": 4,
      "id": "ef739773",
      "metadata": {
        "id": "ef739773"
      },
      "outputs": [],
      "source": [
        "IMG_SIZE = 224\n",
        "BS = 64"
      ]
    },
    {
      "cell_type": "code",
      "execution_count": 5,
      "id": "3f314a4f",
      "metadata": {
        "colab": {
          "base_uri": "https://localhost:8080/"
        },
        "id": "3f314a4f",
        "outputId": "7fb58530-1377-4d02-b05a-708761898c9e"
      },
      "outputs": [
        {
          "output_type": "execute_result",
          "data": {
            "text/plain": [
              "({'CALsuburb': 9,\n",
              "  'PARoffice': 7,\n",
              "  'bedroom': 12,\n",
              "  'coast': 10,\n",
              "  'forest': 4,\n",
              "  'highway': 14,\n",
              "  'industrial': 2,\n",
              "  'insidecity': 3,\n",
              "  'kitchen': 0,\n",
              "  'livingroom': 5,\n",
              "  'mountain': 8,\n",
              "  'opencountry': 6,\n",
              "  'store': 11,\n",
              "  'street': 1,\n",
              "  'tallbuilding': 13},\n",
              " 15)"
            ]
          },
          "metadata": {},
          "execution_count": 5
        }
      ],
      "source": [
        "with open(\"mapping.txt\") as f:\n",
        "    lines = f.readlines()\n",
        "lines = [l.strip().replace(\" \", \"\") for l in lines]\n",
        "CLASS_MAP = {pair.split(\",\")[0]: int(pair.split(\",\")[1]) for pair in lines}\n",
        "\n",
        "NUM_CLASS = len(CLASS_MAP)\n",
        "CLASS_MAP, NUM_CLASS"
      ]
    },
    {
      "cell_type": "markdown",
      "id": "5bde9d7d",
      "metadata": {
        "id": "5bde9d7d"
      },
      "source": [
        "#### Build Dataset"
      ]
    },
    {
      "cell_type": "code",
      "execution_count": 6,
      "id": "ef2bdac6",
      "metadata": {
        "colab": {
          "base_uri": "https://localhost:8080/"
        },
        "id": "ef2bdac6",
        "outputId": "ffe3aeab-5f30-40fc-bcd3-c004a30e4eaf"
      },
      "outputs": [
        {
          "output_type": "execute_result",
          "data": {
            "text/plain": [
              "(2152, 539)"
            ]
          },
          "metadata": {},
          "execution_count": 6
        }
      ],
      "source": [
        "paths = glob(\"train/*/*.jpg\")\n",
        "train_paths, val_paths = train_test_split(paths, \n",
        "                                          test_size=0.2, \n",
        "                                          random_state=5566)\n",
        "\n",
        "len(train_paths), len(val_paths)"
      ]
    },
    {
      "cell_type": "code",
      "execution_count": 7,
      "id": "0f9fd26f",
      "metadata": {
        "colab": {
          "base_uri": "https://localhost:8080/",
          "height": 287
        },
        "id": "0f9fd26f",
        "outputId": "d6d4f55f-cb34-4d45-dfdc-b604503f8b8a"
      },
      "outputs": [
        {
          "output_type": "execute_result",
          "data": {
            "text/plain": [
              "((293, 220, 3), 'train/store/image_0159.jpg')"
            ]
          },
          "metadata": {},
          "execution_count": 7
        },
        {
          "output_type": "display_data",
          "data": {
            "text/plain": [
              "<Figure size 432x288 with 1 Axes>"
            ],
            "image/png": "[encoded data removed]"
          },
          "metadata": {
            "needs_background": "light"
          }
        }
      ],
      "source": [
        "path = np.random.choice(train_paths)\n",
        "img = np.array(Image.open(path).convert(\"RGB\"))\n",
        "plt.imshow(img)\n",
        "img.shape, path"
      ]
    },
    {
      "cell_type": "code",
      "execution_count": 8,
      "id": "331a428b",
      "metadata": {
        "id": "331a428b"
      },
      "outputs": [],
      "source": [
        "def paths2labels(paths):\n",
        "    return [CLASS_MAP[p.split(os.sep)[-2]] for p in paths]"
      ]
    },
    {
      "cell_type": "code",
      "execution_count": 9,
      "id": "be3193b4",
      "metadata": {
        "colab": {
          "base_uri": "https://localhost:8080/"
        },
        "id": "be3193b4",
        "outputId": "2a52f1f3-caa7-4083-80fa-0751fea341b4"
      },
      "outputs": [
        {
          "output_type": "execute_result",
          "data": {
            "text/plain": [
              "(['train/tallbuilding/image_0110.jpg',\n",
              "  'train/PARoffice/image_0178.jpg',\n",
              "  'train/insidecity/image_0151.jpg',\n",
              "  'train/store/image_0270.jpg',\n",
              "  'train/opencountry/image_0151.jpg',\n",
              "  'train/livingroom/image_0034.jpg',\n",
              "  'train/bedroom/image_0046.jpg',\n",
              "  'train/opencountry/image_0003.jpg',\n",
              "  'train/street/image_0150.jpg',\n",
              "  'train/opencountry/image_0049.jpg'],\n",
              " [13, 7, 3, 11, 6, 5, 12, 6, 1, 6])"
            ]
          },
          "metadata": {},
          "execution_count": 9
        }
      ],
      "source": [
        "train_paths[:10], paths2labels(train_paths)[:10]"
      ]
    },
    {
      "cell_type": "code",
      "execution_count": 10,
      "id": "52dff95a",
      "metadata": {
        "id": "52dff95a"
      },
      "outputs": [],
      "source": [
        "def load_and_resize_image(path):\n",
        "    image = tf.io.read_file(path)\n",
        "    image = tf.image.decode_jpeg(image, channels=3)\n",
        "    image = tf.image.resize(image, [IMG_SIZE, IMG_SIZE])\n",
        "    return image\n",
        "\n",
        "def build_ds(paths):\n",
        "    labels = paths2labels(paths)\n",
        "    image_ds = tf.data.Dataset.from_tensor_slices((paths, labels))\n",
        "    image_ds = image_ds.map(lambda path, label: (load_and_resize_image(path), label))\n",
        "    return image_ds"
      ]
    },
    {
      "cell_type": "code",
      "execution_count": 11,
      "id": "5b62bb1b",
      "metadata": {
        "colab": {
          "base_uri": "https://localhost:8080/"
        },
        "id": "5b62bb1b",
        "outputId": "7f366cf2-cc4e-44e5-b9dc-6af4e8063b35"
      },
      "outputs": [
        {
          "output_type": "stream",
          "name": "stderr",
          "text": [
            "WARNING:tensorflow:From /usr/local/lib/python3.9/dist-packages/tensorflow/python/autograph/pyct/static_analysis/liveness.py:83: Analyzer.lamba_check (from tensorflow.python.autograph.pyct.static_analysis.liveness) is deprecated and will be removed after 2023-09-23.\n",
            "Instructions for updating:\n",
            "Lambda fuctions will be no more assumed to be used in the statement where they are used, or at least in the same block. https://github.com/tensorflow/tensorflow/issues/56089\n"
          ]
        }
      ],
      "source": [
        "\n",
        "train_ds = build_ds(train_paths).shuffle(buffer_size=len(train_paths)).batch(BS)\n",
        "val_ds = build_ds(val_paths).batch(BS)"
      ]
    },
    {
      "cell_type": "markdown",
      "id": "f250a877",
      "metadata": {
        "id": "f250a877"
      },
      "source": [
        "#### Build Model"
      ]
    },
    {
      "cell_type": "code",
      "execution_count": 12,
      "id": "26a273bd",
      "metadata": {
        "id": "26a273bd"
      },
      "outputs": [],
      "source": [
        "class WAIModel(tf.keras.models.Model):\n",
        "    def __init__(self, encoder, preprocess, freeze):\n",
        "        super().__init__()\n",
        "        self.preprocess = preprocess\n",
        "        self.data_aug = tf.keras.Sequential([\n",
        "            tf.keras.layers.RandomFlip(\"horizontal\"),\n",
        "            tf.keras.layers.RandomRotation(0.1),\n",
        "        ])\n",
        "        self.encoder = encoder\n",
        "        self.classifier = tf.keras.Sequential([\n",
        "            tf.keras.layers.GlobalAveragePooling2D(),\n",
        "            tf.keras.layers.Dropout(0.2),\n",
        "            tf.keras.layers.Dense(NUM_CLASS),\n",
        "            tf.keras.layers.Softmax(),\n",
        "        ])\n",
        "        if freeze:\n",
        "            for l in self.encoder.layers:\n",
        "                l.trainable = False\n",
        "    def call(self, inputs, training=None):\n",
        "        x = self.preprocess(inputs)\n",
        "        if training:\n",
        "            x = self.data_aug(x)\n",
        "            \n",
        "        x = self.encoder(x, training)\n",
        "        x = self.classifier(x, training)\n",
        "        return x"
      ]
    },
    {
      "cell_type": "code",
      "execution_count": 13,
      "id": "bb4044db",
      "metadata": {
        "colab": {
          "base_uri": "https://localhost:8080/"
        },
        "id": "bb4044db",
        "outputId": "8d1359a1-e206-48fc-dc9a-368371ab213b"
      },
      "outputs": [
        {
          "output_type": "stream",
          "name": "stdout",
          "text": [
            "Downloading data from https://storage.googleapis.com/keras-applications/efficientnetb0_notop.h5\n",
            "16705208/16705208 [==============================] - 0s 0us/step\n"
          ]
        }
      ],
      "source": [
        "preprocess = tf.keras.applications.efficientnet.preprocess_input\n",
        "encoder = tf.keras.applications.efficientnet.EfficientNetB0(include_top=False, \n",
        "                                                            weights='imagenet')\n",
        "\n",
        "model = WAIModel(encoder, \n",
        "                 preprocess,\n",
        "                 freeze=True)"
      ]
    },
    {
      "cell_type": "code",
      "execution_count": 14,
      "id": "b64930a5",
      "metadata": {
        "id": "b64930a5"
      },
      "outputs": [],
      "source": [
        "model.compile(optimizer=tf.keras.optimizers.Adam(),\n",
        "              loss=tf.keras.losses.SparseCategoricalCrossentropy(),\n",
        "              metrics=[tf.keras.metrics.SparseCategoricalAccuracy()])"
      ]
    },
    {
      "cell_type": "markdown",
      "id": "7454fd36",
      "metadata": {
        "id": "7454fd36"
      },
      "source": [
        "#### Training"
      ]
    },
    {
      "cell_type": "code",
      "execution_count": 15,
      "id": "2a048808",
      "metadata": {
        "colab": {
          "base_uri": "https://localhost:8080/"
        },
        "id": "2a048808",
        "outputId": "4cb52e82-f324-4cb1-cde4-b8e6a2d93fcf"
      },
      "outputs": [
        {
          "output_type": "stream",
          "name": "stdout",
          "text": [
            "Epoch 1/20\n"
          ]
        },
        {
          "output_type": "stream",
          "name": "stderr",
          "text": [
            "WARNING:tensorflow:Using a while_loop for converting RngReadAndSkip cause there is no registered converter for this op.\n",
            "WARNING:tensorflow:Using a while_loop for converting Bitcast cause there is no registered converter for this op.\n",
            "WARNING:tensorflow:Using a while_loop for converting Bitcast cause there is no registered converter for this op.\n",
            "WARNING:tensorflow:Using a while_loop for converting StatelessRandomUniformV2 cause there is no registered converter for this op.\n",
            "WARNING:tensorflow:Using a while_loop for converting ImageProjectiveTransformV3 cause there is no registered converter for this op.\n",
            "WARNING:tensorflow:Using a while_loop for converting RngReadAndSkip cause there is no registered converter for this op.\n",
            "WARNING:tensorflow:Using a while_loop for converting Bitcast cause there is no registered converter for this op.\n",
            "WARNING:tensorflow:Using a while_loop for converting Bitcast cause there is no registered converter for this op.\n",
            "WARNING:tensorflow:Using a while_loop for converting StatelessRandomUniformV2 cause there is no registered converter for this op.\n",
            "WARNING:tensorflow:Using a while_loop for converting ImageProjectiveTransformV3 cause there is no registered converter for this op.\n",
            "WARNING:tensorflow:Using a while_loop for converting RngReadAndSkip cause there is no registered converter for this op.\n",
            "WARNING:tensorflow:Using a while_loop for converting Bitcast cause there is no registered converter for this op.\n",
            "WARNING:tensorflow:Using a while_loop for converting Bitcast cause there is no registered converter for this op.\n",
            "WARNING:tensorflow:Using a while_loop for converting StatelessRandomUniformV2 cause there is no registered converter for this op.\n",
            "WARNING:tensorflow:Using a while_loop for converting ImageProjectiveTransformV3 cause there is no registered converter for this op.\n"
          ]
        },
        {
          "output_type": "stream",
          "name": "stdout",
          "text": [
            "34/34 [==============================] - 46s 446ms/step - loss: 1.7450 - sparse_categorical_accuracy: 0.5297 - val_loss: 0.9961 - val_sparse_categorical_accuracy: 0.7922\n",
            "Epoch 2/20\n",
            "34/34 [==============================] - 14s 349ms/step - loss: 0.8124 - sparse_categorical_accuracy: 0.8141 - val_loss: 0.6023 - val_sparse_categorical_accuracy: 0.8609\n",
            "Epoch 3/20\n",
            "34/34 [==============================] - 14s 355ms/step - loss: 0.5559 - sparse_categorical_accuracy: 0.8704 - val_loss: 0.4731 - val_sparse_categorical_accuracy: 0.8683\n",
            "Epoch 4/20\n",
            "34/34 [==============================] - 14s 344ms/step - loss: 0.4508 - sparse_categorical_accuracy: 0.8871 - val_loss: 0.4106 - val_sparse_categorical_accuracy: 0.8813\n",
            "Epoch 5/20\n",
            "34/34 [==============================] - 14s 343ms/step - loss: 0.3897 - sparse_categorical_accuracy: 0.8964 - val_loss: 0.3737 - val_sparse_categorical_accuracy: 0.8850\n",
            "Epoch 6/20\n",
            "34/34 [==============================] - 14s 347ms/step - loss: 0.3347 - sparse_categorical_accuracy: 0.9057 - val_loss: 0.3449 - val_sparse_categorical_accuracy: 0.8905\n",
            "Epoch 7/20\n",
            "34/34 [==============================] - 14s 339ms/step - loss: 0.3111 - sparse_categorical_accuracy: 0.9136 - val_loss: 0.3287 - val_sparse_categorical_accuracy: 0.8924\n",
            "Epoch 8/20\n",
            "34/34 [==============================] - 15s 340ms/step - loss: 0.3005 - sparse_categorical_accuracy: 0.9154 - val_loss: 0.3114 - val_sparse_categorical_accuracy: 0.8924\n",
            "Epoch 9/20\n",
            "34/34 [==============================] - 14s 352ms/step - loss: 0.2631 - sparse_categorical_accuracy: 0.9275 - val_loss: 0.3031 - val_sparse_categorical_accuracy: 0.8942\n",
            "Epoch 10/20\n",
            "34/34 [==============================] - 14s 354ms/step - loss: 0.2589 - sparse_categorical_accuracy: 0.9191 - val_loss: 0.2867 - val_sparse_categorical_accuracy: 0.9054\n",
            "Epoch 11/20\n",
            "34/34 [==============================] - 14s 351ms/step - loss: 0.2517 - sparse_categorical_accuracy: 0.9261 - val_loss: 0.2844 - val_sparse_categorical_accuracy: 0.8980\n",
            "Epoch 12/20\n",
            "34/34 [==============================] - 14s 356ms/step - loss: 0.2265 - sparse_categorical_accuracy: 0.9368 - val_loss: 0.2728 - val_sparse_categorical_accuracy: 0.9017\n",
            "Epoch 13/20\n",
            "34/34 [==============================] - 13s 337ms/step - loss: 0.2035 - sparse_categorical_accuracy: 0.9493 - val_loss: 0.2734 - val_sparse_categorical_accuracy: 0.8998\n",
            "Epoch 14/20\n",
            "34/34 [==============================] - 14s 351ms/step - loss: 0.2103 - sparse_categorical_accuracy: 0.9410 - val_loss: 0.2663 - val_sparse_categorical_accuracy: 0.9091\n",
            "Epoch 15/20\n",
            "34/34 [==============================] - 14s 363ms/step - loss: 0.1948 - sparse_categorical_accuracy: 0.9470 - val_loss: 0.2628 - val_sparse_categorical_accuracy: 0.9109\n",
            "Epoch 16/20\n",
            "34/34 [==============================] - 14s 359ms/step - loss: 0.1845 - sparse_categorical_accuracy: 0.9517 - val_loss: 0.2602 - val_sparse_categorical_accuracy: 0.9091\n",
            "Epoch 17/20\n",
            "34/34 [==============================] - 14s 347ms/step - loss: 0.1778 - sparse_categorical_accuracy: 0.9526 - val_loss: 0.2592 - val_sparse_categorical_accuracy: 0.9109\n",
            "Epoch 18/20\n",
            "34/34 [==============================] - 14s 336ms/step - loss: 0.1693 - sparse_categorical_accuracy: 0.9521 - val_loss: 0.2554 - val_sparse_categorical_accuracy: 0.9091\n",
            "Epoch 19/20\n",
            "34/34 [==============================] - 15s 348ms/step - loss: 0.1577 - sparse_categorical_accuracy: 0.9535 - val_loss: 0.2525 - val_sparse_categorical_accuracy: 0.9128\n",
            "Epoch 20/20\n",
            "34/34 [==============================] - 14s 363ms/step - loss: 0.1645 - sparse_categorical_accuracy: 0.9470 - val_loss: 0.2514 - val_sparse_categorical_accuracy: 0.9184\n"
          ]
        },
        {
          "output_type": "execute_result",
          "data": {
            "text/plain": [
              "<keras.callbacks.History at 0x7fda3a35ea30>"
            ]
          },
          "metadata": {},
          "execution_count": 15
        }
      ],
      "source": [
        "model.fit(train_ds, \n",
        "          epochs=20, \n",
        "          validation_data=val_ds,\n",
        "          callbacks=[\n",
        "              tf.keras.callbacks.ModelCheckpoint(\"best.h5\",\n",
        "                                                 save_best_only=True,\n",
        "                                                 save_weights_only=True)\n",
        "          ])"
      ]
    },
    {
      "cell_type": "markdown",
      "id": "b0fbb7b1",
      "metadata": {
        "id": "b0fbb7b1"
      },
      "source": [
        "#### Test submission"
      ]
    },
    {
      "cell_type": "code",
      "execution_count": 16,
      "id": "c2ce297c",
      "metadata": {
        "id": "c2ce297c"
      },
      "outputs": [],
      "source": [
        "import pandas as pd"
      ]
    },
    {
      "cell_type": "code",
      "execution_count": 17,
      "id": "c1b732be",
      "metadata": {
        "id": "c1b732be"
      },
      "outputs": [],
      "source": [
        "model.load_weights(\"best.h5\")"
      ]
    },
    {
      "cell_type": "code",
      "execution_count": 18,
      "id": "35fdf2ac",
      "metadata": {
        "id": "35fdf2ac"
      },
      "outputs": [],
      "source": [
        "df = pd.read_csv(\"sample_submission.csv\")"
      ]
    },
    {
      "cell_type": "code",
      "execution_count": 19,
      "id": "da310451",
      "metadata": {
        "colab": {
          "base_uri": "https://localhost:8080/"
        },
        "id": "da310451",
        "outputId": "d6decc5f-6898-43d9-ca63-e34d08b9947c"
      },
      "outputs": [
        {
          "output_type": "execute_result",
          "data": {
            "text/plain": [
              "(                     id  class\n",
              " 0  12VJYE4AE85K3QZZIDGW      0\n",
              " 1  4XLB86I30GZZZEVZBM2O      0\n",
              " 2  TRS0Y4KQO74ET6A7POW8      0\n",
              " 3  0R4BF4JPJL4QG25GNJRH      0\n",
              " 4  YHQSSCEBEBB99DLIRTK8      0, 1794)"
            ]
          },
          "metadata": {},
          "execution_count": 19
        }
      ],
      "source": [
        "df.head(), len(df)"
      ]
    },
    {
      "cell_type": "code",
      "execution_count": 20,
      "id": "e0663417",
      "metadata": {
        "id": "e0663417"
      },
      "outputs": [],
      "source": [
        "test_paths = [os.path.join(f\"test/{name}.jpg\") for name in df[\"id\"].tolist()]\n",
        "test_ds = tf.data.Dataset.from_tensor_slices((test_paths))\n",
        "test_ds = test_ds.map(lambda path: load_and_resize_image(path)).batch(BS)"
      ]
    },
    {
      "cell_type": "code",
      "execution_count": 21,
      "id": "249f059c",
      "metadata": {
        "colab": {
          "base_uri": "https://localhost:8080/"
        },
        "id": "249f059c",
        "outputId": "17ca3fff-97d9-4ee6-aead-9f61904d6cbc"
      },
      "outputs": [
        {
          "output_type": "stream",
          "name": "stdout",
          "text": [
            "29/29 [==============================] - 5s 115ms/step\n"
          ]
        }
      ],
      "source": [
        "prediction = model.predict(test_ds)"
      ]
    },
    {
      "cell_type": "code",
      "execution_count": 22,
      "id": "fa912784",
      "metadata": {
        "id": "fa912784"
      },
      "outputs": [],
      "source": [
        "prediction = np.argmax(prediction, axis=-1)"
      ]
    },
    {
      "cell_type": "code",
      "execution_count": 23,
      "id": "3f929694",
      "metadata": {
        "id": "3f929694"
      },
      "outputs": [],
      "source": [
        "df[\"class\"] = prediction"
      ]
    },
    {
      "cell_type": "code",
      "execution_count": 24,
      "id": "7bd4303a",
      "metadata": {
        "id": "7bd4303a"
      },
      "outputs": [],
      "source": [
        "df.to_csv(\"submission.csv\", index=None)"
      ]
    },
    {
      "cell_type": "markdown",
      "id": "ceb9bc7c",
      "metadata": {
        "id": "ceb9bc7c"
      },
      "source": [
        "Public  Private\n",
        "\n",
        "0.92264 0.90529"
      ]
    },
    {
      "cell_type": "code",
      "source": [],
      "metadata": {
        "id": "BupnvZxTHEZp"
      },
      "id": "BupnvZxTHEZp",
      "execution_count": null,
      "outputs": []
    }
  ],
  "metadata": {
    "kernelspec": {
      "display_name": "Python 3 (ipykernel)",
      "language": "python",
      "name": "python3"
    },
    "language_info": {
      "codemirror_mode": {
        "name": "ipython",
        "version": 3
      },
      "file_extension": ".py",
      "mimetype": "text/x-python",
      "name": "python",
      "nbconvert_exporter": "python",
      "pygments_lexer": "ipython3",
      "version": "3.7.12"
    },
    "colab": {
      "provenance": []
    },
    "accelerator": "GPU",
    "gpuClass": "standard"
  },
  "nbformat": 4,
  "nbformat_minor": 5
}